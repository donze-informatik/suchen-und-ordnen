{
 "cells": [
  {
   "cell_type": "markdown",
   "metadata": {},
   "source": [
    "# Suchen\n",
    "\n",
    "Die ersten Algorithmen, mit denen Sie sich auseinanersetzen werden, dienen der Suche nach einem Wert in einer Liste.\n",
    "\n",
    "Bevor Sie sich mit Suchalgorithmen auseinandersetzen und ein Element in einer Liste suchen können, brauchen Sie Listen, welche die Werte enthalten, nach denen Sie suchen wollen. Da es viel interessanter ist, Listen automatisch zu erstellen, als sie manuell einzugeben, werden Sie in einem ersten Schritt ein paar interessante Listen erstellen.\n",
    "\n",
    "\n",
    "## Vorbereitungen\n",
    "\n",
    "Um nachher maximal von den Algorithmen profitieren zu können, sehen Sie sich nun kurz an, wie Sie interessante Listen erstellen und Zeitmessungen machen können.\n",
    "\n",
    "### Listen erstellen\n",
    "\n",
    "Sie wissen bereits, dass Sie eine Liste mit Werten initialisieren können.\n",
    "```Python\n",
    "nullen = [0 for x in range(10)]\n",
    "```\n",
    "erstellt eine Liste mit 10 Nullen (`for x in range 10` bedeutet, dass $x$ alle Werte von 0 bis und ohne 10 annimmt). Nach dem Ausführen dieser Zeile haben Sie eine neue Liste namens `nullen`, die 10 Nullen enthält:"
   ]
  },
  {
   "cell_type": "code",
   "execution_count": 1,
   "metadata": {},
   "outputs": [
    {
     "name": "stdout",
     "output_type": "stream",
     "text": [
      "[0, 0, 0, 0, 0, 0, 0, 0, 0, 0]\n"
     ]
    }
   ],
   "source": [
    "nullen = [0 for x in range(10)]\n",
    "print(nullen)"
   ]
  },
  {
   "cell_type": "markdown",
   "metadata": {},
   "source": [
    "Genauso wie Sie die Liste mit Nullen (fixen Werten) erstellt haben, können Sie auch eine Liste mit anderen Werten erstellen.\n",
    "\n",
    "```Python\n",
    "meine_liste = [x for x in range(10)]\n",
    "```\n",
    "wird eine Liste erstellen, die alle Werte von 0 bis 9 enthält.\n",
    "Probieren Sie's aus."
   ]
  },
  {
   "cell_type": "code",
   "execution_count": 2,
   "metadata": {},
   "outputs": [
    {
     "name": "stdout",
     "output_type": "stream",
     "text": [
      "[0, 1, 2, 3, 4, 5, 6, 7, 8, 9]\n"
     ]
    }
   ],
   "source": [
    "# Ihr Code\n",
    "#Lösung:\n",
    "meine_liste = [x for x in range(10)]\n",
    "print(meine_liste)"
   ]
  },
  {
   "cell_type": "markdown",
   "metadata": {},
   "source": [
    "**Aufgabe** \n",
    "\n",
    "Erstellen Sie zwei Listen namens gerade und ungerade, welche die ersten zehn geraden bzw. ungeraden Ganzzahlen enthalten."
   ]
  },
  {
   "cell_type": "code",
   "execution_count": 22,
   "metadata": {},
   "outputs": [
    {
     "name": "stdout",
     "output_type": "stream",
     "text": [
      "[0, 2, 4, 6, 8, 10, 12, 14, 16, 18]\n",
      "[1, 3, 5, 7, 9, 11, 13, 15, 17, 19]\n"
     ]
    }
   ],
   "source": [
    "# Ihr Code\n",
    "# Lösung:\n",
    "gerade = [2*x for x in range(10)]\n",
    "ungerade = [2*x + 1 for x in range(10)]\n",
    "print(gerade)\n",
    "print(ungerade)"
   ]
  },
  {
   "cell_type": "markdown",
   "metadata": {},
   "source": [
    "#### Zufallszahlen\n",
    "\n",
    "Natürlich sind solche Listen nicht unbedingt spannend. Deshalb wollen wir zuerst eine Liste aus Zufallszahlen generieren, weil wir uns mit Zufallszahlen das manuelle Erstellen von Listen ersparen können.\n",
    "\n",
    "Um \"Zufallszahlen\" zu erstellen, können Sie das Modul `random` verwenden, das Sie folgendermassen importieren können:\n",
    "```Python\n",
    "import random\n",
    "```\n",
    "\n",
    "Vielleicht ist Ihnen aufgefallen, dass der Begriff *Zufallszahlen* mit Gänsefüsschen versehen ist. Die mit `random` generierten Zufallszahlen sehen zwar aus, als wären sie zufällig entstanden, wurden aber mit einem Algorithmus generiert, der dieselben Werte liefert, wenn er mit dem gleichen Wert initialisiert wird, und sind somit nicht ganz so zufällig. Solange Sie keine sicherheitsrelevanten Anwendungen programmieren, können Sie bedenkenlos Pseudozufallszahlen verwenden.\n",
    "\n",
    "Das Modul `random` ([Dokumentation](https://docs.python.org/3/library/random.html)) liefert Ihnen unter anderem die folgenden Funktionen:\n",
    "* `rand()` erstellt einen zufälligen Float im Bereich `[0.0, 1.0)`, d.h. von 0.0 bis und ohne 1.0\n",
    "* `randint()` erstellt einen zufälligen Integer im Bereich `[0, 1]`, d.h. von 0 bis und mit 1\n",
    "* `shuffle()` mischt die Elemente einer Liste\n",
    "\n",
    "##### random.rand()\n",
    "\n",
    "Mit der Funktion `random.rand()` lassen sich zufällige Fliesskommazahlen im Bereich von 0.0 bis und ohne 1.0 generieren.\n",
    "\n",
    "##### random.randint()\n",
    "\n",
    "Mit der Funktion `random.randint()` lassen sich zufällige Ganzzahlen erstellen. Bei dieser Funktion ist der obere Rand des Bereichs, in dem die Zufallszahlen sein sollen, *inklusiv*. Wenn Sie also Werte im Bereich von 0 bis 10 generieren wollen, werden Werte aus dem Bereich von 0 *bis und mit* 10 generiert). \n",
    "\n",
    "Dabei ist *jede Zufallszahl in diesem Bereich gleich wahrscheinlich*. Es ist somit möglich, mit dem Befehl `random.randint(1,6)` einen Würfel zu simulieren. Die folgende Zelle zeigt die Verteilung:"
   ]
  },
  {
   "cell_type": "code",
   "execution_count": 23,
   "metadata": {},
   "outputs": [
    {
     "name": "stdout",
     "output_type": "stream",
     "text": [
      "[190, 190, 192, 206, 213, 209]\n"
     ]
    }
   ],
   "source": [
    "import random\n",
    "\n",
    "# In Zeile 8 den Range anpassen und 100, 1000, ... 1'000'000 Zufallszahlen generieren.\n",
    "# Die Liste rands enthält die Anzahl der Vorkommen der einzelnen Augenzahlen,\n",
    "# wobei sich die Vorkommen in der gleichen Grössenordnung befinden.\n",
    "\n",
    "rands = [0 for x in range(6)]\n",
    "for i in range (0, 1200): # <--- range anpassen...\n",
    "    rand = random.randint(1, 6)\n",
    "    if rand == 1:\n",
    "        rands[0]+=1  # rands[0] soll die Anzahl Einsen enthalten\n",
    "    elif rand == 2:\n",
    "        rands[1]+=1  # rands[1] soll die Anzahl Zweien enthalten\n",
    "    elif rand == 3:  \n",
    "        rands[2]+=1  # rands[2] soll die Anzahl Dreien enthalten\n",
    "    elif rand == 4:\n",
    "        rands[3]+=1  # rands[3] soll die Anzahl Vieren enthalten\n",
    "    elif rand == 5:  \n",
    "        rands[4]+=1  # rands[4] soll die Anzahl Fünfen enthalten\n",
    "    elif rand == 6:\n",
    "        rands[5]+=1  # rands[5] soll die Anzahl Sechsen enthalten\n",
    "        \n",
    "print(rands)"
   ]
  },
  {
   "cell_type": "markdown",
   "metadata": {},
   "source": [
    "##### random.shuffle()\n",
    "\n",
    "Mit der `random.shuffle()`-Funktion können Sie die Werte in einer Liste \"mischen\". \n",
    "\n",
    "**Aufgabe**\n",
    "Erstellen Sie eine Liste, die zehn geordnete Werte enthält. Geben Sie die erstellte Liste aus, mischen Sie sie und geben Sie die gemischte Liste ebenfalls aus.\n",
    "\n",
    "<details>\n",
    "    <summary>\n",
    "        Hinweise\n",
    "    </summary>\n",
    "\n",
    "- <i>Fehlermeldung:</i> Bei einem NameError: name 'random' is not defined:\n",
    "Denken Sie daran, das Modul `random` zu importieren: \n",
    "```Python\n",
    "import random\n",
    "```\n",
    "\n",
    "- Für die <i>Ausgabe</i> könenn Sie die Funktion `print()` verwenden.\n",
    "   \n",
    "- Wenn Sie, um die Liste mit Nullen zu initialisieren, für jedes Element im Bereich von 0 bis und ohne 10 den Wert 0 einsetzen können: \n",
    "```Python\n",
    "meine_liste = [0 for x in range(10)]\n",
    "```\n",
    "was müssen Sie denn einsetzen, um Werte von 0 bis und ohne 10 zu erhalten?\n",
    "    \n",
    "</details>"
   ]
  },
  {
   "cell_type": "code",
   "execution_count": 24,
   "metadata": {},
   "outputs": [
    {
     "name": "stdout",
     "output_type": "stream",
     "text": [
      "[1, 3, 0, 4, 6, 8, 7, 5, 9, 2]\n",
      "l original [0, 1, 2, 3, 4, 5, 6, 7, 8, 9]\n",
      "l gemischt [3, 1, 0, 9, 8, 2, 5, 6, 7, 4]\n"
     ]
    }
   ],
   "source": [
    "import random\n",
    "random.shuffle(meine_liste)\n",
    "print(meine_liste)\n",
    "\n",
    "l=[x for x in range(10)]\n",
    "print(\"l original\", l)\n",
    "random.shuffle(l)\n",
    "print(\"l gemischt\", l)"
   ]
  },
  {
   "cell_type": "markdown",
   "metadata": {},
   "source": [
    "### Zeitmessungen\n",
    "\n",
    "Um zu messen, wie lange die Ausführung Ihres Algorithmus dauert, können Sie mit der Funktion `time.time()` des Moduls `time` ([Dokumentation](https://docs.python.org/3/library/time.html#time.time)) einen Timer verwenden, den Sie am Anfang und am Ende des zu messenden Bereichs aufrufen. Die benötigte Zeit entspricht der Differenz dieser beiden Werte. Das Modul `time` bietet noch andere zeitbezogene Funktionen."
   ]
  },
  {
   "cell_type": "code",
   "execution_count": 25,
   "metadata": {},
   "outputs": [
    {
     "name": "stdout",
     "output_type": "stream",
     "text": [
      "Benötigte Zeit in Sekunden: 10.022882223129272\n"
     ]
    }
   ],
   "source": [
    "import time\n",
    "\n",
    "# Timer starten:\n",
    "startzeit = time.time() \n",
    "\n",
    "# Die Schleife wird 10mal durchlaufen. Bei jedem Durchgang wird 1 Sekunde gewartet.\n",
    "# Die Ausführung dieses Programms wird somit etwa 10 Sekunden dauern.\n",
    "for i in range(10):\n",
    "    time.sleep(1) \n",
    "    \n",
    "# Timer stoppen:\n",
    "endzeit = time.time()\n",
    "   \n",
    "print(\"Benötigte Zeit in Sekunden:\", (endzeit-startzeit)) "
   ]
  },
  {
   "cell_type": "markdown",
   "metadata": {},
   "source": [
    "## Suchalgorithmen\n",
    "\n",
    "Nun sind Sie gerüstet und können anfangen, Listen zu durchsuchen.\n",
    "\n",
    "### Lineare Suche\n",
    "\n",
    "Um ein Element in einer ungeordneten Liste zu finden, muss die Liste durchlaufen werden, \n",
    "bis das gesuchte Element gefunden wird.\n",
    "\n",
    "**Aufgabe**\n",
    "\n",
    "Suchen Sie in einer Liste ein Element.\n",
    "\n",
    "* Erstellen Sie eine Liste `unsortierte_liste`, welche die Ganzzahlen von 0 bis 19 enthält.\n",
    "* Mischen Sie die Liste.\n",
    "* Suchen Sie die Zahl 12 und merken Sie sich den Index, wo das Element war.\n",
    "* Geben Sie den Index aus. \n",
    "  Falls der Wert nicht in der Liste vorhanden ist, soll `-1` ausgegeben werden.\n",
    "\n",
    "<details>\n",
    "    <summary>\n",
    "        Hinweis\n",
    "    </summary>\n",
    "\n",
    "Sie haben den ersten Teil dieser Aufgabe weiter oben bereits gemacht.\n",
    "    \n",
    "</details>"
   ]
  },
  {
   "cell_type": "code",
   "execution_count": 30,
   "metadata": {},
   "outputs": [
    {
     "name": "stdout",
     "output_type": "stream",
     "text": [
      "[14, 7, 18, 4, 13, 11, 2, 8, 10, 9, 15, 5, 17, 16, 6, 1, 0, 3, 19, 12]\n",
      "Das gesuchte Element 12 befindet sich bei Index 19\n",
      "Benötigte Zeit in Sekunden: 0.000141143798828125\n"
     ]
    }
   ],
   "source": [
    "# Ihr Code\n",
    "\n",
    "# Lösung\n",
    "# Liste erstellen:\n",
    "suchliste = [x for x in range(20)]\n",
    "# Liste mischen\n",
    "random.shuffle(suchliste)\n",
    "# Liste ausgeben\n",
    "print(suchliste)\n",
    "\n",
    "# Liste durchgehen und am Ende den Index des gesuchten Eintrags ausgeben\n",
    "gesuchtes_element = 12  # Das Element, nach dem gesucht wird\n",
    "index_ges_element = -1\n",
    "\n",
    "# Timer starten:\n",
    "startzeit = time.time() \n",
    "\n",
    "for i in range(0,len(suchliste)):\n",
    "    if suchliste[i] == gesuchtes_element:\n",
    "        index_ges_element = i\n",
    "        \n",
    "# Timer stoppen:\n",
    "endzeit = time.time()\n",
    "\n",
    "print(\"Das gesuchte Element\", gesuchtes_element, \"befindet sich bei Index\", index_ges_element)\n",
    "print(\"Benötigte Zeit in Sekunden:\", (endzeit-startzeit)) "
   ]
  },
  {
   "cell_type": "markdown",
   "metadata": {},
   "source": [
    "In diesem Fall reicht es, das erste Element zu finden. \n",
    "\n",
    "Wie können Sie den Code optimieren, damit nicht unnötig Werte verglichen werden, wenn das Resultat bereits vorliegt?\n",
    "\n",
    "<details>\n",
    "    <summary>\n",
    "        Hinweis\n",
    "    </summary>\n",
    "\n",
    "Mit `break` können Sie eine Schleife verlassen...\n",
    "    \n",
    "</details>"
   ]
  },
  {
   "cell_type": "code",
   "execution_count": 27,
   "metadata": {},
   "outputs": [
    {
     "name": "stdout",
     "output_type": "stream",
     "text": [
      "Das gesuchte Element 12 befindet sich bei Index 12\n",
      "Benötigte Zeit in Sekunden: 0.00011706352233886719\n"
     ]
    }
   ],
   "source": [
    "# Ihr Code\n",
    "\n",
    "# Lösung\n",
    "# Liste durchgehen und am Ende den Index des gesuchten Eintrags ausgeben\n",
    "gesuchtes_element = 12  # Das Element, nach dem gesucht wird\n",
    "index_ges_element = -1\n",
    "\n",
    "# Timer starten:\n",
    "startzeit = time.time() \n",
    "\n",
    "\n",
    "for i in range(0,len(suchliste)):\n",
    "    if suchliste[i] == gesuchtes_element:\n",
    "        index_ges_element = i\n",
    "        break\n",
    "        \n",
    "# Timer stoppen:\n",
    "endzeit = time.time()\n",
    "\n",
    "print(\"Das gesuchte Element\", gesuchtes_element, \"befindet sich bei Index\", index_ges_element)\n",
    "print(\"Benötigte Zeit in Sekunden:\", (endzeit-startzeit)) "
   ]
  },
  {
   "cell_type": "markdown",
   "metadata": {},
   "source": [
    "Machen Sie nun Zeitmessungen. Um einen Effekt zu sehen, müssen Sie eine sehr lange Liste machen (100000 Elemente)."
   ]
  },
  {
   "cell_type": "code",
   "execution_count": 45,
   "metadata": {},
   "outputs": [
    {
     "name": "stdout",
     "output_type": "stream",
     "text": [
      "Das gesuchte Element 99999 befindet sich bei Index 99999\n",
      "Benötigte Zeit in Sekunden: 0.01196908950805664\n",
      "Das gesuchte Element 0 befindet sich bei Index 0\n",
      "Benötigte Zeit in Sekunden: 8.606910705566406e-05\n",
      "Vom schnellsten zum langsamsten Element liegt der Faktor: 139.06371191135733\n"
     ]
    }
   ],
   "source": [
    "# Ihr Code\n",
    "# Liste erstellen:\n",
    "suchliste = [x for x in range(100000)]\n",
    "# Liste mischen\n",
    "#random.shuffle(suchliste)\n",
    "# Liste ausgeben\n",
    "#print(suchliste)\n",
    "\n",
    "# Liste durchgehen und am Ende den Index des gesuchten Eintrags ausgeben\n",
    "gesuchtes_element = 99999  # Das Element, nach dem gesucht wird\n",
    "index_ges_element = -1\n",
    "\n",
    "# Timer starten:\n",
    "startzeit = time.time() \n",
    "\n",
    "for i in range(0,len(suchliste)):\n",
    "    if suchliste[i] == gesuchtes_element:\n",
    "        index_ges_element = i\n",
    "        \n",
    "# Timer stoppen:\n",
    "endzeit = time.time()\n",
    "\n",
    "dauer1 = endzeit - startzeit\n",
    "print(\"Das gesuchte Element\", gesuchtes_element, \"befindet sich bei Index\", index_ges_element)\n",
    "print(\"Benötigte Zeit in Sekunden:\", (dauer1)) \n",
    "\n",
    "\n",
    "\n",
    "# Lösung optimierter Algorithmus:\n",
    "# Liste durchgehen und am Ende den Index des gesuchten Eintrags ausgeben\n",
    "gesuchtes_element = 0  # Das Element, nach dem gesucht wird\n",
    "index_ges_element = -1\n",
    "\n",
    "# Timer starten:\n",
    "startzeit = time.time() \n",
    "\n",
    "for i in range(0,len(suchliste)):\n",
    "    if suchliste[i] == gesuchtes_element:\n",
    "        index_ges_element = i\n",
    "        break\n",
    "        \n",
    "# Timer stoppen:\n",
    "endzeit = time.time()\n",
    "\n",
    "dauer2 = endzeit-startzeit\n",
    "\n",
    "\n",
    "print(\"Das gesuchte Element\", gesuchtes_element, \"befindet sich bei Index\", index_ges_element)\n",
    "print(\"Benötigte Zeit in Sekunden:\", (dauer2))\n",
    "print(\"Vom schnellsten zum langsamsten Element liegt der Faktor:\", (dauer1/dauer2))\n"
   ]
  },
  {
   "cell_type": "markdown",
   "metadata": {},
   "source": [
    "### Binäre Suche\n",
    "\n",
    "Viel schneller lässt sich ein Element in einer *geordneten* Liste finden.\n",
    "\n",
    "Dazu kann der Suchbereich immer mehr **eingegrenzt** werden, bis das gesuchte Element gefunden ist.\n",
    "\n",
    "Nehmen Sie an, Ihre Liste ist *aufsteigend* sortiert.\n",
    "\n",
    "Solange Sie das gesuchte Element nicht gefunden haben oder noch Elemente in der Liste drin sind:  \n",
    "* Vergleichen Sie das Element in der Mitte der Liste mit dem gesuchten Wert.\n",
    "   * Haben Sie das gesuchte *Element gefunden*, sind Sie fertig.\n",
    "   * Ist das Element *kleiner* als der gesuchte Wert, fahren Sie mit der ersten Hälfte der Liste weiter.\n",
    "   * Ist es *grösser*, fahren Sie mit der zweiten Hälfe der Liste weiter.\n",
    "\n",
    "\n",
    "\n",
    "**Aufgabe**\n",
    "\n",
    "Machen Sie sich eine Liste, welche die Zahlen von 0 bis 99 enthält.\n",
    "\n",
    "Suchen Sie in dieser Liste nach einzelnen Elementen.\n",
    "\n",
    "Für Werte, die nicht in der Liste enthalten sind, soll der Wert `-1` ausgegeben werden.\n",
    "\n",
    "<details>\n",
    "    <summary>\n",
    "        Hinweis\n",
    "    </summary>\n",
    "\n",
    "Merken Sie sich, wie der Bereich der Liste abgegrenzt wird (linker und rechter Rand).\n",
    "</details>\n"
   ]
  },
  {
   "cell_type": "code",
   "execution_count": 29,
   "metadata": {},
   "outputs": [
    {
     "name": "stdout",
     "output_type": "stream",
     "text": [
      "Liste: [0, 1, 2, 3, 4, 5, 6, 7, 8, 9, 10, 11, 12, 13, 14, 15, 16, 17, 18, 19, 20, 21, 22, 23, 24, 25, 26, 27, 28, 29, 30, 31, 32, 33, 34, 35, 36, 37, 38, 39, 40, 41, 42, 43, 44, 45, 46, 47, 48, 49, 50, 51, 52, 53, 54, 55, 56, 57, 58, 59, 60, 61, 62, 63, 64, 65, 66, 67, 68, 69, 70, 71, 72, 73, 74, 75, 76, 77, 78, 79, 80, 81, 82, 83, 84, 85, 86, 87, 88, 89, 90, 91, 92, 93, 94, 95, 96, 97, 98, 99] \n",
      "gesuchter Wert: 12\n",
      "0 99\n",
      "Durchgang 0 links 0 rechts 99 mitte 49\n",
      "Durchgang 1 links 0 rechts 49 mitte 24\n",
      "Durchgang 2 links 0 rechts 24 mitte 12\n",
      "Mitte im Durchgang 2\n",
      "Wert 12 ist an der Stelle 12\n"
     ]
    }
   ],
   "source": [
    "liste = [x for x in range(100)]\n",
    "gesuchter_wert = 12\n",
    "print(\"Liste:\", liste, \"\\ngesuchter Wert:\", gesuchter_wert)\n",
    "\n",
    "\n",
    "links = 0\n",
    "rechts = len(liste) - 1\n",
    "print(liste[links], liste[rechts])\n",
    "\n",
    "# Ränder überprüfen\n",
    "if gesuchter_wert < liste[links] or gesuchter_wert > liste[rechts]:\n",
    "    print(\"keine Chance\")\n",
    "    index =  -1\n",
    "elif liste[links] == gesuchter_wert:\n",
    "    print(\"Rand links\")\n",
    "    index = links\n",
    "elif liste[rechts] == gesuchter_wert:\n",
    "    print(\"Rand rechts\")\n",
    "    index = rechts\n",
    "\n",
    "# Liste durchgehen, solange das Teilstück grösser ist als 1\n",
    "i = 0\n",
    "# index wird den Index des gesuchten Werts in de Liste erhalten. \n",
    "# Falls das Element nicht in der Liste vorhanden ist, soll index den Wert -1 haben.\n",
    "# Da der Wert überschrieben wird, sobald das gesuchte Element gefunden ist, könen wir\n",
    "# index gleich mit dem Wert -1 initialisieren\n",
    "index = -1 \n",
    "while (rechts - links) > 1:\n",
    "\n",
    "    # Die Mitte des neuen Teilbereichs bestimmen\n",
    "    mitte = (rechts + links) // 2\n",
    "    print(\"Durchgang\", i, \"links\", links, \"rechts\", rechts, \"mitte\", mitte)\n",
    "\n",
    "    # Da die Liste geordnet ist, können wir den Wert in der Mitte des neuen \n",
    "    # Teilbereichs mit dem gesuchten Wert vergleichen.\n",
    "    \n",
    "    # Sind die beiden Werte gleich, haben wir das Element gefunden und sind fertig\n",
    "    if liste[mitte] == gesuchter_wert:\n",
    "        print(\"Mitte im Durchgang\", i)\n",
    "        index = mitte\n",
    "        break\n",
    "    # Ist der Wert in der Mitte kleiner als das gesuchte Element, \n",
    "    # suchen wir rechts davon (die Mitte wird zum linken Rand des neuen Suchbereichs)\n",
    "    elif liste[mitte] < gesuchter_wert:\n",
    "        links = mitte\n",
    "    # Ansonsten suchen wir links von der Mitte (die Mitte wird zum rechten Rand des \n",
    "    # neuen Suchbereichs)\n",
    "    else:\n",
    "        rechts = mitte\n",
    "    # Da wir in einer while-Schleife sind, müssen wir die Laufvariable i noch anpassen\n",
    "    i += 1\n",
    "\n",
    "\n",
    "\n",
    "#index = binaere_suche(meine_liste, gesuchter_wert)\n",
    "if index >= 0:\n",
    "    print(\"Wert\", gesuchter_wert, \"ist an der Stelle\", index)\n",
    "else:\n",
    "    print(\"Der Wert\", gesuchter_wert, \"ist nicht in der Liste enthalten\")\n"
   ]
  },
  {
   "cell_type": "code",
   "execution_count": null,
   "metadata": {},
   "outputs": [],
   "source": []
  }
 ],
 "metadata": {
  "kernelspec": {
   "display_name": "Python 3",
   "language": "python",
   "name": "python3"
  },
  "language_info": {
   "codemirror_mode": {
    "name": "ipython",
    "version": 3
   },
   "file_extension": ".py",
   "mimetype": "text/x-python",
   "name": "python",
   "nbconvert_exporter": "python",
   "pygments_lexer": "ipython3",
   "version": "3.8.5"
  }
 },
 "nbformat": 4,
 "nbformat_minor": 4
}
