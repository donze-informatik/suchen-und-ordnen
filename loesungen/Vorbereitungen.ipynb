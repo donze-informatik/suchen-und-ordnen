{
 "cells": [
  {
   "cell_type": "markdown",
   "metadata": {},
   "source": [
    "# Vorbereitungen\n",
    "\n",
    "Um Ihre Algorithmen auf Listen anwenden zu können, möchten Sie interessante Listen zur Verfügung haben. Sie werden diese nun in einem ersten Schritt erstellen, da es viel angenehmer ist, Listen automatisch zu erstellen, als sie manuell zu erfassen.\n",
    "\n",
    "Da Sie sich auch für die Laufzeit der Algorithmen interessieren, brauchen Sie in einem ersten Schritt Messwerte. Sie werden hier erfahren, wie Sie Zeitmessungen machen können.\n",
    "\n",
    "## Listen erstellen\n",
    "\n",
    "Sie wissen bereits, wie Sie eine Liste mit Einheitswerten initialisieren können.\n",
    "\n",
    "Das Beispiel\n",
    "```Python\n",
    "nullen = [0 for x in range(10)]\n",
    "```\n",
    "erstellt eine Liste mit Namen `nullen`, die 10 Nullen enthält. (`for x in range 10` bedeutet, dass $x$ alle Werte von 0 bis und ohne 10 annimmt)."
   ]
  },
  {
   "cell_type": "code",
   "execution_count": 1,
   "metadata": {},
   "outputs": [],
   "source": [
    "nullen = [0 for x in range(10)]\n",
    "print(nullen)"
   ]
  },
  {
   "cell_type": "markdown",
   "metadata": {},
   "source": [
    "Anstelle eines Einheitswertes können Sie aber auch eine Formel verwenden. \n",
    "\n",
    "Genauso wie Sie die Liste mit fixen Werten (Nullen) erstellt haben, können Sie auch eine Liste mit anderen Werten erstellen, deren Werte mit einer Formel berechnet werden.\n",
    "\n",
    "Die Zeile\n",
    "```Python\n",
    "aufzaehlende_liste = [x for x in range(10)]\n",
    "```\n",
    "erstellt eine Liste namens `aufzaehlende_liste`, die alle Werte von 0 bis 9 enthält.\n",
    "Probieren Sie's aus."
   ]
  },
  {
   "cell_type": "code",
   "execution_count": 2,
   "metadata": {},
   "outputs": [],
   "source": [
    "# Ihr Code"
   ]
  },
  {
   "cell_type": "code",
   "execution_count": 3,
   "metadata": {},
   "outputs": [],
   "source": [
    "#Lösung:\n",
    "aufzaehlende_liste = [x for x in range(10)]\n",
    "print(aufzaehlende_liste)"
   ]
  },
  {
   "cell_type": "markdown",
   "metadata": {},
   "source": [
    "**Aufgabe** \n",
    "\n",
    "Erstellen Sie die beiden Listen `gerade` und `ungerade`, welche die ersten zehn geraden bzw. ungeraden Ganzzahlen ($\\in {\\rm I\\!N}_0$) enthalten."
   ]
  },
  {
   "cell_type": "code",
   "execution_count": 4,
   "metadata": {},
   "outputs": [],
   "source": [
    "# Ihr Code"
   ]
  },
  {
   "cell_type": "code",
   "execution_count": 5,
   "metadata": {},
   "outputs": [
    {
     "name": "stdout",
     "output_type": "stream",
     "text": [
      "gerade [0, 2, 4, 6, 8, 10, 12, 14, 16, 18]\n",
      "ungerade [1, 3, 5, 7, 9, 11, 13, 15, 17, 19]\n"
     ]
    }
   ],
   "source": [
    "# Lösung:\n",
    "gerade = [2*x for x in range(10)]\n",
    "ungerade = [2*x + 1 for x in range(10)]\n",
    "print(\"gerade\", gerade)\n",
    "print(\"ungerade\", ungerade)"
   ]
  },
  {
   "cell_type": "markdown",
   "metadata": {},
   "source": [
    "### Zufallszahlen\n",
    "\n",
    "Die soeben erstellten Listen sind geordnet. Vor allem wenn Sie Sortieralgorithmen testen wollen, werden Sie nicht nur sortierte Listen erstellen wollen. \n",
    "\n",
    "Sie können auch eine Liste erstellen, die \"Zufallszahlen\" enthalten.\n",
    "\n",
    "Dazu bietet sich das Modul `random` an. Sie können es folgendermassen importieren:\n",
    "```Python\n",
    "import random\n",
    "```\n",
    "\n",
    "#### Nützliche Funktionen des Moduls random\n",
    "\n",
    "Das Modul `random` ([Dokumentation](https://docs.python.org/3/library/random.html)) liefert Ihnen unter anderem die folgenden Funktionen:\n",
    "* `random()` erstellt einen zufälligen *Float* im Bereich `[0.0, 1.0)`, d.h. von 0.0 bis und ohne 1.0\n",
    "* `randint(a, b)` erstellt einen zufälligen *Integer* im Bereich `[a, b]`, d.h. von a bis und *mit* b\n",
    "* `shuffle(liste)` mischt die Elemente der Liste `liste`\n",
    "\n",
    "##### random.random()\n",
    "\n",
    "Mit der Funktion `random.random()` lassen sich zufällige Fliesskommazahlen im Bereich von 0.0 bis und ohne 1.0 generieren. Werden die Zahlen gerundet, kann dabei auch die Zahl 1.0 entstehen.\n",
    "\n",
    "Das folgende Beispiel generiert eine Liste mit zehn zufälligen Floatwerten im Bereich von 0.0 bis und ohne 1.0:"
   ]
  },
  {
   "cell_type": "code",
   "execution_count": 6,
   "metadata": {},
   "outputs": [
    {
     "name": "stdout",
     "output_type": "stream",
     "text": [
      "[0.44027752810041665, 0.8040846530205803, 0.6285548254023647, 0.6336327735549327, 0.460218909203044, 0.5176996491311295, 0.5787552005531023, 0.09196835598459097, 0.7685883707246464, 0.13610426926123498]\n"
     ]
    }
   ],
   "source": [
    "import random\n",
    "\n",
    "print([random.random() for x in range(10)])\n"
   ]
  },
  {
   "cell_type": "markdown",
   "metadata": {},
   "source": [
    "##### random.randint()\n",
    "\n",
    "Mit der Funktion `random.randint(a, b)` lassen sich zufällige Ganzzahlen (Integers) im Bereich von a bis und *mit* b generieren.\n",
    "\n",
    "Das folgende Beispiel generiert eine Liste mit 10 zufälligen Integern im Bereich von 1 bis und mit 100:"
   ]
  },
  {
   "cell_type": "code",
   "execution_count": 7,
   "metadata": {},
   "outputs": [
    {
     "name": "stdout",
     "output_type": "stream",
     "text": [
      "[69, 15, 53, 22, 27, 5, 13, 58, 14, 21]\n"
     ]
    }
   ],
   "source": [
    "print([random.randint(1, 100) for x in range(10)])"
   ]
  },
  {
   "cell_type": "markdown",
   "metadata": {},
   "source": [
    "###### Simulation eines Würfels\n",
    "\n",
    "Die generierten Zufallszahlen sind *uniform* verteilt. Das bedeutet, sie kommen alle etwa gleich oft vor, sind also gleich wahrscheinlich. \n",
    "\n",
    "Dies könenn Sie beispielsweise nutzen, um einen Würfel zu simulieren. \n",
    "\n",
    "Wenn Sie also 60 Zufallszahlen von 1 bis 6 generieren, wird jeder Wert etwa zehnmal auftreten. Je mehr Zahlen Sie erstellen, desto ähnlicher werden sich die Anzahl Vorkommen.\n",
    "\n",
    "Im folgenden Beispiel werden 6'000 Zufallszahlen generiert und anschliessend in die Liste `wuerfelzahlen` geschrieben. Sie dürfen erwarten, dass alle sechs Werte in `wuerfelzahlen` in der Grössenordnung 1000 sind."
   ]
  },
  {
   "cell_type": "code",
   "execution_count": 8,
   "metadata": {},
   "outputs": [
    {
     "name": "stdout",
     "output_type": "stream",
     "text": [
      "[990, 1011, 992, 1024, 974, 1008]\n"
     ]
    }
   ],
   "source": [
    "import random\n",
    "\n",
    "# In Zeile 8 den Range anpassen und 100, 1000, ... 1'000'000 \"Zufallszahlen\" generieren.\n",
    "# Die Liste rands enthält die Anzahl der Vorkommen der einzelnen Augenzahlen,\n",
    "# wobei sich die Vorkommen in der gleichen Grössenordnung befinden.\n",
    "\n",
    "wuerfelzahlen = [0 for x in range(6)]\n",
    "for i in range (1, 6000): # <--- range anpassen...\n",
    "    wurf = random.randint(1, 6)\n",
    "    if wurf == 1:\n",
    "        wuerfelzahlen[0]+=1  # wuerfelzahlen[0] entspricht der Anzahl Einsen\n",
    "    elif wurf == 2:\n",
    "        wuerfelzahlen[1]+=1  # wuerfelzahlen[1] entspricht der Anzahl Einsen\n",
    "    elif wurf == 3:  \n",
    "        wuerfelzahlen[2]+=1  # wuerfelzahlen[2] entspricht der Anzahl Einsen\n",
    "    elif wurf == 4:\n",
    "        wuerfelzahlen[3]+=1  # wuerfelzahlen[3] entspricht der Anzahl Einsen\n",
    "    elif wurf == 5:  \n",
    "        wuerfelzahlen[4]+=1  # wuerfelzahlen[4] entspricht der Anzahl Einsen\n",
    "    elif wurf == 6:\n",
    "        wuerfelzahlen[5]+=1  # wuerfelzahlen[5] entspricht der Anzahl Einsen\n",
    "        \n",
    "print(wuerfelzahlen)"
   ]
  },
  {
   "cell_type": "markdown",
   "metadata": {},
   "source": [
    "##### random.shuffle()\n",
    "\n",
    "Mit der `random.shuffle()`-Funktion können Sie die Werte in einer Liste \"mischen\". \n",
    "\n",
    "**Aufgabe**\n",
    "\n",
    "Erstellen Sie eine Liste, die zehn geordnete Werte enthält. Geben Sie die erstellte Liste aus, mischen Sie sie und geben Sie die gemischte Liste ebenfalls aus.\n",
    "\n",
    "<details>\n",
    "    <summary>\n",
    "        Hinweise\n",
    "    </summary>\n",
    "\n",
    "- <i>Fehlermeldung:</i> Bei einem NameError: name 'random' is not defined:\n",
    "Denken Sie daran, das Modul `random` zu importieren: \n",
    "```Python\n",
    "import random\n",
    "```\n",
    "\n",
    "- Für die <i>Ausgabe</i> könenn Sie die Funktion `print()` verwenden.\n",
    "   \n",
    "- Wenn Sie, um die Liste mit Nullen zu initialisieren, für jedes Element im Bereich von 0 bis und ohne 10 den Wert 0 einsetzen können: \n",
    "```Python\n",
    "meine_liste = [0 for x in range(10)]\n",
    "```\n",
    "was müssen Sie denn einsetzen, um Werte von 0 bis und ohne 10 zu erhalten?\n",
    "    \n",
    "</details>"
   ]
  },
  {
   "cell_type": "code",
   "execution_count": 9,
   "metadata": {},
   "outputs": [],
   "source": [
    "# Ihr Code"
   ]
  },
  {
   "cell_type": "code",
   "execution_count": 10,
   "metadata": {},
   "outputs": [
    {
     "name": "stdout",
     "output_type": "stream",
     "text": [
      "liste geordnet: [0, 1, 2, 3, 4, 5, 6, 7, 8, 9]\n",
      "liste gemischt: [9, 0, 2, 4, 7, 1, 8, 3, 5, 6]\n"
     ]
    }
   ],
   "source": [
    "import random\n",
    "\n",
    "liste = [x for x in range(10)]\n",
    "print(\"liste geordnet:\", liste)\n",
    "random.shuffle(liste)\n",
    "print(\"liste gemischt:\", liste)"
   ]
  },
  {
   "cell_type": "markdown",
   "metadata": {},
   "source": [
    "#### Pseudozufallszahlen\n",
    "Vielleicht ist Ihnen aufgefallen, dass der Begriff *Zufallszahlen* weiter oben mit Gänsefüsschen versehen ist. Die mit `random` generierten Zufallszahlen sehen zwar aus, als wären sie zufällig entstanden, wurden aber mit einem Algorithmus generiert, der dieselben Werte liefert, wenn er mit dem gleichen Wert initialisiert wird. Diese Zahlen sind dadurch nicht ganz so zufällig. Solange Sie keine sicherheitsrelevanten Anwendungen programmieren, können Sie bedenkenlos Pseudozufallszahlen verwenden.\n",
    "\n",
    "Mit der Funktion `random.seed()` lässt sich der Zufallszahlengenerator initialisieren. Initialisieren wir ihn mit einer Zahl (z.B. 12) und erstellen anschliessend 10 Zufallszahlen. Dies machen wir zweimal hintereinander. Was kommt dabei heraus?"
   ]
  },
  {
   "cell_type": "code",
   "execution_count": 11,
   "metadata": {},
   "outputs": [
    {
     "name": "stdout",
     "output_type": "stream",
     "text": [
      "[60, 34, 84, 67, 85, 44, 18, 48, 1, 47]\n",
      "[60, 34, 84, 67, 85, 44, 18, 48, 1, 47]\n"
     ]
    }
   ],
   "source": [
    "import random\n",
    "\n",
    "random.seed(12)\n",
    "print([random.randint(0,100) for x in range(10)])\n",
    "\n",
    "random.seed(12)\n",
    "print([random.randint(0,100) for x in range(10)])"
   ]
  },
  {
   "cell_type": "markdown",
   "metadata": {},
   "source": [
    "Es wird tatsächlich dieselbe Liste generiert. \n",
    "\n",
    "😱 Hoffentlich wird der Prüfcode, den Sie erhalten, wenn Sie sich ins Onlineportal Ihrer Bank einloggen, etwas weniger vorhersagbar generiert! Sie können sich nun vorstellen, weshalb Pseudozufallszahlen in sicherheitsrelevanten Applikationen nicht verwendet werden dürfen. "
   ]
  },
  {
   "cell_type": "markdown",
   "metadata": {},
   "source": [
    "### Zeitmessungen mit dem Modul `time`\n",
    "Um zu messen, wie lange die Ausführung Ihres Algorithmus dauert, können Sie mit der Funktion `time.time()` des Moduls `time` Zeitstempel abfragen. Sie können sich vorstellen, dass Sie am Anfang des zu messenden Bereichs einen Timer stellen und am Ende schauen, wieviel Zeit vergangen ist. Dazu rufen Sie zweimal die Funktion `time.time()` auf und ermitteln die Differenz dieser beiden Werte. \n",
    "\n",
    "Das Modul `time` bietet noch andere zeitbezogene Funktionen. \n",
    "\n",
    "**Beispiel**\n",
    "\n",
    "Um die Zeitmessung zu demonstrieren, wird die Funktion `time.sleep(d)` verwendet, wobei `d` der Dauer in Sekunden entspricht. \n",
    "\n",
    "Der Startwert wird in die Variable `startzeitpunkt` gespeichert, dann wird in einer Schleife zehnmal eine Sekunde lang gewartet und anschliessend wird der aktuelle Wert in die Variable `endzeitpunkt` gespeichert. Die Differenz der beiden Werte entspricht der vergangenen Dauer in Sekunden und wird ausgegeben.\n",
    "\n",
    "Da im Beispiel zehnmal eine Sekunde gewartet wird, liegt die Ausgabe leicht über zehn Sekunden."
   ]
  },
  {
   "cell_type": "code",
   "execution_count": 12,
   "metadata": {},
   "outputs": [
    {
     "name": "stdout",
     "output_type": "stream",
     "text": [
      "Benötigte Zeit in Sekunden: 10.029735803604126\n"
     ]
    }
   ],
   "source": [
    "import time\n",
    "\n",
    "# Startzeitpunkt erfassen:\n",
    "startzeitpunkt = time.time()\n",
    "\n",
    "for i in range(10):\n",
    "    time.sleep(1) \n",
    "    \n",
    "# Endzeitpunkt erfassen:\n",
    "endzeitpunkt = time.time()\n",
    "   \n",
    "print(\"Benötigte Zeit in Sekunden:\", (endzeitpunkt - startzeitpunkt)) "
   ]
  },
  {
   "cell_type": "code",
   "execution_count": null,
   "metadata": {},
   "outputs": [],
   "source": []
  }
 ],
 "metadata": {
  "kernelspec": {
   "display_name": "Python 3",
   "language": "python",
   "name": "python3"
  },
  "language_info": {
   "codemirror_mode": {
    "name": "ipython",
    "version": 3
   },
   "file_extension": ".py",
   "mimetype": "text/x-python",
   "name": "python",
   "nbconvert_exporter": "python",
   "pygments_lexer": "ipython3",
   "version": "3.8.5"
  }
 },
 "nbformat": 4,
 "nbformat_minor": 4
}
