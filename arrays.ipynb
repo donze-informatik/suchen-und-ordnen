{
 "cells": [
  {
   "cell_type": "markdown",
   "metadata": {},
   "source": [
    "# Arrays\n",
    "\n",
    "Arrays sind eine Datenstruktur, die es erlaubt, mehrere Elemente unter demselben Bezeichner abzulegen. Im Gegensatz dazu kann eine Variable genau einen Wert enthalten.\n",
    "\n",
    "Sie können sich Arrays vorstellen wie eine Schublade mit mehreren Fächern. Auf diese Fächer können Sie zugreifen und deren Inhalte auslesen oder verändern. Der Zugriff auf die einzelnen Elemente des Arrays erfolgt über Indizes, wobei das erste Element in den meisten Sprachen den Index 0 hat.\n",
    "\n",
    "Ein Array wird in eckigen Klammern geschrieben.\n",
    "\n",
    "## Arrays in Python: Listen\n",
    "\n",
    "Die Sprache Python bietet anstelle der üblichen Arrays **Listen** an. \n",
    "\n",
    "*In diesem Kurs wird von **Listen** gesprochen, wenn es darum geht, etwas konkret in Python umzusetzen. Sobald generell (ohne konkrete Umsetzung in Python) über Anwendungen gesprochen wird, wird der Begriff **Array** verwendet*.\n",
    "\n",
    "Speziell daran ist, dass sie Elemente verschiedener Datentypen enthalten dürfen, was in den meisten Sprachen nicht erlaubt ist. Ausserdem kann mit Listen nicht gerechnet werden. Es gibt aber Bibliotheken, die Arrays zur Verfügung stellen, mit denen gerechnet werden kann. Diese werden hier noch nicht verwendet.\n",
    "\n",
    "Merken Sie sich einfach folgendes:\n",
    "\n",
    "**In Python werden Arrays Listen genannt. Sie enthalten eine Sammlung von Elementen, die verändert werden kann.\n",
    "Die Elemente einer Liste müssen nicht zwingend vom gleichen Datentyp sein.**\n",
    "\n",
    "### Beispiele\n",
    "\n",
    "* Alphabet:  \n",
    "  ```Python \n",
    "  alphabet = [\"a\", \"b\", \"c\", \"d\", \"e\", \"f\", \"g\", \"h\", \"i\", \"j\", \"k\", \"l\", \"m\", \"n\", \"o\", \"p\", \"q\", \"r\", \"s\", \"t\", \"u\", \"v\", \"w\", \"x\", \"y\", \"z\"]\n",
    "```\n",
    "* Fünferreihe:  \n",
    "```Python \n",
    "fuenferreihe = [5, 10, 15, 20, 25, 30, 35, 40, 45, 50]\n",
    "```\n",
    "* Brüche ($\\frac{1}{2}$ bis $\\frac{1}{10}$) als Fliesskommazahlen:\n",
    "```Python \n",
    "alphabet = [0.5, 0.333, 0.25, 0.2, 0.1667, 0.143, 0.125, 0.111, 0.1]\n",
    "```\n",
    "* Aber auch das ist erlaubt:\n",
    "```Python \n",
    "bill_gates_geburtstag = [28, \"Oktober\", 1955]\n",
    "alan_turings_geburtstag = [23, \"Juni\", 1912]\n",
    "```"
   ]
  },
  {
   "cell_type": "markdown",
   "metadata": {},
   "source": [
    "### Erstellen einer Liste\n",
    "\n",
    "Listen werden mit eckigen Klammern geschrieben, die Elemente werden durch Kommata separiert.\n",
    "\n",
    "Die Namen (Bezeichner) der Listen fangen mit Kleinbuchstaben an. Das ist zwar nicht zwingend, aber da Ihr Code lesbar sein soll, sollten Sie sich von Anfang daran halten.\n",
    "\n",
    "**Aufgabe**\n",
    "\n",
    "Erstellen Sie eine Liste namens `dreierreihe`, welche die ersten zehn Elemente der Dreierreihe enthält.\n",
    "\n",
    "<details>\n",
    "   <summary>Hinweis 1</summary>\n",
    "\n",
    "Listen sind zwar keine Variablen, werden aber ebenfalls durch einen Bezeichner benannt. Diesem sind anstelle eines einzelnen Werts eine Sammlung von Elementen zugeordnet. </details>\n",
    "\n",
    "<details>\n",
    "   <summary>Hinweis 2</summary>\n",
    "\n",
    "Eine Listen namens `erste_buchstaben`, welche die Elemente \"A\" und \"B\" enthält, würde wie folgt erstellt:\n",
    "    \n",
    "```Python\n",
    "    erste_buchstaben = [\"A\", \"B\"]\n",
    "```\n",
    "</details>"
   ]
  },
  {
   "cell_type": "code",
   "execution_count": 5,
   "metadata": {},
   "outputs": [],
   "source": [
    "# Ihr Code"
   ]
  },
  {
   "cell_type": "code",
   "execution_count": 8,
   "metadata": {},
   "outputs": [],
   "source": [
    "# Lösung\n",
    "dreierreihe = [3, 6, 9, 12, 15, 18, 21, 24, 27, 30]"
   ]
  },
  {
   "cell_type": "markdown",
   "metadata": {},
   "source": [
    "### Ausgabe einer Liste\n",
    "\n",
    "Listen können mit der Funktion `print()` ausgegeben werden.\n",
    "\n",
    "**Aufgabe**\n",
    "\n",
    "Geben Sie Ihre Liste `dreierreihe` aus."
   ]
  },
  {
   "cell_type": "code",
   "execution_count": 9,
   "metadata": {},
   "outputs": [
    {
     "name": "stdout",
     "output_type": "stream",
     "text": [
      "[3, 6, 9, 12, 15, 18, 21, 24, 27, 30]\n"
     ]
    }
   ],
   "source": [
    "print(dreierreihe)"
   ]
  },
  {
   "cell_type": "markdown",
   "metadata": {},
   "source": [
    "### Leere Liste\n",
    "\n",
    "Eine Liste muss nicht zwingend ein Element enthalten.\n",
    "\n",
    "*Eine Liste, die kein Element enthält ist per Definition leer.*\n",
    "\n",
    "**Aufgabe**\n",
    "\n",
    "Erstellen Sie eine leere Liste namens `leere_liste` und geben Sie sie aus."
   ]
  },
  {
   "cell_type": "code",
   "execution_count": null,
   "metadata": {},
   "outputs": [],
   "source": [
    "# Ihr Code"
   ]
  },
  {
   "cell_type": "code",
   "execution_count": 11,
   "metadata": {},
   "outputs": [
    {
     "name": "stdout",
     "output_type": "stream",
     "text": [
      "[]\n"
     ]
    }
   ],
   "source": [
    "# Lösung\n",
    "leere_liste = []\n",
    "\n",
    "print(leere_liste)"
   ]
  },
  {
   "cell_type": "markdown",
   "metadata": {},
   "source": [
    "### Länge einer Liste\n",
    "\n",
    "Die Funktion `len()` gibt die Länge einer Liste zurück.\n",
    "\n",
    "Eine leere Liste hat die Länge 0.\n",
    "\n",
    "**Aufgabe**\n",
    "\n",
    "Überprüfen Sie die Längen der bisher erstellten Listen `dreierreihe` und `leere_liste`. Welche Ausgaben erwarten Sie? Schreiben Sie sie entweder als Kommentar neben den Code, machen Sie eine Zelle oder schreiben Sie ans Ende dieser Zelle.\n",
    "\n",
    "Nutzen Sie die Funktion `print()`, um die Längen auszugeben."
   ]
  },
  {
   "cell_type": "code",
   "execution_count": null,
   "metadata": {},
   "outputs": [],
   "source": [
    "# Ihr Code"
   ]
  },
  {
   "cell_type": "code",
   "execution_count": 14,
   "metadata": {},
   "outputs": [
    {
     "name": "stdout",
     "output_type": "stream",
     "text": [
      "0\n",
      "10\n"
     ]
    }
   ],
   "source": [
    "# Lösung\n",
    "\n",
    "# Die leere Liste sollte eine Länge von 0 haben\n",
    "print(len(leere_liste))\n",
    "\n",
    "# Die Liste dreierreihe sollte eine Länge von 10 haben\n",
    "print(len(dreierreihe))"
   ]
  },
  {
   "cell_type": "markdown",
   "metadata": {},
   "source": [
    "### Aufgabe\n",
    "\n",
    "Erstellen Sie eine Liste `monate`, welche die Namen der Monate enthält und geben Sie sie aus.\n",
    "\n",
    "Die Ausgabe soll folgendermassen aussehen:\n",
    "\n",
    "\\['Januar', 'Februar', 'März', 'April', 'Mai', 'Juni', 'Juli', 'August', 'September', 'Oktober', 'November', 'Dezember'\\]\n",
    "\n",
    "\n",
    "<details>\n",
    "    <summary>Hinweis</summary>\n",
    "\n",
    "Überlegen Sie sich, welchen Datentyp Sie für die Monatsnamen verwenden müssen.\n",
    "</details>"
   ]
  },
  {
   "cell_type": "code",
   "execution_count": null,
   "metadata": {},
   "outputs": [],
   "source": [
    "# Ihr Code"
   ]
  },
  {
   "cell_type": "code",
   "execution_count": 16,
   "metadata": {},
   "outputs": [
    {
     "name": "stdout",
     "output_type": "stream",
     "text": [
      "['Januar', 'Februar', 'März', 'April', 'Mai', 'Juni', 'Juli', 'August', 'September', 'Oktober', 'November', 'Dezember']\n"
     ]
    }
   ],
   "source": [
    "# Lösung\n",
    "\n",
    "# Bedenken Sie, dass Sie \n",
    "monate = [\"Januar\", \"Februar\", \"März\", \"April\", \"Mai\", \"Juni\", \"Juli\", \"August\", \"September\", \"Oktober\", \"November\", \"Dezember\"]\n",
    "\n",
    "# Die Liste dreierreihe sollte eine Länge von 10 haben\n",
    "print(monate)"
   ]
  },
  {
   "cell_type": "markdown",
   "metadata": {},
   "source": [
    "### Indizes\n",
    "\n",
    "Der **Zugriff auf Elemente einer Liste** erfolgt über Indizes. \n",
    "\n",
    "Das erste Element einer Liste `liste` hat den Index 0, das letzte den Index `len(liste)-1`.\n",
    "\n",
    "**Aufgabe**\n",
    "\n",
    "Geben Sie den ersten und den letzten Monat aus, indem Sie den folgenden Code ergänzen:"
   ]
  },
  {
   "cell_type": "code",
   "execution_count": 17,
   "metadata": {},
   "outputs": [
    {
     "name": "stdout",
     "output_type": "stream",
     "text": [
      "Das Jahr geht von  bis  .\n"
     ]
    }
   ],
   "source": [
    "# Ergänzen Sie den folgenden Code:\n",
    "\n",
    "erster_monat = ''\n",
    "letzter_monat = ''\n",
    "\n",
    "print(\"Das Jahr geht von\", erster_monat, \"bis\", letzter_monat + \".\")\n"
   ]
  },
  {
   "cell_type": "code",
   "execution_count": 20,
   "metadata": {},
   "outputs": [
    {
     "name": "stdout",
     "output_type": "stream",
     "text": [
      "Das Jahr geht von Januar bis Dezember.\n"
     ]
    }
   ],
   "source": [
    "# Lösung\n",
    "\n",
    "erster_monat = monate[0]\n",
    "letzter_monat = monate[len(monate)-1]\n",
    "\n",
    "print(\"Das Jahr geht von\", erster_monat, \"bis\", letzter_monat + \".\")\n"
   ]
  },
  {
   "cell_type": "markdown",
   "metadata": {},
   "source": [
    "### Zugriff vom Ende der Liste her\n",
    "\n",
    "Es ist auch möglich, mittels negativen Indizes von hinten her auf eine Liste zuzugreifen.\n",
    "\n",
    "Dabei entspricht das letzte Listenelement dem Index `-1`.\n",
    "\n",
    "```Python\n",
    "letzter_monat = monate[-1]\n",
    "print(letzter_monat)\n",
    "```\n",
    "Führt zur Ausgabe: `Dezember`."
   ]
  },
  {
   "cell_type": "code",
   "execution_count": 27,
   "metadata": {},
   "outputs": [],
   "source": [
    "# Probieren Sie es aus..."
   ]
  },
  {
   "cell_type": "markdown",
   "metadata": {},
   "source": [
    "### Zugriff auf Bereiche einer Liste mittels Teilbereichsoperator [start:stop:step]\n",
    "\n",
    "Es ist auch möglich, auf Bereiche einer Liste zuzugreifen. Listen lassen sich mit ':' aufteilen (splitten). Man spricht dabei auch von \"Slicing\".\n",
    "\n",
    "Der Teilbereichsoperator verwendet Defaultwerte (Standardwerte, die verwendet werden, wenn nichts anderes angegeben ist). Ist nichts angeben wird die ganze Liste mit einer Schrittlänge von `step=1` ausgegeben. `start` entspricht somit dem Index 0, `stop` der Länge. Somit entspricht `liste[:]`der ganzen Liste.\n",
    "\n",
    "\n",
    "\n",
    "Am Beispiel der Monate:\n",
    "\n",
    "* alle Monate:\n",
    "  ```Python \n",
    "  print(monate[:]) \n",
    "  ```  \n",
    "  Ausgabe: \\['Januar', 'Februar', 'März', 'April', 'Mai', 'Juni', 'Juli', 'August', 'September', 'Oktober', 'November', 'Dezember'\\]\n",
    "  \n",
    "* die zweite Jahreshälfte:  \n",
    "  ```Python \n",
    "  print(monate[len(monate)//2:]) \n",
    "  ```  \n",
    "  Ausgabe: \\['Juli', 'August', 'September', 'Oktober', 'November', 'Dezember'\\]\n",
    "\n",
    "**Aufgabe**\n",
    "\n",
    "Geben Sie die verlangten Teile Ihrer Liste `monate` mit der Funktion `print()` aus:\n",
    "\n",
    "a) Monate mit Jahreszeitwechsel:\n"
   ]
  },
  {
   "cell_type": "code",
   "execution_count": null,
   "metadata": {},
   "outputs": [],
   "source": [
    "# Ihr Code"
   ]
  },
  {
   "cell_type": "code",
   "execution_count": 34,
   "metadata": {},
   "outputs": [
    {
     "data": {
      "text/plain": [
       "['März', 'Juni', 'September', 'Dezember']"
      ]
     },
     "execution_count": 34,
     "metadata": {},
     "output_type": "execute_result"
    }
   ],
   "source": [
    "# Lösung Angefangen beim 3. Monat gibt es alle 3 Monate einen Jahreszeitenwechsel:\n",
    "monate[2::3]"
   ]
  },
  {
   "cell_type": "markdown",
   "metadata": {},
   "source": [
    "b) Jeden zweiten Monat, aber die mit den ungeraden Indizes:"
   ]
  },
  {
   "cell_type": "code",
   "execution_count": null,
   "metadata": {},
   "outputs": [],
   "source": [
    "# Ihr Code"
   ]
  },
  {
   "cell_type": "code",
   "execution_count": 35,
   "metadata": {},
   "outputs": [
    {
     "data": {
      "text/plain": [
       "['Januar', 'März', 'Mai', 'Juli', 'September', 'November']"
      ]
     },
     "execution_count": 35,
     "metadata": {},
     "output_type": "execute_result"
    }
   ],
   "source": [
    "# Lösung Angefangen beim 1. Monat gibt es alle 3 Monate einen Jahreszeitenwechsel:\n",
    "monate[::2]"
   ]
  },
  {
   "cell_type": "markdown",
   "metadata": {},
   "source": [
    "### Iteration (Listendurchlauf) \n",
    "\n",
    "Da die Listenelemente aufsteigend indiziert sind, bietet es sich an, Listen mit Schleifen zu durchlaufen, deren Laufvariablen den Indizes entsprechen. \n",
    "\n",
    "Nicht umsonst wird die Laufvariable oft mit `i` (für Index) bezeichnet...\n",
    "\n",
    "#### Repetition For-Schleife\n",
    "\n",
    "Erinnern Sie sich an die Syntax einer `for`-Schleife:\n",
    "```Python\n",
    "for laufvariable in range (erstes_element, letztes_element):\n",
    "    blabla\n",
    "```\n",
    "\n",
    "Beachten Sie:\n",
    "\n",
    "Die `laufvariable` durchläuft den Bereich `range` vom ersten *bis und ohne* das letzte Element, nimmt also die Werte `erstes_element` bis `letztes_element-1` an.\n",
    "\n",
    "\n",
    "\n",
    "**Aufgabe**\n",
    "\n",
    "Sie haben bereits die Liste `dreierreihe` erstellt. Durchlaufen Sie nun diese Liste (oft spricht man auch davon \"über eine Liste zu iterieren\") und geben Sie jedes Element aus."
   ]
  },
  {
   "cell_type": "code",
   "execution_count": 29,
   "metadata": {},
   "outputs": [],
   "source": [
    "# Ihr Code"
   ]
  },
  {
   "cell_type": "code",
   "execution_count": 36,
   "metadata": {},
   "outputs": [
    {
     "name": "stdout",
     "output_type": "stream",
     "text": [
      "3\n",
      "6\n",
      "9\n",
      "12\n",
      "15\n",
      "18\n",
      "21\n",
      "24\n",
      "27\n",
      "30\n"
     ]
    }
   ],
   "source": [
    "# Lösung\n",
    "\n",
    "for i in range(0, len(dreierreihe)):\n",
    "    print(dreierreihe[i])"
   ]
  },
  {
   "cell_type": "markdown",
   "metadata": {},
   "source": [
    "### Erstellen einer Liste mit Einheitswerten\n",
    "\n",
    "Oft ist es nützlich eine Liste mit einer vorgegeben Länge zu erstellen und diese mit Einheitswerten, beispielsweise Nullen, zu initialisieren.\n",
    "\n",
    "Dazu machen Sie sich den Listendurchlauf zunutze:\n",
    "\n",
    "```Python\n",
    "zehn_nullen = [0 for x in range(10)]\n",
    "print(zehn_nullen)\n",
    "```\n",
    "erstellt eine Liste mit zehn Nullen:\n",
    "\\[0, 0, 0, 0, 0, 0, 0, 0, 0, 0\\]\n",
    "\n",
    "Dieses Vorgehen wird Listenabstraktion (List Comprehension) genannt und ist besonders zum Erstellen grösserer Listen interessant.\n",
    "\n",
    "**Aufgabe**\n",
    "\n",
    "Erstellen Sie eine Liste, die fünfmal Ihre Lieblingszahl enthält."
   ]
  },
  {
   "cell_type": "code",
   "execution_count": 29,
   "metadata": {},
   "outputs": [],
   "source": [
    "# Ihr Code"
   ]
  },
  {
   "cell_type": "code",
   "execution_count": 38,
   "metadata": {},
   "outputs": [
    {
     "name": "stdout",
     "output_type": "stream",
     "text": [
      "[42, 42, 42, 42, 42]\n"
     ]
    }
   ],
   "source": [
    "# Lösung\n",
    "\n",
    "lieblingszahl = [42 for x in range (5)]\n",
    "print(lieblingszahl)"
   ]
  },
  {
   "cell_type": "markdown",
   "metadata": {},
   "source": [
    "### Erstellen einer Liste mit Werten, die anhand einer Funktion ermittelt werden\n",
    "\n",
    "Listenabstraktionen sind vor allem auch hilfreich, wenn die Liste Elemente enthalten soll, welche mit einer Funktion erstellt werden können.\n",
    "\n",
    "Anstelle des Einheitswertes kann die entsprechende Funktion eingesetzt werden.\n",
    "\n",
    "Eine aufsteigende Liste \n",
    "```Python\n",
    "aufsteigend = [x for x in range(10)]\n",
    "print(zehn_nullen)\n",
    "```\n",
    "erstellt eine Liste mit den Zahlen von 0 bis und ohne 10:\n",
    "\\[0, 1, 2, 3, 4, 5, 6, 7, 8, 9\\]\n",
    "\n",
    "**Aufgabe**\n",
    "\n",
    "Sortieralgorithmen möchte man oft auch an Arrays testen, die entweder dem Idealfall entsprechen (also sortiert sind) oder die schlimmstmögliche Ausgangslage darstellen (also umgekehrt sortiert sind: nicht zwei Elemente innerhalb des Arrays sind sortiert).\n",
    "\n",
    "Erstellen Sie eine absteigende Liste `absteigend`, die ebenfalls 10 Elemente enthält und geben Sie sie mit der `print()`-Funktion aus.\n",
    "\n",
    "<details>\n",
    "    <summary>Hinweis</summary>\n",
    "\n",
    "    Im Beispiel sehen Sie, wie eine aufsteigende Liste generiert wird: für jedes Element entspricht der Wert dem Index `x`.\n",
    "</details>"
   ]
  },
  {
   "cell_type": "code",
   "execution_count": 29,
   "metadata": {},
   "outputs": [],
   "source": [
    "# Ihr Code"
   ]
  },
  {
   "cell_type": "code",
   "execution_count": 40,
   "metadata": {},
   "outputs": [
    {
     "name": "stdout",
     "output_type": "stream",
     "text": [
      "[9, 8, 7, 6, 5, 4, 3, 2, 1, 0]\n"
     ]
    }
   ],
   "source": [
    "# Lösung\n",
    "\n",
    "absteigend = [9-x for x in range (10)]\n",
    "print(absteigend)"
   ]
  },
  {
   "cell_type": "markdown",
   "metadata": {},
   "source": [
    "### TO-DOs:\n",
    "\n",
    "* Was passiert, wenn wir einen Wert des Arrays nicht definieren?\n",
    "\n",
    "* Strings (verhalten sich wie Listen)\n",
    "\n",
    "* Funktion Enumerate\n",
    "\n",
    "* Hinweis, dass Verschachtelungen ok sind, aber wir nun lieber noch nicht soweit sind.\n",
    "\n",
    "* Kartenaufgabe (oder ähnlich): ideal zum Anknüpfen beim Sortierteil\n",
    "\n"
   ]
  },
  {
   "cell_type": "markdown",
   "metadata": {},
   "source": [
    "### Strings\n",
    "\n",
    "Strings, also Zeichenketten, verhalten sich genauso wie Listen.\n",
    "\n",
    "Dies ist interessant, da es dadurch möglich ist, auf einzelne Buchstaben (Elemente) des Strings zuzugreifen. Der erste Buchstabe ist wie bei der Liste am Index 0.\n",
    "\n",
    "Das folgende Beispiel gibt eine Initiale aus.\n",
    "\n",
    "```Python\n",
    "mein_name = \"\"\n",
    "meine_initiale = mein_name[0]\n",
    "print(meine_initiale)\n",
    "```\n",
    "**Aufgabe**\n",
    "\n",
    "Fragen Sie die Benutzerin (den Benutzer) nach seinem (ihrem) Namen und geben Sie anschliessend die Initiale aus."
   ]
  },
  {
   "cell_type": "code",
   "execution_count": null,
   "metadata": {},
   "outputs": [],
   "source": [
    "# Ihr Code"
   ]
  },
  {
   "cell_type": "code",
   "execution_count": 43,
   "metadata": {},
   "outputs": [
    {
     "name": "stdout",
     "output_type": "stream",
     "text": [
      "Dein Name: Mami\n",
      "Deine Initiale: M\n"
     ]
    }
   ],
   "source": [
    "name = input(\"Dein Name: \")\n",
    "initiale = name[0]\n",
    "print(\"Deine Initiale:\", initiale)"
   ]
  },
  {
   "cell_type": "markdown",
   "metadata": {},
   "source": [
    "Auch die Länge eines Wortes oder eines Satzes lässt sich wie im Falle der Liste mit der Funktion `len()` ermitteln."
   ]
  },
  {
   "cell_type": "markdown",
   "metadata": {},
   "source": [
    "**Zusatzinformation zu Strings**\n",
    "\n",
    "Mit den Funktionen `upper()` und `lower()` können Buchstaben in Gross- bzw. Kleinschreibung umgewandelt werden. Dies hat zwar nichts mit Listen zu tun, kann aber hilfreich sein, beispielsweise, wenn Sie sicherstellen möchten, dass jedes Wort grossgeschrieben ist.\n",
    "\n",
    "Die Funktionen `isupper()` und `islower()` liefern Booleans zurück, die sagen, ob es sich um einen Gross- bzw. Kleinbuchstaben handelt.\n",
    "\n",
    "```Python\n",
    "zeichen1 = \"a\"\n",
    "zeichen1.isupper()  # gibt False zurück\n",
    "zeichen1.islower()  # gibt True zurück\n",
    "zeichen1.upper()    # ändert den Inhalt der Variable zeichen1 auf `A`\n",
    "\n",
    "zeichen2 = \"B\"\n",
    "zeichen2.isupper()  # gibt True zurück\n",
    "zeichen2.islower()  # gibt False zurück\n",
    "zeichen2.lower()    # ändert den Inhalt der Variable zeichen2 auf `b`\n",
    "```"
   ]
  },
  {
   "cell_type": "code",
   "execution_count": 55,
   "metadata": {},
   "outputs": [
    {
     "data": {
      "text/plain": [
       "'b'"
      ]
     },
     "execution_count": 55,
     "metadata": {},
     "output_type": "execute_result"
    }
   ],
   "source": []
  },
  {
   "cell_type": "code",
   "execution_count": null,
   "metadata": {},
   "outputs": [],
   "source": []
  }
 ],
 "metadata": {
  "kernelspec": {
   "display_name": "Python 3",
   "language": "python",
   "name": "python3"
  },
  "language_info": {
   "codemirror_mode": {
    "name": "ipython",
    "version": 3
   },
   "file_extension": ".py",
   "mimetype": "text/x-python",
   "name": "python",
   "nbconvert_exporter": "python",
   "pygments_lexer": "ipython3",
   "version": "3.8.5"
  }
 },
 "nbformat": 4,
 "nbformat_minor": 4
}
