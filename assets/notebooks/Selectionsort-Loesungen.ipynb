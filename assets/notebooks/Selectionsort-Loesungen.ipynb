{
 "cells": [
  {
   "cell_type": "markdown",
   "metadata": {},
   "source": [
    "# Selection Sort\n",
    "\n",
    "**Sortieren durch Suchen** ist ein sehr einfacher Algorithmus. \n",
    "\n",
    "## Funktionsweise\n",
    "\n",
    "**Aufgabe 1 – Funktionsweise von Selection Sort**\n",
    "\n",
    "Schauen Sie sich die folgende Animation von [visualgo.net](https://visualgo.net/en/sorting?slide=8) an und beschreiben Sie den Selection-Sort-Algorithmus in eigenen Worten.\n",
    "\n",
    "*Um den Videoclip sehen zu können, müssen Sie allenfalls die folgende Zelle ausführen.*"
   ]
  },
  {
   "cell_type": "code",
   "execution_count": 1,
   "metadata": {},
   "outputs": [
    {
     "data": {
      "text/html": [
       "\n",
       "        <iframe\n",
       "            width=\"560\"\n",
       "            height=\"315\"\n",
       "            src=\"https://www.youtube.com/embed/3wdko9svsAM?rel=0&amp;controls=0&amp;showinfo=0\"\n",
       "            frameborder=\"0\"\n",
       "            allowfullscreen\n",
       "        ></iframe>\n",
       "        "
      ],
      "text/plain": [
       "<IPython.lib.display.IFrame at 0x7fbdbe794a60>"
      ]
     },
     "execution_count": 1,
     "metadata": {},
     "output_type": "execute_result"
    }
   ],
   "source": [
    "# Führen Sie diese Zelle aus, um den Videoclip sehen zu können.\n",
    "\n",
    "import IPython\n",
    "\n",
    "IPython.display.IFrame(src=\"https://www.youtube.com/embed/cBDejTyxyh8?rel=0&amp;controls=0&amp;showinfo=0\", width=560, height=315)"
   ]
  },
  {
   "cell_type": "code",
   "execution_count": null,
   "metadata": {},
   "outputs": [],
   "source": [
    "# Machen Sie aus dieser Zelle eine Markdownzelle und \n",
    "# beschreiben Sie den Selection-Sort-Algorithmus in eigenen Worten."
   ]
  },
  {
   "cell_type": "markdown",
   "metadata": {},
   "source": [
    "Lösung:  \n",
    "Beim Selection Sort wird der zu sortierende Array in zwei Bereiche aufgeteilt, von denen der vordere Teil sortiert ist und der hintere Teil unsortiert, wobei am Anfang der ganze Array als unsortiert angesehen wird.\n",
    "\n",
    "Für jedes einzusortierende Element wird im unsortierten Bereich das kleinste (bzw. grösste) Element gesucht. Wenn es gefunden ist, wird es mit dem vordersten Element des unsortierten Bereichs getauscht, wobei der sortierte Bereich um das neu eingefügte Element wächst, während der unsortierte Bereich um ein Element kleiner wird."
   ]
  },
  {
   "cell_type": "markdown",
   "metadata": {},
   "source": [
    "## Implementation\n",
    "\n",
    "Nun möchten Sie Selection Sort implementieren. Dazu müssen Sie sich zwei Dinge überlegen:\n",
    "\n",
    "* Tausch zweier Listenelemente\n",
    "* Suchen des Minimums/Maximums einer Liste\n",
    "\n",
    "### Stellentausch\n",
    "\n",
    "\n",
    "Da beim Einsortieren der Elemente jeweils zwei Elemente des Liste getauscht werden, müssen Sie sich vorher Gedanken dazu machen, wie Sie die Plätze tauschen können.\n",
    "\n",
    "Der Tausch zweier Listenplätze funktioniert genauso wie der Tausch zweier Variablen.\n",
    "\n",
    "#### Variabeltausch\n",
    "\n",
    "Stellen Sie sich vor, Sie haben zwei Variablen `a` und `b`. \n",
    "\n",
    "Wenn Sie nun der Variable `a` den Wert der Variable `b` zuweisen, haben beide Variablen denselben Wert und Sie haben den ursprünglichen Wert der Variable `a` verloren.\n",
    "\n",
    "Sie müssen also eine Lösung finden, wie Sie den Wert der Variable `a` nicht verlieren, wenn Sie den Wert der Variable `b` in die Variable `a` schreiben.\n",
    "\n",
    "Sie haben jederzeit die Möglichkeit, neue Variablen zu erstellen und können den Wert der Variable `a` problemlos in einer neuen Variable zwischenspeichern. Diese neue Variable nennt man **Hilfsvariable**. Da sie nur vorübergehend, also *temporär* genutzt wird, nennt man sie in der Regel `temp`. Sie können Sie aber auch `c` nennen oder `luisa` oder `adrian`.\n",
    "\n",
    "Der Variabeltausch wird folgendermassen implementiert:\n",
    "\n",
    "```Python\n",
    "a = 3\n",
    "b = 5\n",
    "\n",
    "temp = a # Hilfsvariable\n",
    "# nun ist der Wert der Variable a nicht verloren (sondern in temp gespeichert) und Sie können a einen neuen Wert zuweisen:\n",
    "a = b\n",
    "b = a\n",
    "```\n",
    "\n",
    "#### Platztausch im Array/in der Liste\n",
    "\n",
    "Wenn Sie in einem Array oder hier spezifisch in Ihrer Liste zwei Plätze tauschen wollen, gehen sie genauso vor wie wenn Sie zwei Variabeln tauschen möchten, mit dem einzigen Unterschied, dass Sie nun keine Variablen haben, sondern Listenelemente, auf die Sie, über die Indizes zugreifen.\n",
    "\n",
    "**Aufgabe**\n",
    "\n",
    "Implementieren Sie für den \"Platztausch\", oft auch \"Swap\" genannt, eine Funktion `swap()`. Sie soll eine Liste und zwei Elemente entgegennehmen.\n",
    "\n",
    "Erstellen Sie dann eine Liste und testen Sie Ihre Funktion `swap()` , indem Sie das erste und das letzte Element Ihrer Liste vertauschen und die Liste anschliessend mit `print()` ausgeben.\n",
    "\n",
    "<details>\n",
    "    <summary>\n",
    "        Hinweis 1\n",
    "    </summary>\n",
    "\n",
    "Implementieren Sie zuerst analog zum Variabeltausch den Platztausch und machen Sie in einem zweiten Schritt eine Funktion daraus.    \n",
    "</details>"
   ]
  },
  {
   "cell_type": "code",
   "execution_count": null,
   "metadata": {},
   "outputs": [],
   "source": [
    "# Ihr Code..."
   ]
  },
  {
   "cell_type": "code",
   "execution_count": 4,
   "metadata": {},
   "outputs": [
    {
     "name": "stdout",
     "output_type": "stream",
     "text": [
      "[4, 1, 2, 3, 0]\n"
     ]
    }
   ],
   "source": [
    "# Lösung:\n",
    "\n",
    "def swap(liste, index1, index2):\n",
    "    temp = liste[index1]\n",
    "    liste[index1] = liste[index2]\n",
    "    liste[index2] = temp\n",
    "    \n",
    "# Liste a erstellen\n",
    "a = [x for x in range(5)]\n",
    "# swap anwenden\n",
    "swap(a, 0, len(a)-1)\n",
    "# Liste a ausgeben\n",
    "print(a)"
   ]
  },
  {
   "cell_type": "markdown",
   "metadata": {},
   "source": [
    "### Das Minimum/Maximum einer Liste finden\n",
    "\n",
    "Um es vorwegzunehmen, es gibt in Python die Möglichkeit, das kleinste bzw. grösste Element einer Liste zu finden (Funktionen `min()` bzw. `max()`) und es gibt auch die Möglichkeit, den Index eines Elementes in einer Liste auszugeben. Es geht hier aber darum, dass Sie den Umgang mit Listen üben. Deshalb werden Sie die Suche nach dem kleinsten Element nun selbst schreiben.\n",
    "\n",
    "Schauen Sie sich weiter oben noch einmal die Animation von Visualgo.net an. Bei jedem Durchlaufen des unsortierten Bereichs wird das erste Element rot markiert. Es ist das Minimum (oder jenachdem das Maximum). Dieses Element wird mit jedem Element des unsortierten Bereichs vergleichen. Dabei wird jeweils überprüft, ob das aktuelle Element noch kleiner (oder grösser) als das bereits als Minimum (oder Maximum) markierte Element ist und wenn nötig wird das neue Element zum neuen Minimum (oder Maximum). Das Element, das am Ende des Durchgangs immer noch markiert ist, ist das Element, das beim Sortieren als nächstes an den sortierten Bereich angehängt wird.\n",
    "\n",
    "**Aufgabe 2 – Minimum in einer Liste finden**\n",
    "\n",
    "Schreiben Sie eine Funktion `suche_min()`, die eine Liste durchläuft und den Index des Minimums (also des kleinsten Werts in der Liste) herausgibt.\n",
    "\n",
    "Ihre Funktion `suche_min()` soll eine Liste entgegennehmen und den Index des kleinsten Elements ausgeben.\n",
    "\n",
    "Testen Sie anschliessend Ihre Funktion an einer Liste von Zufallswerten.\n",
    "\n",
    "<details>\n",
    "    <summary>\n",
    "        Hinweis 1\n",
    "    </summary>\n",
    "\n",
    "Falls Sie nicht mehr wissen, wie Sie eine Liste von Zufallswerten erstellen können:\n",
    "```Python\n",
    "import random\n",
    "    \n",
    "list = [random.randint(1,100) for x in range(10)]\n",
    "```\n",
    "</details>"
   ]
  },
  {
   "cell_type": "code",
   "execution_count": null,
   "metadata": {},
   "outputs": [],
   "source": [
    "# Ihr Code..."
   ]
  },
  {
   "cell_type": "code",
   "execution_count": 25,
   "metadata": {},
   "outputs": [
    {
     "name": "stdout",
     "output_type": "stream",
     "text": [
      "[11, 30, 53, 1, 88, 9, 47, 99, 61, 83]\n"
     ]
    },
    {
     "data": {
      "text/plain": [
       "3"
      ]
     },
     "execution_count": 25,
     "metadata": {},
     "output_type": "execute_result"
    }
   ],
   "source": [
    "# Lösung, welche die Funktionen min, max, index nutzt:\n",
    "    \n",
    "import random\n",
    "\n",
    "list = [random.randint(1,100) for x in range(10)]\n",
    "\n",
    "def suche_min(liste):\n",
    "    minimum = min(liste)\n",
    "    return liste.index(minimum) # Index des Minimums\n",
    "    \n",
    "def suche_max(liste):\n",
    "    maximum = max(list) # Falls Sie sich fragen, wie Sie das Maximum finden\n",
    "    return list.index(maximum) # Index des Maximums\n",
    "\n",
    "print(list)\n",
    "suche_min(list)"
   ]
  },
  {
   "cell_type": "markdown",
   "metadata": {},
   "source": [
    "Sie haben soeben die wichtigsten Listenoperationen kennengelernt, die Sie für die Implementation von Insertion Sort benötigen.\n",
    "\n",
    "Nun müssen Sie sich noch einmal genau überlegen, wie der Insertion-Sort-Algorithmus genau funktioniert. Schreiben Sie ihn in Pseudocode.\n",
    "\n",
    "<details>\n",
    "    <summary>\n",
    "        Hinweis 1\n",
    "    </summary>\n",
    "\n",
    "Überlegen Sie sich, welche Elemente verglichen werden müssen, damit die Stelle (der Index) gefunden wird, an der ein Element eingefügt werden muss.\n",
    "</details>\n",
    "\n",
    "<details>\n",
    "    <summary>\n",
    "        Hinweis 2\n",
    "    </summary>\n",
    "\n",
    "Da Sie von einer Liste ausgehen und die sortierten Elemente in derselben Liste haben möchten, müssen Sie sich überlegen, welcher Bereich der Liste bereits sortiert ist.\n",
    "</details>"
   ]
  },
  {
   "cell_type": "code",
   "execution_count": 16,
   "metadata": {},
   "outputs": [],
   "source": [
    "# Machen Sie aus dieser Zelle eine Markdownzelle und \n",
    "# beschreiben Sie den Insertion-Sort-Algorithmus in Pseudocode."
   ]
  },
  {
   "cell_type": "markdown",
   "metadata": {},
   "source": [
    "Lösung:\n",
    "\n",
    "```\n",
    "1. Gegeben ist die zu sortierende Liste `liste`\n",
    "2. `sortiert_bis` markiert das letzte Element des sortierten Teils; initialisiere `sortiert_bis` mit `0`\n",
    "3. **Solange** `sortiert_bis` < Länge von `liste`**:**\n",
    "4.     `einsortieren` = `Liste[sortiert_bis +1]`\n",
    "5.     Den sortierten Bereich mit der Laufvariable i von hinten her durchgehen:\n",
    "6.         **Falls** `einsortieren` > `liste[i]`**:**\n",
    "               `liste[i+1]` = `einsortieren`\n",
    "        \n",
    "        3.1.1. `vergleichen_mit` = `sortiert_bis`\n",
    "        3.1.2. **solange** `liste[vergleichen_mit]` > `einsortieren` **und** :\n",
    "            3.1.2.1. `vergleichen_mit` um 1 verringern \n",
    "```        "
   ]
  },
  {
   "cell_type": "markdown",
   "metadata": {},
   "source": [
    "**Aufgabe 4 – Implementation**\n",
    "\n",
    "Schreiben Sie nun eine Funktion `selectionsort`, die eine Liste entgegennimmt, sie nach dem Selection-Sort-Algorithmus sortiert und anschliessend wieder ausgibt.\n",
    "\n",
    "Nutzen Sie dazu die bereits definierten Funktionen `swap()` und `suche_min()`.\n",
    "\n",
    "Versuchen Sie die Anzahl Vergleiche zu zählen und diese am Ende auszugeben.\n",
    "\n",
    "<details>\n",
    "    <summary>\n",
    "        Hinweis 1\n",
    "    </summary>\n",
    "\n",
    "Fangen Sie mit einer kurzen Liste an, bei der die Hälfte der Liste bereits sortiert ist, z. B. [3,5,2,1].\n",
    "</details>\n",
    "\n",
    "<details>\n",
    "    <summary>\n",
    "        Hinweis 2\n",
    "    </summary>\n",
    "\n",
    "Überlegen Sie sich, bis wo Ihre Elemente sortiert sind und ob sich daraus den Index des als nächstes einzusortierenden Elements ableiten lässt.\n",
    "</details>\n",
    "\n",
    "<details>\n",
    "    <summary>\n",
    "        Hinweis 3\n",
    "    </summary>\n",
    "\n",
    "Damit am Ende alle Elemente in die Liste einsortiert werden, müssen Sie den Einfügevorgang für jedes Element des noch unsortierten Bereichs der Liste wiederholen.\n",
    "</details>\n",
    "\n",
    "<details>\n",
    "    <summary>\n",
    "        Hinweis 4\n",
    "    </summary>\n",
    "    \n",
    "Bei jedem Durchgang wird der sortierte Teil um ein Element grösser und der unsortierte um ein Element kleiner.\n",
    "</details>\n"
   ]
  },
  {
   "cell_type": "code",
   "execution_count": 67,
   "metadata": {},
   "outputs": [],
   "source": [
    "# Ihr Code..."
   ]
  },
  {
   "cell_type": "code",
   "execution_count": null,
   "metadata": {},
   "outputs": [],
   "source": []
  },
  {
   "cell_type": "code",
   "execution_count": null,
   "metadata": {},
   "outputs": [],
   "source": []
  },
  {
   "cell_type": "code",
   "execution_count": null,
   "metadata": {},
   "outputs": [],
   "source": []
  },
  {
   "cell_type": "code",
   "execution_count": null,
   "metadata": {},
   "outputs": [],
   "source": []
  },
  {
   "cell_type": "code",
   "execution_count": 30,
   "metadata": {},
   "outputs": [
    {
     "name": "stdout",
     "output_type": "stream",
     "text": [
      "Anzahl Vergleiche: 16\n",
      "[0, 1, 2, 3, 4, 5]\n"
     ]
    }
   ],
   "source": [
    "# Lösung mit while-Schleifen\n",
    "\n",
    "liste = [5, 4, 3, 2, 1, 0]\n",
    "\n",
    "def insertionsort(liste):\n",
    "    sortiert_bis = 0 # Letzter Index des sortierten Bereichs\n",
    "    anzahl_vergleiche = 0 # Zähler für die Anzahl Vergleiche\n",
    "\n",
    "    # Einsortiert werden soll jeweils das erste Element nach dem sortierten Bereich:\n",
    "    anzahl_vergleiche += 1 # Um in die Schleife zu kommen, wird einmal verglichen:\n",
    "    while sortiert_bis < len(liste) -1:\n",
    "        einsortieren = sortiert_bis + 1\n",
    "        neuer_index = sortiert_bis\n",
    "        while neuer_index >=0 and liste[neuer_index]>liste[einsortieren]:\n",
    "            anzahl_vergleiche +=1 # Vergleich zählen\n",
    "            neuer_index -=1\n",
    "        element = liste[einsortieren]\n",
    "        liste.pop(einsortieren)\n",
    "        liste.insert(neuer_index+1, element)\n",
    "        # Der sortierte Bereich wächst um 1\n",
    "        sortiert_bis +=1\n",
    "    print(\"Anzahl Vergleiche:\", anzahl_vergleiche)\n",
    "    return liste\n",
    "    \n",
    "insertionsort(liste)\n",
    "print(liste)\n"
   ]
  },
  {
   "cell_type": "code",
   "execution_count": 31,
   "metadata": {},
   "outputs": [
    {
     "name": "stdout",
     "output_type": "stream",
     "text": [
      "Anzahl Vergleiche: 5\n",
      "[0, 1, 2, 3, 4, 5]\n"
     ]
    }
   ],
   "source": [
    "# Lösung mit for- und while-Schleifen (für die die innere Schleife bietet sich eine while-Schleife an)\n",
    "\n",
    "liste = [x for x in range(6)]\n",
    "\n",
    "def insertionsort(liste):\n",
    "    \n",
    "    anzahl_vergleiche = 0 # Zähler für die Anzahl Vergleiche\n",
    "    \n",
    "    for sortiert_bis in range(0, len(liste)-1):\n",
    "\n",
    "        einsortieren = sortiert_bis + 1\n",
    "        neue_position = sortiert_bis \n",
    "        # Falls die Schleife nicht betreten wird, muss der Vergleich trotzdem gezählt werden:\n",
    "        if liste[neue_position]<=liste[einsortieren]:\n",
    "            anzahl_vergleiche += 1 # Um in die Schleife zu kommen, wird einmal verglichen:\n",
    "        while neue_position >=0 and liste[neue_position]>liste[einsortieren]:\n",
    "            anzahl_vergleiche += 1 # Hier werden nur Vergleiche gezählt, die positiv ausfielen\n",
    "            neue_position -=1\n",
    "        element = liste[einsortieren]\n",
    "        liste.pop(einsortieren)\n",
    "        liste.insert(neue_position+1, element)\n",
    "    \n",
    "    print(\"Anzahl Vergleiche:\", anzahl_vergleiche)\n",
    "        \n",
    "    return liste\n",
    "\n",
    "insertionsort(liste)\n",
    "print(liste)\n",
    "\n"
   ]
  },
  {
   "cell_type": "markdown",
   "metadata": {},
   "source": [
    "**Aufgabe 5 – Anwendung auf verschiedene Ausgangslagen**\n",
    "\n",
    "Erstellen Sie nun drei Listen `aufsteigend`, `absteigend` und `zufaellig` der Länge 10, 100 oder 1000 und wenden Sie Ihre Funktion insertionsort() darauf an.\n",
    "\n",
    "* Sind Sie von der Anzahl Vergleiche überrascht? \n",
    "* Wie können Sie die Anzahl Vergleiche in Abhängigkeit von der Länge der Liste $n$ formal beschreiben?"
   ]
  },
  {
   "cell_type": "code",
   "execution_count": 100,
   "metadata": {},
   "outputs": [],
   "source": [
    "# Ihr Code..."
   ]
  },
  {
   "cell_type": "code",
   "execution_count": 36,
   "metadata": {},
   "outputs": [
    {
     "name": "stdout",
     "output_type": "stream",
     "text": [
      "Aufsteigende Liste von Länge 10 [0, 1, 2, 3, 4, 5, 6, 7, 8, 9]\n",
      "Anzahl Vergleiche: 9\n",
      "[0, 1, 2, 3, 4, 5, 6, 7, 8, 9] \n",
      "\n",
      "Absteigende Liste von Länge 10 [9, 8, 7, 6, 5, 4, 3, 2, 1, 0]\n",
      "Anzahl Vergleiche: 45\n",
      "[0, 1, 2, 3, 4, 5, 6, 7, 8, 9] \n",
      "\n",
      "Zufällige Liste von Länge 10 [88, 6, 84, 45, 47, 76, 63, 55, 6, 18]\n",
      "Anzahl Vergleiche: 29\n",
      "[6, 6, 18, 45, 47, 55, 63, 76, 84, 88]\n"
     ]
    }
   ],
   "source": [
    "import random\n",
    "\n",
    "laenge = 10\n",
    "aufsteigend = [x for x in range(laenge)]\n",
    "absteigend  = [laenge-1-x for x in range(laenge)]\n",
    "zufaellig = [random.randint(1, 100) for x in range(laenge)]\n",
    "\n",
    "print(\"Aufsteigende Liste von Länge\", laenge, aufsteigend)\n",
    "insertionsort(aufsteigend)\n",
    "print(aufsteigend, \"\\n\")\n",
    "\n",
    "print(\"Absteigende Liste von Länge\", laenge, absteigend)\n",
    "insertionsort(absteigend)\n",
    "print(absteigend, \"\\n\")\n",
    "\n",
    "print(\"Zufällige Liste von Länge\", laenge, zufaellig)\n",
    "insertionsort(zufaellig)\n",
    "print(zufaellig)"
   ]
  },
  {
   "cell_type": "markdown",
   "metadata": {},
   "source": [
    "# Grafische Darstellung\n",
    "\n",
    "Es ist möglich, Ihre Liste in einem Säulendiagramm grafisch darzustellen. Um hier abzukürzen ist die entsprechende Funktion `show_diagram()` gegeben. Sie nimmt folgende Parameter:\n",
    "* `list`: Liste, die dargestellt werden soll\n",
    "* `title`: Diagrammtitel (optional; Defaultwert: \"Säulendiagramm\")\n",
    "* `sleep`: Wartezeit in Sekunden (optional, Defaultwert: 0.2)\n",
    "\n",
    "\n",
    "Sie ist mit Kommentaren versehen, falls Sie sie verstehen möchten.\n",
    "\n",
    "Führen Sie die folgenden beiden Zellen aus, um die Funktion verwenden zu können.\n",
    "Die erste Zelle kümmert sich um die Imports. Falls die Bibliotheken nicht installiert sind, steht im Kommentar, wie Sie sie installieren können."
   ]
  },
  {
   "cell_type": "code",
   "execution_count": 6,
   "metadata": {},
   "outputs": [],
   "source": [
    "import matplotlib.pyplot as plt # PyPlot: Bibliothek für Visualisierungen (Plots)\n",
    "import numpy as np # NumPy: Bibliothek für numerische Berechnungen\n",
    "from IPython import display # <--- Jupyter-Notebook-spezifische Bibliothek (ausserhalb von Jupyter: löschen)\n",
    "\n",
    "# In der Anacondadistribution ist matplotlib bereits vorinstalliert. \n",
    "# Falls Ihnen matplotlib oder numpy fehlen, können Sie diese wie folgt installieren, \n",
    "# kommentieren Sie die folgende Zeile ein (numpy wird mit matplotlib mitinstalliert):\n",
    "# pip install matplotlib"
   ]
  },
  {
   "cell_type": "code",
   "execution_count": 7,
   "metadata": {},
   "outputs": [],
   "source": [
    "#liste = [10-x for x in range(10)]\n",
    "\n",
    "def show_diagram(list, title = \"Säulendiagramm\", sleep = 0.2):\n",
    "\n",
    "    # Den Output der aktuellen Zelle (des Jupyter Notebooks) löschen\n",
    "    # parameter wait=True: warten, bis der neue Output bereitsteht\n",
    "    display.clear_output(wait=True)\n",
    "        \n",
    "    # Balkenindex (x-Koordinaten der Balken)\n",
    "    anzahl_elemente=len(list)\n",
    "    bar_index = np.arange(anzahl_elemente)\n",
    "    # Balkenbreite (1 bedeutet bis zum nächsten Balken)\n",
    "    bar_width = 0.5\n",
    "\n",
    "    # Titel\n",
    "    plt.title(title)\n",
    "\n",
    "    # Keine besondere Beschriftung der x- und y-Achsen:\n",
    "    # plt.xticks und plt.yticks nicht definieren\n",
    "\n",
    "    # Balkendiagramm\n",
    "    plt.bar(bar_index, height=list, width=bar_width, color='blue')\n",
    "\n",
    "    # Plot anzeigen \n",
    "    plt.show()\n",
    "    \n",
    "    # kurz warten, weil sonst nichts sichtbar\n",
    "    plt.pause(sleep)\n"
   ]
  },
  {
   "cell_type": "markdown",
   "metadata": {},
   "source": [
    "**Aufgabe 6 – Visualisierung**\n",
    "\n",
    "Nun möchten Sie ihre Liste jedesmal visualisieren, wenn ein Element neu einsortiert wurde.\n",
    "\n",
    "Kopieren Sie dazu Ihre Implementation des Insertion-Sort-Algorithmus in die untenstehende Zelle und rufen Sie die Funktion `show_diagram()` so auf, dass jweils die neue Liste dargestellt wird, sobald ein Element einsortiert wurde.\n",
    "\n",
    "Erstellen Sie noch einmal die drei Listen `aufsteigend`, `absteigend` und `zufaellig` und wenden Sie Ihre `insertionsort()`-Funktion auf diese drei Listen an.\n",
    "\n",
    "<details>\n",
    "    <summary>\n",
    "        Hinweis\n",
    "    </summary>\n",
    "\n",
    "Die äussere Schleife kümmert sich darum, dass jedes Element einsortiert wird, während die innere Schleife den sortierten Bereich durchläuft, um den neuen Platz zu finden, an dem das Element eingefügt werden soll.\n",
    "    \n",
    "Wenn Sie nicht sicher sind, wo Sie `show_diagram()` aufrufen müssen, sollten Sie sich überlegen, wann das Element einsortiert wird. Sobald das Element einsortiert ist, können Sie den neuen Zustand der Liste darstellen.\n",
    "</details>"
   ]
  },
  {
   "cell_type": "code",
   "execution_count": 41,
   "metadata": {},
   "outputs": [],
   "source": [
    "# Lösung mit for- und while-Schleifen (für die die innere Schleife bietet sich eine while-Schleife an)\n",
    "\n",
    "def insertionsort(liste):\n",
    "    print(liste)\n",
    "    \n",
    "    anzahl_vergleiche = 0 # Zähler für die Anzahl Vergleiche\n",
    "    \n",
    "    # Ausgangszustand der Liste im Diagramm anzeigen\n",
    "    show_diagram(liste, \"Insertionsort\", 0.5)\n",
    "    \n",
    "    for sortiert_bis in range(0, len(liste)-1):\n",
    "\n",
    "        einsortieren = sortiert_bis + 1\n",
    "        neue_position = sortiert_bis \n",
    "        # Falls die Schleife nicht betreten wird, muss der Vergleich trotzdem gezählt werden:\n",
    "        if liste[neue_position]<=liste[einsortieren]:\n",
    "            anzahl_vergleiche += 1 # Um in die Schleife zu kommen, wird einmal verglichen:\n",
    "        while neue_position >=0 and liste[neue_position]>liste[einsortieren]:\n",
    "            anzahl_vergleiche += 1 # Hier werden nur Vergleiche gezählt, die positiv ausfielen\n",
    "            neue_position -=1\n",
    "        element = liste[einsortieren]\n",
    "        liste.pop(einsortieren)\n",
    "        liste.insert(neue_position+1, element)\n",
    "        # Wenn das Element eingefügt ist, die Liste anzeigen\n",
    "        show_diagram(liste, \"Insertionsort\", 0)\n",
    "    \n",
    "    print(\"Anzahl Vergleiche:\", anzahl_vergleiche)\n",
    "        \n",
    "    return liste"
   ]
  },
  {
   "cell_type": "code",
   "execution_count": 42,
   "metadata": {},
   "outputs": [
    {
     "data": {
      "image/png": "[encoded data removed]",
      "text/plain": [
       "<Figure size 432x288 with 1 Axes>"
      ]
     },
     "metadata": {
      "needs_background": "light"
     },
     "output_type": "display_data"
    },
    {
     "name": "stdout",
     "output_type": "stream",
     "text": [
      "Anzahl Vergleiche: 99\n",
      "[0, 1, 2, 3, 4, 5, 6, 7, 8, 9, 10, 11, 12, 13, 14, 15, 16, 17, 18, 19, 20, 21, 22, 23, 24, 25, 26, 27, 28, 29, 30, 31, 32, 33, 34, 35, 36, 37, 38, 39, 40, 41, 42, 43, 44, 45, 46, 47, 48, 49, 50, 51, 52, 53, 54, 55, 56, 57, 58, 59, 60, 61, 62, 63, 64, 65, 66, 67, 68, 69, 70, 71, 72, 73, 74, 75, 76, 77, 78, 79, 80, 81, 82, 83, 84, 85, 86, 87, 88, 89, 90, 91, 92, 93, 94, 95, 96, 97, 98, 99]\n"
     ]
    }
   ],
   "source": [
    "laenge = 100\n",
    "\n",
    "aufsteigend = [x for x in range(laenge)]\n",
    "\n",
    "print(\"Aufsteigende Liste von Länge\", laenge, aufsteigend)\n",
    "plt.pause(2) # kurz warten, weil sonst nichts sichtbar\n",
    "\n",
    "insertionsort(aufsteigend)\n",
    "print(aufsteigend)"
   ]
  },
  {
   "cell_type": "code",
   "execution_count": 43,
   "metadata": {},
   "outputs": [
    {
     "data": {
      "image/png": "[encoded data removed]",
      "text/plain": [
       "<Figure size 432x288 with 1 Axes>"
      ]
     },
     "metadata": {
      "needs_background": "light"
     },
     "output_type": "display_data"
    },
    {
     "name": "stdout",
     "output_type": "stream",
     "text": [
      "Anzahl Vergleiche: 4950\n",
      "[0, 1, 2, 3, 4, 5, 6, 7, 8, 9, 10, 11, 12, 13, 14, 15, 16, 17, 18, 19, 20, 21, 22, 23, 24, 25, 26, 27, 28, 29, 30, 31, 32, 33, 34, 35, 36, 37, 38, 39, 40, 41, 42, 43, 44, 45, 46, 47, 48, 49, 50, 51, 52, 53, 54, 55, 56, 57, 58, 59, 60, 61, 62, 63, 64, 65, 66, 67, 68, 69, 70, 71, 72, 73, 74, 75, 76, 77, 78, 79, 80, 81, 82, 83, 84, 85, 86, 87, 88, 89, 90, 91, 92, 93, 94, 95, 96, 97, 98, 99]\n"
     ]
    }
   ],
   "source": [
    "absteigend  = [laenge-1-x for x in range(laenge)]\n",
    "\n",
    "print(\"Absteigende Liste von Länge\", laenge, absteigend)\n",
    "plt.pause(2) # kurz warten, weil sonst nichts sichtbar\n",
    "insertionsort(absteigend)\n",
    "print(absteigend)\n",
    "\n"
   ]
  },
  {
   "cell_type": "code",
   "execution_count": 44,
   "metadata": {},
   "outputs": [
    {
     "data": {
      "image/png": "[encoded data removed]",
      "text/plain": [
       "<Figure size 432x288 with 1 Axes>"
      ]
     },
     "metadata": {
      "needs_background": "light"
     },
     "output_type": "display_data"
    },
    {
     "name": "stdout",
     "output_type": "stream",
     "text": [
      "Anzahl Vergleiche: 2463\n",
      "[2, 2, 2, 3, 3, 4, 5, 6, 9, 10, 11, 12, 13, 14, 15, 15, 17, 18, 19, 19, 20, 20, 22, 23, 23, 23, 23, 23, 23, 23, 24, 25, 26, 27, 27, 27, 28, 31, 31, 35, 36, 38, 38, 39, 41, 42, 43, 43, 43, 46, 47, 47, 49, 51, 52, 53, 55, 56, 59, 60, 62, 68, 69, 71, 71, 72, 72, 74, 74, 75, 76, 77, 78, 79, 83, 85, 85, 85, 85, 86, 88, 88, 88, 89, 89, 90, 91, 92, 94, 94, 94, 95, 96, 96, 98, 98, 98, 99, 100, 100]\n"
     ]
    }
   ],
   "source": [
    "zufaellig = [random.randint(1, 100) for x in range(laenge)]\n",
    "\n",
    "print(\"Zufällige Liste von Länge\", laenge, zufaellig)\n",
    "plt.pause(2) # kurz warten, weil sonst nichts sichtbar\n",
    "insertionsort(zufaellig)\n",
    "print(zufaellig)"
   ]
  },
  {
   "cell_type": "code",
   "execution_count": null,
   "metadata": {},
   "outputs": [],
   "source": []
  }
 ],
 "metadata": {
  "kernelspec": {
   "display_name": "Python 3",
   "language": "python",
   "name": "python3"
  },
  "language_info": {
   "codemirror_mode": {
    "name": "ipython",
    "version": 3
   },
   "file_extension": ".py",
   "mimetype": "text/x-python",
   "name": "python",
   "nbconvert_exporter": "python",
   "pygments_lexer": "ipython3",
   "version": "3.8.8"
  }
 },
 "nbformat": 4,
 "nbformat_minor": 4
}
