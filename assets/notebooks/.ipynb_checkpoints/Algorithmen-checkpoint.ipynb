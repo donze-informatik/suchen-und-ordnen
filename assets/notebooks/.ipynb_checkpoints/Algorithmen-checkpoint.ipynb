{
 "cells": [
  {
   "cell_type": "markdown",
   "metadata": {},
   "source": [
    "# Algorithmen\n",
    "\n",
    "Algorithmen sind nichts Neues für Sie. Immerhin haben Sie schon programmiert und sind damit vertraut, Probleme mit Hilfe einer Abfolge klar definierter Befehle zu lösen. Sie kennen vielleicht sogar bereits Funktionen, die Argumente entgegennehmen, verarbeiten und ein Resultat zurückgeben. \n",
    "\n",
    "---\n",
    "**Ziele**\n",
    "\n",
    "* Sie können in eignen Worten beschreiben, was ein Algorithmus ist und die fünf Eigenschaften von Algorithmen nennen und beschreiben.\n",
    "* Sie nennen Alltagsalgorithmen und beschreiben diese.\n",
    "* Sie erkennen, warum es wichtig ist, Algorithmen exakt zu formulieren.\n",
    "---- \n",
    "\n",
    "Auch im Alltag verwenden Sie Algorithmen. Als Analogie zu einem Algorithmus wird oft das Kochrezept genannt. Sie benötigen verschiedene Zutaten (*Eingabe*), die in einem genau definierten Ablauf verarbeitet werden (*Verarbeitung*), bis Sie am Ende ein Gericht haben oder einen Kuchen oder eine Salatsauce (*Ausgabe*). Algorithmen folgen also dem EVA-Prinzip (Eingabe – Verarbeitung – Ausgabe).\n",
    "\n",
    "Schauen Sie sich das folgende Rezept für Reis an:\n",
    "\n",
    "1. Eine kleine Zwiebel in heissem Öl anbraten.\n",
    "2. Eine Tasse Reis waschen, zugeben und umrühren, bis der Reis glasig wird.\n",
    "3. Zwei Tassen Wasser und etwas Salz zugeben.\n",
    "4. Die Hitze reduzieren und in den nächsten ca. 20 Minuten gelegentlich umrühren.\n",
    "5. Wenn beim Umrühren kein Wasser mehr zum Vorschein kommt, ist der Reis gar.\n",
    "\n",
    "Haben Sie noch nie selbst gekocht und hätten das Rezept gerne genauer?\n",
    "\n",
    "1. Eine kleine Tasse Reis abmessen.\n",
    "2. Den Reis in ein Sieb giessen und unter dem Wasserstrahl waschen.\n",
    "3. Eine kleine Zwiebel schälen.\n",
    "4. Die Zwiebel halbieren.\n",
    "5. Die Zwiebel hacken.\n",
    "6. Einen Esslöffel Öl in einer Pfanne heiss werden lassen.\n",
    "7. Die gehackte Zwiebel ins Öl geben und kurz anbraten.\n",
    "8. Den Reis zugeben.\n",
    "9. Umrühren, bis der Reis glasig wird.\n",
    "10. Den Reis mit zwei Tassen Wasser ablöschen.\n",
    "11. Einen halben Teelöffel Salz zugeben.\n",
    "12. Die Hitze vermindern.\n",
    "13. Alle 3 Minuten umrühren.\n",
    "14. Wenn der Reis nicht mehr im Wasser schwimmt, ist er fertig.\n",
    "\n",
    "Wahrscheinlich wissen Sie noch immer nicht, welche Art von Reis Sie verwenden sollten, welche Öle in Frage kommen oder auf welche Stufe Sie die Herdplatte erhitzen müssen. Und steht da überhaupt etwas von einer Herdplatte oder von einer Pfanne?\n",
    "\n",
    "**Aufgabe 1** \n",
    "\n",
    "Überlegen Sie sich, was für Algorithmen Sie aus dem Alltag kennen und versuchen Sie einen genau zu beschreiben.\n",
    "\n",
    "<details>\n",
    "    <summary>\n",
    "        Hinweis\n",
    "    </summary>\n",
    "\n",
    "Mögliche Algorithmen aus dem Alltag wären neben Kochrezepten beispielsweise Spielanleitungen, Lego- oder Bauanleitungen, Wegbeschreibungen oder Tätigkeiten wie Zähneputzen oder Schuhebinden.\n",
    "</details>"
   ]
  },
  {
   "cell_type": "code",
   "execution_count": null,
   "metadata": {},
   "outputs": [],
   "source": [
    "# Machen Sie aus dieser Zelle eine Markdown-Zelle und nutzen Sie sie, \n",
    "# um Ihre Antwort auf Aufgabe 1 festzuhalten."
   ]
  },
  {
   "cell_type": "markdown",
   "metadata": {},
   "source": [
    "Schauen Sie sich nun die Folge der Exact Instructions Challenge von Josh Darnit auf YouTube an. \n",
    "\n",
    "*Um den Videoclip sehen zu können, müssen Sie allenfalls die folgende Zelle ausführen.*"
   ]
  },
  {
   "cell_type": "code",
   "execution_count": 1,
   "metadata": {},
   "outputs": [
    {
     "data": {
      "text/html": [
       "\n",
       "        <iframe\n",
       "            width=\"560\"\n",
       "            height=\"315\"\n",
       "            src=\"https://www.youtube-nocookie.com/embed/FN2RM-CHkuI\"\n",
       "            frameborder=\"0\"\n",
       "            allowfullscreen\n",
       "        ></iframe>\n",
       "        "
      ],
      "text/plain": [
       "<IPython.lib.display.IFrame at 0x7fc3e0e8f790>"
      ]
     },
     "execution_count": 1,
     "metadata": {},
     "output_type": "execute_result"
    }
   ],
   "source": [
    "# Führen Sie diese Zelle aus, um den Videoclip sehen zu können.\n",
    "\n",
    "import IPython\n",
    "\n",
    "IPython.display.IFrame(src=\"https://www.youtube-nocookie.com/embed/FN2RM-CHkuI\", width=560, height=315)"
   ]
  },
  {
   "cell_type": "markdown",
   "metadata": {},
   "source": [
    "**Aufgabe 2**\n",
    "\n",
    "Nehmen Sie eines der hier gezeigten Bilder und machen Sie eine möglichst genaue Anleitung, um das Gezeigte zu erstellen. Tauschen Sie dann mit einer Partnerin oder einem Partner die Anleitung aus und versuchen Sie gegenseitig, die Anleitungen zu befolgen. Kommen Sie auf dasselbe Ergebnis?\n",
    "\n",
    "Kreuzknoten | Bauklötze | Zopf | Lego | Endacht\n",
    ":-: | :-: | :-: | :-: | :-:\n",
    "<img src=\"./bilder/navy-308598_640.png\" width=\"150\" /> | <img src=\"./bilder/building-blocks-456614_640.jpg\" width=\"150\" /> | <img src=\"./bilder/bread-387842_640.jpg\" width=\"150\" /> | <img src=\"./bilder/lego-blocks-5754238_640.jpg\" width=\"150\" /> |<img src=\"./bilder/knot-145490_1280.png\" width=\"150\" />"
   ]
  },
  {
   "cell_type": "code",
   "execution_count": null,
   "metadata": {},
   "outputs": [],
   "source": [
    "# Hier haben Sie Platz für Ihre Beschreibung."
   ]
  },
  {
   "cell_type": "markdown",
   "metadata": {},
   "source": [
    "## Eigenschaften von Algorithmen\n",
    "\n",
    "Es ist gar nicht so einfach, eine Anleitung *unmissverständlich* zu formulieren. Manchmal fehlen auch Details für ganz *genaue* Angaben. \"Nach Belieben würzen\" können Sie beispielsweise nicht so beschreiben, dass das Ergebnis dasselbe ist, wenn jemand anderes Ihr Rezept umsetzt.\n",
    "\n",
    "Viele Alltagsalgorithmen sind dann doch keine Algorithmen im Informatiksinn: Menschen mit Erfahrung können ein Gericht \"nach Belieben würzen\", **eine Maschine ist auf genaue** Mengen**angaben und Anweisungen angewiesen**.\n",
    "\n",
    "Zu jedem Zeitpunkt muss unmissverständlich klar sein, was als nächstes zu tun ist (**Eindeutigkeit**) und der Schritt muss ausführbar sein (**Ausführbarkeit**). Dieselben Eingabewerte müssen zur gleichen Ausgabe führen, aber der Algorithmus soll auch für andere Eingabewerte eine korrekte Ausgabe zur Folge haben (**Korrektheit**). Weiter soll ein Algorithmus nach einer endlichen Anzahl Schritte zu Ende kommen – entweder zu einer Ausgabe oder zu einem gezielt herbeigeführten Abbruch (**Endlichkeit**). Es wäre eine Verschwendung, mit einem Algorithmus nur ein spezifisches Problem zu lösen, weshalb Algorithmen allgemeingültig, also auf verschiedene Probleme anwendbar sein sollen (**Allgemeinheit**).\n",
    "\n",
    "<hr/>\n",
    "\n",
    "**Zusammenfassung**\n",
    "\n",
    "> Algorithmen haben folgende Eigenschaften:\n",
    "> \n",
    "> * **Eindeutigkeit**: Zu jedem Zeitpunkt ist klar, worin der nächste Schritt besteht.\n",
    "> * **Ausführbarkeit**: Jeder Schritt muss ausführbar sein.\n",
    "> * **Korrektheit**: Der Algorithmus liefert für sämtliche Eingabewerte eine korrekte Ausgabe.\n",
    "> * **Endlichkeit**: Der Algorithmus ist nach einer endlichen Anzahl Schritte fertig.\n",
    "> * **Allgemeinheit**: Der Algorithmus kann für verschiedene Probleme angewandt werden.\n",
    "\n",
    "<hr/>\n",
    "\n",
    "## Komplexität\n",
    "\n",
    "Algorithmen werden zur Verarbeitung riesiger Datenmengen verwendet. Da dies Zeit braucht, sind Informatikerinnen und Informatiker daran interessiert, möglichst effiziente Algorithmen zu finden. Wenn von der Effizienz eines Algorithmus die Rede ist, spricht man von **Komplexität**. \n",
    "\n",
    "Es gibt Algorithmen, die schnell rechnen, aber viel Speicher brauchen, um Zwischenergebnisse zu speichern und andere, die wenig Speicher benötigen, aber dafür langsamer sind. Um die Komplexität eines Algorithmus anzugeben, wird zwischen Laufzeit und Speichereffizienz unterschieden. Um die Laufzeit zu bestimmen, wird davon ausgegangen, dass $n$ Elemente verarbeitet werden, wobei $n$ eine sehr grosse Zahl darstellt. \n",
    "\n",
    "Sie werden hier nicht erfahren, wie die Laufzeit berechnet werden kann, aber Sie werden die Anzahl Berechnungen vergleichen und allenfalls sogar Zeitmessungen machen. Dabei werden Sie sehen, dass sich Algorithmen optimieren lassen und dass es beispielsweise nicht *den* ultimativen Sortieralgorithmus gibt, und dass sich sogar ein nicht gerade für seine Effizienz bekannter Algorithmus in gewissen Situationen dennoch anbieten kann.\n",
    "\n",
    "Algorithmen zu optimieren kann ein kreativer Prozess sein und oftmals entstehen Lösungen, die man am Anfang nicht erwartet hätte. In der Regel geht man dabei von der einfachsten Lösung aus und spricht dann von \"Brute Force\", also \"roher Gewalt\". Die erste, meist intuitive Lösung ist nicht so schlecht oder böse wie das nun klingt. Sie bildet die Basis für Optimierungen, aber sich mit der erstbesten Lösung zufriedenzugeben, kann kostspielig sein und indem sie ihre Algorithmen optimieren, können Programmiererinnen und Programmierer sogar einen Beitrag zum Energiesparen leisten."
   ]
  },
  {
   "cell_type": "markdown",
   "metadata": {},
   "source": [
    "## Quiz\n",
    "\n",
    "Alles klar?  \n",
    "\n",
    "Testen Sie Ihr Verständnis anhand der Fragen, die erstellt werden, wenn Sie die nachfolgende Zelle ausführen\n",
    "\n",
    "### NUR FALLS SIE AUF GOOGLE COLAB ARBEITEN\n",
    "\n",
    "Führen Sie bitte die **beiden** folgenden Zellen aus, um die Bibliothek für das Quiz zu laden."
   ]
  },
  {
   "cell_type": "code",
   "execution_count": null,
   "metadata": {},
   "outputs": [],
   "source": [
    "# NUR falls Sie AUF GOOGLE COLAB arbeiten:\n",
    "# Führen Sie diese Zelle aus, um das Quiz zu sehen.\n",
    "\n",
    "%%writefile quizclone.py\n",
    "import os\n",
    "from subprocess import getoutput\n",
    "getoutput(\"git clone -l -s https://github.com/donze-informatikunterricht/quiz.git cloned-repo\")\n",
    "os.chdir('cloned-repo')\n",
    "print('repo cloned successfully')"
   ]
  },
  {
   "cell_type": "code",
   "execution_count": null,
   "metadata": {},
   "outputs": [],
   "source": [
    "# NUR falls Sie AUF GOOGLE COLAB arbeiten:\n",
    "# Führen Sie diese Zelle aus, um das Quiz zu sehen.\n",
    "\n",
    "import quizclone"
   ]
  },
  {
   "cell_type": "markdown",
   "metadata": {},
   "source": [
    "### Quiz erstellen (unabhängig von Ihrer Arbeitsumgebung)\n",
    "\n",
    "Nun können Sie das Quiz erstellen. Führen Sie dazu bitte die folgende Zelle aus."
   ]
  },
  {
   "cell_type": "code",
   "execution_count": 2,
   "metadata": {},
   "outputs": [
    {
     "data": {
      "application/vnd.jupyter.widget-view+json": {
       "model_id": "a92eac63ebcd43fca901d84e9d5339b1",
       "version_major": 2,
       "version_minor": 0
      },
      "text/plain": [
       "VBox(children=(Output(), RadioButtons(layout=Layout(height='auto', width='auto'), options=(('Zähneputzen.', 0)…"
      ]
     },
     "metadata": {},
     "output_type": "display_data"
    },
    {
     "data": {
      "application/vnd.jupyter.widget-view+json": {
       "model_id": "bb1d23720bf346b78209c781fb58ff8c",
       "version_major": 2,
       "version_minor": 0
      },
      "text/plain": [
       "VBox(children=(Output(), RadioButtons(layout=Layout(height='auto', width='auto'), options=(('Weil er sonst mac…"
      ]
     },
     "metadata": {},
     "output_type": "display_data"
    },
    {
     "data": {
      "application/vnd.jupyter.widget-view+json": {
       "model_id": "f305e50df7dd4e32a9e42df2f1999c15",
       "version_major": 2,
       "version_minor": 0
      },
      "text/plain": [
       "VBox(children=(Output(), RadioButtons(layout=Layout(height='auto', width='auto'), options=(('Allgemeinheit', 0…"
      ]
     },
     "metadata": {},
     "output_type": "display_data"
    }
   ],
   "source": [
    "from IPython.display import display\n",
    "import quiz\n",
    "\n",
    "display(quiz.Q1_algorithmen)\n",
    "display(quiz.Q2_algorithmen)\n",
    "display(quiz.Q3_algorithmen)"
   ]
  },
  {
   "cell_type": "code",
   "execution_count": null,
   "metadata": {},
   "outputs": [],
   "source": []
  }
 ],
 "metadata": {
  "kernelspec": {
   "display_name": "Python 3",
   "language": "python",
   "name": "python3"
  },
  "language_info": {
   "codemirror_mode": {
    "name": "ipython",
    "version": 3
   },
   "file_extension": ".py",
   "mimetype": "text/x-python",
   "name": "python",
   "nbconvert_exporter": "python",
   "pygments_lexer": "ipython3",
   "version": "3.8.8"
  }
 },
 "nbformat": 4,
 "nbformat_minor": 4
}
