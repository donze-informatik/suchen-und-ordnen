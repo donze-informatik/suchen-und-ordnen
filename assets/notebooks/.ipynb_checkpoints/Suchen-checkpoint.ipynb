{
 "cells": [
  {
   "cell_type": "markdown",
   "metadata": {},
   "source": [
    "# Suchen\n",
    "\n",
    "Die ersten Algorithmen, mit denen Sie sich auseinandersetzen werden, dienen der Suche nach einem Element in einer Liste.\n",
    "\n",
    "**Ziele**\n",
    "\n",
    "* Sie erkennen, dass sich nicht jede Suchstrategie für jede Ausgangslage eignet – nicht jeder Algorithmus ist für jedes Problem geeignet.\n",
    "* Sie können sicher auf Listenelemente zugreifen.\n",
    "* Sie *iterieren* über Listen (also *loopen darüber*, *durchlaufen sie mit einer Schleife*), greifen auf Elemente zu und machen etwas damit.\n",
    "* Sie machen eine positive Erfahrung mit dem schrittweisen Lösen einer Programmieraufgabe. Eine solche besteht einerseits aus der Analyse des Problems und der Suche nach einer geeigneten Strategie und andererseits in der schrittweisen Implementation. Wenn Sie zu viel Code auf einmal ungetestet laufen lassen, ist die Gefahr gross, dass ein Fehler übersehen wurde. Das macht das Leben unnötig kompliziert.\n",
    "* Sie erkennen, dass es sich auch im Falle von einfachen Algorithmen lohnen kann, über Optimierungen nachzudenken.\n",
    "\n",
    "## Suchspiele\n",
    "\n",
    "Um sich mit der Suche von Elementen auseinanderzusetzen, können Sie spielerisch vorgehen. Falls Sie nicht alleine arbeiten, suchen Sie sich eine Partnerin oder einen Partner und probieren Sie die folgenden Spiele aus. Ansonsten überlegen Sie sich kurz, wie Sie vorgehen würden.\n",
    "\n",
    "### Schiffe versenken\n",
    "\n",
    "Stellen Sie sich eine vereinfachte Form des Spiels \"Schiffe versenken\" in einem Fluss vor. Der Fluss ist in Felder eingeteilt (Sehen Sie den Array dahinter?) und jedes Schiff hat eine Nummer. Die Nummern sind aber nicht geordnet. Die Schiffe bewegen sich nicht und der Fluss ist in Felder unterteilt (A bis Z). Jede Person hat nun ein Schiff der Länge 1 zur Verfügung. Überlegen Sie sich, wie Sie vorgehen müssen, um das gegnerische Schiff zu finden.\n",
    "\n",
    "\n",
    "| 🚢 83 | 🚢 47 | 🚢 44 | 🚢 72 | 🚢 15 | 🚢 16 | 🚢 12 | 🚢 68 | 🚢 9 | 🚢 58 | 🚢 11 | 🚢 55 | 🚢 78 |\n",
    "| : | : | : | : | : | : | : | : | : | : | : | : | : |\n",
    "| A | B | C | D | E | F | G | H | I | J | K | L | M |\n",
    "\n",
    "| 🚢 46 | 🚢 93 | 🚢 87 | 🚢 60 | 🚢 35 | 🚢 2 | 🚢 10 | 🚢 4 | 🚢 99 | 🚢 26 | 🚢 70 | 🚢 22 | 🚢 14 |\n",
    "| : | : | : | : | : | : | : | : | : | : | : | : | : |\n",
    "| N | O | P | Q | R | S | T | U | V | W | X | Y | Z |\n",
    "\n",
    "\n",
    "\n",
    "**Variante**  \n",
    "\n",
    "Nun haben die Schiffe wiederum Nummern. Die Nummern sind aber geordnet. Wie müssten Sie nun vorgehen, um das gegnerische Schiff möglichst schnell zu finden?\n",
    "\n",
    "| 🚢 2 | 🚢 4 | 🚢 9 | 🚢 10 | 🚢 11 | 🚢 12 | 🚢 14 | 🚢 15 | 🚢 16 | 🚢 22 | 🚢 26 | 🚢 35 | 🚢 44 |\n",
    "| : | : | : | : | : | : | : | : | : | : | : | : | : |\n",
    "| A | B | C | D | E | F | G | H | I | J | K | L | M |\n",
    "\n",
    "| 🚢 46 | 🚢 47 | 🚢 55 | 🚢 58 | 🚢 60 | 🚢 68 | 🚢 70 | 🚢 72 | 🚢 78 | 🚢 83 | 🚢 87 | 🚢 93 | 🚢 99 | \n",
    "| : | : | : | : | : | : | : | : | : | : | : | : | : |\n",
    "| N | O | P | Q | R | S | T | U | V | W | X | Y | Z |\n",
    "\n",
    "\n",
    "Diese Übung ist inspiriert von [CS Unplugged: Schiffe versenken](https://classic.csunplugged.org/wp-content/uploads/2014/12/CSUnplugged_OS_2015_v3.2.2_AL_Ak-6.pdf) von der Seite zu [Suchalgorithmen](https://classic.csunplugged.org/searching-algorithms/).\n",
    "\n",
    "### Wer ist es?\n",
    "\n",
    "Wahrscheinlich mögen Sie sich an das Spiel \"Wer ist es\" erinnern, bei dem zwei Spielerinnen oder Spieler je zweimal dieselben Gesichter hatten, einmal als Spielkarten, einmal zum Umklappen. Zu Beginn suchten sich beide Spieler oder Spielerinnen ein Gesicht aus. Die Gesichter hatten Eigenschaften und es galt anhand der Eigenschaften die Auswahl möglichst schnell einzugrenzen, um das Gesicht des Gegners oder der Gegnerin zu finden.\n",
    "\n",
    "Je besser die Fragen, desto schneller war die gesuchte Person gefunden. Falls Sie eine Fotoklassenliste haben, lässt sich dieses Spiel schnell realisieren, ansonsten gibt es hier eine Idee aus Emojis, die Sie [herunterladen](./downloads/wer_ist_es.pdf) und ausdrucken können. Viel Spass beim Suchen und Raten.\n",
    "\n",
    "<img src=\"./bilder/wer_ist_es.png\" width=\"60%\"/>\n",
    "\n",
    "### Vorübungen\n",
    "\n",
    "Um die Suchalgorithmen zu implementieren werden Sie Listen durchlaufen müssen und  sicher auf Listenelemente zugreifen können. Diese Vorübung hat zum Zweck, dies kurz zu repetieren.\n",
    "\n",
    "**Aufgabe 1**\n",
    "\n",
    "Gegeben ist der folgende Code:\n",
    "\n",
    "```Python\n",
    "liste=[2,6,1,8,2,7,0]\n",
    "gesuchter_wert = 7\n",
    "```\n",
    "Sie wollen überprüfen, ob das vierte Element der Liste `liste` gleich dem gesuchten Wert ist. Implementieren Sie dies."
   ]
  },
  {
   "cell_type": "code",
   "execution_count": null,
   "metadata": {},
   "outputs": [],
   "source": [
    "liste=[2,6,1,8,2,7,0]\n",
    "gesuchter_wert = 7\n",
    "\n",
    "# Ihr Code..."
   ]
  },
  {
   "cell_type": "code",
   "execution_count": null,
   "metadata": {},
   "outputs": [],
   "source": [
    "liste=[2,6,1,8,2,7,0]\n",
    "gesuchter_wert = 7\n",
    "\n",
    "# Lösung:\n",
    "\n",
    "# Zugriff aufs vierte Element der Liste liste: liste[3]\n",
    "\n",
    "# Der Vergleich dieser beiden Werte liefert entweder True oder False zurück:\n",
    "\n",
    "liste[3] == gesuchter_wert"
   ]
  },
  {
   "cell_type": "markdown",
   "metadata": {},
   "source": [
    "## Suchalgorithmen\n",
    "\n",
    "Die Suchspiele haben gezeigt, dass es verschiedene Strategien gibt, um ein Element in einer Sammlung von Elementen zu finden. Im Spiel \"Wer ist es\" hatten Sie den Blick auf das Ganze und konnten die Gesichter aussortieren, die nicht dem Kriterium entsprachen, das gerade genannt wurde. Dadurch wird die Auswahl immer kleiner. Genauso können Sie auch vorgehen, wenn die Elemente geordnet sind. Das Prinzip, wenn ein Problem immer weiter eingeschränkt wird, nennt man **Teile und Herrsche** (Divide & Conquer). Dieses Prinzip kommt in der Informatik oft zur Anwendung wird Ihnen auch bei den Sortieralgorithmen wieder begegnen.\n",
    "\n",
    "Wenn die Elemente nicht geordnet sind oder keine Möglichkeit besteht, das Problem einzugrenzen, wird die Suche mühsamer. Welche Strategie haben Sie bei der ersten Runde Schiffe versenken angewandt? Wahrscheinlich sind Sie die Liste entweder anhand eines Musters durchgegangen (von vorne nach hinten oder umgekehrt oder zuerst von vorne nach hinten jedes zweite Element und dann wieder zurück für die übriggebliebenen Elemente). Vielleicht haben Sie auch zufällig irgendwelche Werte genannt, wobei Sie aufpassen mussten, dass Sie den Überblick behielten und nicht zweimal denselben Wert prüften. Möglicherweise haben Sie mit einer Person gespielt, die Sie sehr gut kennen und haben die Suche dadurch möglicherweise eingegrenzt. Dazu benötigten Sie aber Informationen über die Person. Dies wäre zwar ebenfalls ein Ansatz, um ein Element zu finden, aber einer, der auf künstlicher Intelligenz beruht. So zeigt Ihnen Google beispielsweise die Werbung, die Sie am ehesten interessieren könnte, weil Google Daten zu Ihrem Suchverhalten analysiert hat. Dieser Kurs geht nicht auf diese Art von Algorithmen ein, aber da es immer wieder Schülerinnen und Schüler gibt, die auf diese Weise suchen würden, wird es hier erwähnt.\n",
    "\n",
    "Sie sehen also, je nachdem, ob die Daten, die Sie durchsuchen sortiert sind oder nicht, kommen andere Strategien zum Zug. An dieser Ausgangslage lassen sich zwei bekannte Suchalgorithmen zeigen: die lineare Suche und die binäre Suche. Sie werden im Folgenden thematisiert.\n",
    "\n",
    "### Lineare Suche\n",
    "\n",
    "Um ein Element in einem ungeordneten Array zu finden, muss dieser durchlaufen und jedes Element mit dem gesuchten Wert verglichen werden.\n",
    "\n",
    "Da dies der erste Algorithmus ist, den Sie implementieren, werden Sie Schritt für Schritt durchgeführt.\n",
    "\n",
    "**Aufgabe 1 – Lineare Suche**\n",
    "\n",
    "Suchen Sie in einer Liste ein Element.\n",
    "\n",
    "a) Erstellen Sie eine Liste `unsortierte_liste`.\n",
    "* Erstellen Sie zuerst eine Liste, welche die Ganzzahlen von 0 bis 19 enthält."
   ]
  },
  {
   "cell_type": "code",
   "execution_count": null,
   "metadata": {},
   "outputs": [],
   "source": [
    "# Ihr Code..."
   ]
  },
  {
   "cell_type": "code",
   "execution_count": 1,
   "metadata": {},
   "outputs": [
    {
     "name": "stdout",
     "output_type": "stream",
     "text": [
      "[0, 1, 2, 3, 4, 5, 6, 7, 8, 9, 10, 11, 12, 13, 14, 15, 16, 17, 18, 19]\n"
     ]
    }
   ],
   "source": [
    "# Lösung:\n",
    "\n",
    "unsortierte_liste = [x for x in range(20)]\n",
    "\n",
    "# Kontrolle mit print:\n",
    "print(unsortierte_liste)"
   ]
  },
  {
   "cell_type": "markdown",
   "metadata": {},
   "source": [
    "* Mischen Sie die Liste mithilfe der Funktion `random.shuffle()`. \n",
    "\n",
    "<details>\n",
    "    <summary>\n",
    "        Hinweis 1\n",
    "    </summary>\n",
    "\n",
    "Vergessen Sie nicht, das Modul `random` zu importieren.\n",
    "\n",
    "<details>\n",
    "<summary>\n",
    "    Hinweis 2\n",
    "</summary>\n",
    "\n",
    "```Python\n",
    "import random\n",
    "```\n",
    "</details>\n",
    "</details>\n",
    "\n"
   ]
  },
  {
   "cell_type": "code",
   "execution_count": null,
   "metadata": {},
   "outputs": [],
   "source": [
    "# Ihr Code..."
   ]
  },
  {
   "cell_type": "code",
   "execution_count": 7,
   "metadata": {},
   "outputs": [
    {
     "name": "stdout",
     "output_type": "stream",
     "text": [
      "[6, 16, 13, 3, 11, 4, 19, 7, 5, 12, 10, 14, 17, 9, 2, 8, 0, 1, 15, 18]\n"
     ]
    }
   ],
   "source": [
    "# Lösung:\n",
    "import random\n",
    "\n",
    "random.shuffle(unsortierte_liste)\n",
    "\n",
    "# Kontrolle mit print:\n",
    "print(unsortierte_liste)"
   ]
  },
  {
   "cell_type": "markdown",
   "metadata": {},
   "source": [
    "b) Nun bereiten Sie Ihre Funktion für die lineare Suche vor. Dazu erstellen Sie eine Funktion, die einen Wert entgegennimmt und einen Index zurückgibt. Hier erstellen Sie erst einmal das Grundgerüst der Funktion. Sie macht noch nicht viel Gescheites. \n",
    "\n",
    "*Wie schnell schleicht sich ein Tippfehler ein oder geht ein Doppelunkt vergessen...* Indem Sie Ihren Code Stück für Stück schreiben und immer wieder ausprobieren ob die einzelnen Teile laufen oder zumindest kompilieren, vermeiden Sie viele Fehler und sind im Endeffekt sicherer.\n",
    "\n",
    "* Erstellen Sie eine Funktion `suche_linear()`.\n",
    "* Wenn das das Element gefunden wird, soll sich die Funktion `suche_linear` den Index in der Variabel `index_gefunden` merken. Erstellen Sie nun diese Variabel und initialisieren Sie sie mit dem Wert `-1`. Dieser Wert soll zurückgegeben werden, wenn die Suche erfolglos war.  \n",
    "  *Mit dem Wert -1 codieren Sie somit das Ergebnis \"Nicht gefunden\"*. Das ist ein Vorgehen, das beim Programmieren sehr oft zur Anwendung kommt.\n",
    "* Rufen Sie die Funktion auf, um zu sehen, ob sie bereits den Wert `-1` zurückgibt."
   ]
  },
  {
   "cell_type": "code",
   "execution_count": null,
   "metadata": {},
   "outputs": [],
   "source": [
    "# Ihr Code..."
   ]
  },
  {
   "cell_type": "code",
   "execution_count": 9,
   "metadata": {},
   "outputs": [
    {
     "data": {
      "text/plain": [
       "-1"
      ]
     },
     "execution_count": 9,
     "metadata": {},
     "output_type": "execute_result"
    }
   ],
   "source": [
    "# Lösung:\n",
    "\n",
    "def suche_linear():\n",
    "    index_gefunden = -1 # Am Schluss wird der Index zurückgegeben, \n",
    "                        # an dem sich der gesuchte Wert in der Liste befindet. \n",
    "                        # Falls kein Element mit dem gesuchten Wert gefudnen wurde, \n",
    "                        # wird -1 ausgegeben. Dies wird durch die Initialisierung sichergestellt. \n",
    "    return index_gefunden\n",
    "\n",
    "suche_linear()"
   ]
  },
  {
   "cell_type": "markdown",
   "metadata": {},
   "source": [
    "c) Suchen Sie nun ein Element mit dem gesuchten Wert in der Liste `unsortierte_liste`.\n",
    "\n",
    "* Erweitern Sie Ihre Funktion `suche_linear` um einen Parameter `wert`, nach dem gesucht werden soll.\n",
    "* Definieren Sie ausserhalb der Funktion eine Variable `gesuchter_wert`, die den Wert enthält, nach dem gesucht werden soll, zum Beispiel 12."
   ]
  },
  {
   "cell_type": "code",
   "execution_count": 12,
   "metadata": {},
   "outputs": [],
   "source": [
    "# Ihr Code..."
   ]
  },
  {
   "cell_type": "code",
   "execution_count": 13,
   "metadata": {},
   "outputs": [
    {
     "data": {
      "text/plain": [
       "-1"
      ]
     },
     "execution_count": 13,
     "metadata": {},
     "output_type": "execute_result"
    }
   ],
   "source": [
    "# Lösung:\n",
    "gesuchter_wert = 12\n",
    "\n",
    "def suche_linear(wert):\n",
    "    index_gefunden = -1 # Dieser Wert \n",
    "    return index_gefunden\n",
    "\n",
    "suche_linear(gesuchter_wert)"
   ]
  },
  {
   "cell_type": "markdown",
   "metadata": {},
   "source": [
    "d) Ihre Funktion hat nun den Parameter `wert`, aber sie macht noch nichts damit.\n",
    "\n",
    "Implementieren Sie nun die eigentliche Suche.\n",
    "\n",
    "* Die Funktion `suche_linear` soll die ganze Liste `unsortierte_liste` durchgehen und jedes Element mit dem Wert `wert` vergleichen."
   ]
  },
  {
   "cell_type": "code",
   "execution_count": null,
   "metadata": {},
   "outputs": [],
   "source": [
    "# Ihr Code..."
   ]
  },
  {
   "cell_type": "code",
   "execution_count": 14,
   "metadata": {},
   "outputs": [
    {
     "data": {
      "text/plain": [
       "9"
      ]
     },
     "execution_count": 14,
     "metadata": {},
     "output_type": "execute_result"
    }
   ],
   "source": [
    "# Lösung:\n",
    "gesuchter_wert = 12\n",
    "\n",
    "def suche_linear(wert):\n",
    "    index_gefunden = -1\n",
    "    for i in range(0, len(unsortierte_liste)):\n",
    "        if unsortierte_liste[i] == wert:\n",
    "            index_gefunden = i\n",
    "    return index_gefunden\n",
    "\n",
    "\n",
    "suche_linear(gesuchter_wert)"
   ]
  },
  {
   "cell_type": "markdown",
   "metadata": {},
   "source": [
    "d) Generalisierung\n",
    "\n",
    "Nun haben Sie die lineare Suche implementiert. Allerdings muss zwingend eine Liste `unsortierte_liste` definiert sein, sonst greift die Funktion `suche_linear` auf etwas zu, das es nicht gibt. Schöner wäre es, der Funktion die Liste als Parameter zu übergeben.\n",
    "\n",
    "Wenn eine Funktion generalisiert ist, nennt man sie auch **generisch**, sie ist dann in verschiedenen Situationen anwendbar.\n",
    "\n",
    "* Erweitern Sie Ihre Funktion `unsortierte_liste` um den Parameter `liste`, damit Sie keine Abhängigkeit nach aussen hat. \n",
    "* Rufen Sie die Funktion `suche_linear(liste, wert)` mit der Liste `unsortierte_liste` und dem wert `gesuchter_wert` auf."
   ]
  },
  {
   "cell_type": "code",
   "execution_count": null,
   "metadata": {},
   "outputs": [],
   "source": [
    "# Ihr Code..."
   ]
  },
  {
   "cell_type": "code",
   "execution_count": 15,
   "metadata": {},
   "outputs": [
    {
     "data": {
      "text/plain": [
       "9"
      ]
     },
     "execution_count": 15,
     "metadata": {},
     "output_type": "execute_result"
    }
   ],
   "source": [
    "# Lösung:\n",
    "gesuchter_wert = 12\n",
    "\n",
    "def suche_linear(liste, wert):\n",
    "    index_gefunden = -1 # Dieser Wert \n",
    "    for i in range(0, len(liste)):\n",
    "        if liste[i] == wert:\n",
    "            index_gefunden = i\n",
    "    return index_gefunden\n",
    "\n",
    "\n",
    "suche_linear(unsortierte_liste, gesuchter_wert)"
   ]
  },
  {
   "cell_type": "markdown",
   "metadata": {},
   "source": [
    "👍 Sie haben nun die lineare Suche implementiert. 👍\n",
    "\n",
    "**Aufgabe 2 – Algorithmus genau beschreiben**\n",
    "\n",
    "Um sicherzugehen, dass man einen Algorithmus verstanden hat, lohnt es sich immer, ihn in eigenen Worten zu beschreiben. Beschreiben Sie die lineare Suche deshalb in eigenen Worten so genau wie möglich."
   ]
  },
  {
   "cell_type": "code",
   "execution_count": null,
   "metadata": {},
   "outputs": [],
   "source": [
    "# Nutzen Sie diese Zelle für Ihre Antwort."
   ]
  },
  {
   "cell_type": "code",
   "execution_count": 2,
   "metadata": {},
   "outputs": [
    {
     "data": {
      "text/plain": [
       "'\\nÜber die Liste iterieren und jedes Element der Liste mit dem gesuchten Wert vergleichen \\nund den Index merken, falls das Listenelement denselben Wert wie der Suchwert aufweist.\\nFalls der gesuchte Wert nicht gefunden wurde, einen Index zurückgeben, den es in der Liste \\nnicht gibt, z.B. -1 (sozusagen ein Code für \"nicht gefunden\").\\n'"
      ]
     },
     "execution_count": 2,
     "metadata": {},
     "output_type": "execute_result"
    }
   ],
   "source": [
    "# Lösung:\n",
    "\"\"\"\n",
    "Über die Liste iterieren und jedes Element der Liste mit dem gesuchten Wert vergleichen \n",
    "und den Index merken, falls das Listenelement denselben Wert wie der Suchwert aufweist.\n",
    "Falls der gesuchte Wert nicht gefunden wurde, einen Index zurückgeben, den es in der Liste \n",
    "nicht gibt, z.B. -1 (sozusagen ein Code für \"nicht gefunden\").\n",
    "\"\"\"\n"
   ]
  },
  {
   "cell_type": "markdown",
   "metadata": {},
   "source": [
    "#### Optimierung\n",
    "\n",
    "Stellen Sie sich vor, in der Liste, in der Sie suchen, kommt der gesuchte Wert mehrmals vor. So wie die Suche nun impementiert ist, gibt die Funktion das letzte Vorkommen des gesuchten Werts aus. Die anderen Indizes werden jeweils überschrieben, wenn ein neues Vorkommen des Wertes gefunden wird. Sie haben nun zwei Möglichkeiten: Entweder Sie merken sich alle Vorkommen oder Sie beenden die Suche nach dem ersten Vorkommen. Oft hat die Suche den Zweck zu schauen, ob ein Wert überhaupt in einem Array vorkommt.\n",
    "\n",
    "Sie können hier davon ausgehen, dass es reicht, das erste Vorkommen zu finden. Sobald ein Element gefunden wird, kann die Suche abgebrochen werden. Da Ihre Funktion einen Wert zurückgibt, reicht es, die Rückgabe gleich zu machen, sobald der Wert gefunden wurde. Damit wird die Funktion verlassen und die weiteren Elemente bis zum Ende der Liste brauchen nicht mehr verglichen zu werden.\n",
    "\n",
    "**Aufgabe 3 – Lineare Suche optimiert**\n",
    "\n",
    "Implementieren Sie nun diese Optimierung in einer neuen Funktion `suche_linear_optimiert`.\n",
    "\n",
    "* Sobald in der Liste ein Element gefunden wurde, das den gesuchen Wert aufweist, soll der Index zurückgegeben werden.\n",
    "* Überlegen Sie sich, ob Sie die Variable `index_gefunden` noch brauchen und inwiefern Sie den Code ändern müssten, um ohne sie auszukommen."
   ]
  },
  {
   "cell_type": "code",
   "execution_count": null,
   "metadata": {},
   "outputs": [],
   "source": [
    "# Ihr Code..."
   ]
  },
  {
   "cell_type": "code",
   "execution_count": 17,
   "metadata": {},
   "outputs": [
    {
     "data": {
      "text/plain": [
       "9"
      ]
     },
     "execution_count": 17,
     "metadata": {},
     "output_type": "execute_result"
    }
   ],
   "source": [
    "# Lösung:\n",
    "def suche_linear_optimiert(liste, wert):\n",
    "    # Die Variable index_gefunden brauchen Sie hier nicht mehr ...\n",
    "    for i in range(0, len(liste)):\n",
    "        if liste[i] == wert:\n",
    "            return i\n",
    "    # ... Falls die Schleife verlassen wird, wurde nichts gefunden.\n",
    "    # In diesem Falle kann der Wert direkt zurückgegeben werden. \n",
    "    return index_gefunden\n",
    "\n",
    "\n",
    "suche_linear_optimiert(unsortierte_liste, gesuchter_wert)"
   ]
  },
  {
   "cell_type": "markdown",
   "metadata": {},
   "source": [
    "**Challenge – Zeitmessungen mit dem Modul time**\n",
    "\n",
    "Mit Hilfe der Funktion `time.time()` des Moduls time lassen sich Zeitstempel abfragen. Sie können sich vorstellen, dass Sie am Anfang des zu messenden Bereichs einen Timer stellen und am Ende schauen, wieviel Zeit vergangen ist. Dazu rufen Sie zweimal (am Anfang und am Ende des zu messenden Bereichs) die Funktion `time.time()` auf und ermitteln die Differenz dieser beiden Werte.\n",
    "Das Modul time bietet noch andere zeitbezogene Funktionen.\n",
    "\n",
    "Beispiel:\n",
    "\n",
    "Um die Zeitmessung zu demonstrieren, wird die Funktion `time.sleep(d)` verwendet, wobei `d` der Dauer der *Wartezeit* in Sekunden entspricht.\n",
    "Der Startwert wird in die Variable startzeitpunkt gespeichert, dann wird in einer Schleife zehnmal eine Sekunde lang gewartet und anschliessend wird der aktuelle Wert in die Variable endzeitpunkt gespeichert. Die Differenz der beiden Werte entspricht der vergangenen Dauer in Sekunden und wird ausgegeben.\n",
    "Da im Beispiel zehnmal eine Sekunde gewartet wird, liegt die Ausgabe leicht über zehn Sekunden."
   ]
  },
  {
   "cell_type": "code",
   "execution_count": 19,
   "metadata": {},
   "outputs": [
    {
     "name": "stdout",
     "output_type": "stream",
     "text": [
      "Benötigte Zeit in Sekunden: 10.034257888793945\n"
     ]
    }
   ],
   "source": [
    "import time\n",
    "\n",
    "# Startzeitpunkt erfassen:\n",
    "startzeitpunkt = time.time()\n",
    "\n",
    "for i in range(10):\n",
    "    time.sleep(1) \n",
    "    \n",
    "# Endzeitpunkt erfassen:\n",
    "endzeitpunkt = time.time()\n",
    "   \n",
    "print(\"Benötigte Zeit in Sekunden:\", (endzeitpunkt - startzeitpunkt)) "
   ]
  },
  {
   "cell_type": "markdown",
   "metadata": {},
   "source": [
    "* Erstellen Sie sich nun geeignete Listen (auf- und absteigend sortiert, zufällig) und machen Sie Zeitmessungen mit dem Modul time.\n",
    "* Um einen Effekt zu sehen, müssen Sie eine sehr lange Liste machen (100000 Elemente)."
   ]
  },
  {
   "cell_type": "code",
   "execution_count": null,
   "metadata": {},
   "outputs": [],
   "source": [
    "# Ihr Code..."
   ]
  },
  {
   "cell_type": "code",
   "execution_count": 44,
   "metadata": {},
   "outputs": [
    {
     "name": "stdout",
     "output_type": "stream",
     "text": [
      " -- Messungen aufsteigende Liste, erstes Element\n",
      "- Lineare Suche: Das gesuchte Element 0 befindet sich bei Index 0\n",
      "Benötigte Zeit in Sekunden: 0.007557868957519531\n",
      "- Lineare Suche optimiert: Das gesuchte Element 0 befindet sich bei Index 0\n",
      "Benötigte Zeit in Sekunden: 3.0994415283203125e-06\n",
      "-- Vom normalen zum optimierten: Faktor 2438.4615384615386\n",
      "\n",
      " -- Messungen aufsteigende Liste, letztes Element\n",
      "- Lineare Suche: Das gesuchte Element 99999 befindet sich bei Index 99999\n",
      "Benötigte Zeit in Sekunden: 0.007783174514770508\n",
      "- Lineare Suche optimiert: Das gesuchte Element 99999 befindet sich bei Index 99999\n",
      "Benötigte Zeit in Sekunden: 0.011626958847045898\n",
      "-- Vom normalen zum optimierten: Faktor 0.6694075911989665\n",
      "\n",
      " -- Messungen aufsteigende Liste, letztes Element\n",
      "- Lineare Suche: Das gesuchte Element 99999 befindet sich bei Index 5634\n",
      "Benötigte Zeit in Sekunden: 0.022059917449951172\n",
      "- Lineare Suche optimiert: Das gesuchte Element 99999 befindet sich bei Index 99999\n",
      "Benötigte Zeit in Sekunden: 0.009311199188232422\n",
      "-- Vom normalen zum optimierten: Faktor 2.369181133814718\n",
      "\n",
      "-- Vergleich vom besten Fall zum schlechtesten\n",
      "- Lineare Suche: Faktor 1.0298107255520506\n",
      "- Lineare Suche optimiert: Faktor 3751.3076923076924\n"
     ]
    }
   ],
   "source": [
    "# Listen erstellen:\n",
    "liste_aufsteigend = [x for x in range(100000)]\n",
    "liste_zufaellig = [x for x in range(100000)]\n",
    "random.shuffle(liste_zufaellig)\n",
    "\n",
    "# Liste durchgehen und am Ende den Index des gesuchten Eintrags ausgeben\n",
    "\n",
    "def messe_suche_linear(liste, wert):\n",
    "    \n",
    "    index_ges_element = -1\n",
    "    \n",
    "    # Timer starten:\n",
    "    startzeit = time.time() \n",
    "\n",
    "    index_ges_element = suche_linear(liste, wert)\n",
    "\n",
    "    # Timer stoppen:\n",
    "    endzeit = time.time()\n",
    "\n",
    "    dauer_normal = endzeit - startzeit\n",
    "    print(\"- Lineare Suche: Das gesuchte Element\", gesuchtes_element, \"befindet sich bei Index\", index_ges_element)\n",
    "    print(\"Benötigte Zeit in Sekunden:\", (dauer_normal)) \n",
    "    \n",
    "    return dauer_normal\n",
    "\n",
    "\n",
    "# Optimierte Linere Suche\n",
    "def messe_suche_linear_optimiert(liste, wert):\n",
    "    \n",
    "    index_ges_element = -1\n",
    "    \n",
    "    # Timer starten:\n",
    "    startzeit = time.time() \n",
    "\n",
    "    index_ges_element = suche_linear_optimiert(liste, wert)\n",
    "\n",
    "    # Timer stoppen:\n",
    "    endzeit = time.time()\n",
    "\n",
    "    dauer_optimiert = endzeit - startzeit\n",
    "    print(\"- Lineare Suche optimiert: Das gesuchte Element\", gesuchtes_element, \"befindet sich bei Index\", index_ges_element)\n",
    "    print(\"Benötigte Zeit in Sekunden:\", (dauer_optimiert)) \n",
    "    return dauer_optimiert\n",
    "\n",
    "\n",
    "print(\" -- Messungen aufsteigende Liste, erstes Element\")\n",
    "\n",
    "# aufsteigende Liste, erstes Element\n",
    "gesuchtes_element = liste_aufsteigend[0]  # Das Element, nach dem gesucht wird\n",
    "dauer_normal1 = messe_suche_linear(liste_aufsteigend, gesuchtes_element)\n",
    "dauer_optimiert1 = messe_suche_linear_optimiert(liste_aufsteigend, gesuchtes_element)\n",
    "print(\"-- Vom normalen zum optimierten: Faktor\", (dauer_normal1/dauer_optimiert1))\n",
    "print() # Leerzeile\n",
    "\n",
    "print(\" -- Messungen aufsteigende Liste, letztes Element\")\n",
    "# aufsteigende Liste, letztes Element\n",
    "gesuchtes_element = liste_aufsteigend[len(liste_aufsteigend)-1]  # Das Element, nach dem gesucht wird\n",
    "dauer_normal2 = messe_suche_linear(liste_aufsteigend, gesuchtes_element)\n",
    "dauer_optimiert2 = messe_suche_linear_optimiert(liste_aufsteigend, gesuchtes_element)\n",
    "print(\"-- Vom normalen zum optimierten: Faktor\", (dauer_normal2/dauer_optimiert2))\n",
    "print() # Leerzeile\n",
    "\n",
    "print(\" -- Messungen aufsteigende Liste, letztes Element\")\n",
    "# normale Liste (dasselbe Element wie im letzten Durchgang)\n",
    "dauer_normal3 = messe_suche_linear(liste_zufaellig, gesuchtes_element)\n",
    "dauer_optimiert3 = messe_suche_linear_optimiert(liste_aufsteigend, gesuchtes_element)\n",
    "print(\"-- Vom normalen zum optimierten: Faktor\", (dauer_normal3/dauer_optimiert3))\n",
    "print() # Leerzeile\n",
    "\n",
    "print(\"-- Vergleich vom besten Fall zum schlechtesten\")\n",
    "print(\"- Lineare Suche: Faktor\", (dauer_normal2/dauer_normal1))\n",
    "print(\"- Lineare Suche optimiert: Faktor\", (dauer_optimiert2/dauer_optimiert1))"
   ]
  },
  {
   "cell_type": "markdown",
   "metadata": {},
   "source": [
    "### Binäre Suche\n",
    "\n",
    "In einem geordneten (sortierten) Array lässt sich ein Element deutlich schneller finden, da der Suchbereich nach dem Prinzip *Teile und Herrsche* immer mehr **eingegrenzt** werden kann, bis das gesuchte Element gefunden ist.\n",
    "\n",
    "Wenn Sie von einem von aufsteigend sortierten Array ausgehen, gibt es für jeden Vergleich drei Möglichkeiten:\n",
    "* Der Wert des Elements ist **gleich** dem gesuchten Wert:  \n",
    "  Sie haben das Element **gefunden** und sind **fertig**.\n",
    "* Der Wert des Elements ist **kleiner** als der gesuchte Wert:  \n",
    "  Sie können das Element und alle Elemente des unteren Teils der Liste ausschliessen und sich auf den oberen Teil konzentrieren.\n",
    "* Der Wert des Elements ist **grösser** als der gesuchte Wert:  \n",
    "  Sie können das Element und alle Elemente oberhalb ausschliessen und sich auf die untere Seite der Liste konzentrieren.\n",
    "\n",
    "Überlegen Sie sich kurz, welches Element Sie wählen würden, um jeweils einen möglichst grossen Teil der Liste verwerfen zu können.\n",
    "\n",
    "<details>\n",
    "    <summary>\n",
    "        Lösung\n",
    "    </summary>\n",
    "\n",
    "Wie Sie bestimmt geahnt haben, werden Sie das Element in der Mitte der Liste wählen, um jeweils einen mögichst grossen Teil der Liste verwerfen zu können.\n",
    "\n",
    "</details>\n",
    "\n",
    "**Aufgabe 4 – Algorithmus beschreiben**\n",
    "\n",
    "Schreiben Sie die binäre Suche in Pseudocode oder erklären Sie in eigenen Worten, wie der Algorithmus funktioniert.\n",
    "\n",
    "Schauen Sie sich [die Animation auf der Seite der Universität San Francisco](https://www.cs.usfca.edu/~galles/visualization/Search.html) an, falls Sie Mühe haben, sich vorzustellen, wie die binäre Suche genau funktioniert.\n",
    "\n",
    "**Challenge – Binäre Suche**\n",
    "\n",
    "Versuchen Sie sich and die Schritte zu halten, die Sie ans Ziel führen. Falls Sie die Challenge in Angriff nehmen möchten, nur zu. Ansonsten können Sie jederzeit hierher zurück kommen.\n",
    "\n",
    "* Für diese Liste können Sie eine aufsteigende Liste erstellen oder eine solche wiederverwenden, wenn Sie weiter oben bereits eine gemacht haben.\n",
    "* Wie bereits im Falle der linearen Suche soll der Wert `-1` ausgegeben werden, wenn kein Element mit dem gesuchten Wert in der Liste enthalten ist.\n",
    "* kennzeichnen Sie die Ränder des Listenteils, in dem Sie noch suchen mit den Variablen `links` und `rechts`.\n",
    "* Überprüpfen Sie am Anfang, ob der gesuchte Wert in der Liste enthalten ist (dann muss er innerhalb des Bereichts von `links` bis und mit `rechts` sein).\n",
    "* Nachdem Sie überprüft haben, dass das Element vom Wert her in der Liste enthalten sein kann. können Sie mit der eigentlichen Suche beginnen:\n",
    "    * Um sicherzustellen, dass nicht nur einmal gesucht wird, brauchen Sie eine Schleife, die solange ausgeführt wird, wie mehr als ein Element in der Teilliste enthalten ist.\n",
    "    * Wenn das Element nicht gefunden wird, können Sie es zum linken oder rechten Rand der übrigbleibenden Suchliste machen.\n",
    "    * \n",
    "* zählen Sie am Ende die Durchgänge."
   ]
  },
  {
   "cell_type": "code",
   "execution_count": 1,
   "metadata": {},
   "outputs": [],
   "source": [
    "# Ihr Code..."
   ]
  },
  {
   "cell_type": "code",
   "execution_count": 58,
   "metadata": {},
   "outputs": [
    {
     "name": "stdout",
     "output_type": "stream",
     "text": [
      "Liste: [0, 1, 2, 3, 4, 5, 6, 7, 8, 9, 10, 11, 12, 13, 14, 15, 16, 17, 18, 19, 20, 21, 22, 23, 24, 25, 26, 27, 28, 29, 30, 31, 32, 33, 34, 35, 36, 37, 38, 39, 40, 41, 42, 43, 44, 45, 46, 47, 48, 49, 50, 51, 52, 53, 54, 55, 56, 57, 58, 59, 60, 61, 62, 63, 64, 65, 66, 67, 68, 69, 70, 71, 72, 73, 74, 75, 76, 77, 78, 79, 80, 81, 82, 83, 84, 85, 86, 87, 88, 89, 90, 91, 92, 93, 94, 95, 96, 97, 98, 99] \n",
      "gesuchter Wert: 12\n",
      "0 99\n",
      "Durchgang 0 links 0 rechts 99 mitte 49\n",
      "Durchgang 1 links 0 rechts 49 mitte 24\n",
      "Durchgang 2 links 0 rechts 24 mitte 12\n",
      "Mitte im Durchgang 2\n",
      "Wert 12 ist an der Stelle 12\n"
     ]
    }
   ],
   "source": [
    "# Lösung:\n",
    "meine_liste = [x for x in range(100)]\n",
    "gesuchter_wert = 12\n",
    "print(\"Liste:\", liste, \"\\ngesuchter Wert:\", gesuchter_wert)\n",
    "\n",
    "\n",
    "def binaere_suche(liste, wert):\n",
    "\n",
    "    links = 0\n",
    "    rechts = len(liste) - 1\n",
    "    print(liste[links], liste[rechts])\n",
    "\n",
    "    # Ränder überprüfen\n",
    "    if wert < liste[links] or wert > liste[rechts]:\n",
    "        print(\"keine Chance\")\n",
    "        index =  -1\n",
    "    elif liste[links] == wert:\n",
    "        print(\"Rand links\")\n",
    "        index = links\n",
    "    elif liste[rechts] == wert:\n",
    "        print(\"Rand rechts\")\n",
    "        index = rechts\n",
    "\n",
    "    # Liste durchgehen, solange das Teilstück grösser ist als 1\n",
    "    durchgang = 0\n",
    "    # index wird den Index des gesuchten Werts in de Liste erhalten. \n",
    "    # Falls das Element nicht in der Liste vorhanden ist, soll index den Wert -1 haben.\n",
    "    # Da der Wert überschrieben wird, sobald das gesuchte Element gefunden ist, können Sie\n",
    "    # die Variable index gleich mit dem Wert -1 initialisieren.\n",
    "    index = -1 \n",
    "    while (rechts - links) > 1:\n",
    "\n",
    "        # Die Mitte des neuen Teilbereichs bestimmen\n",
    "        mitte = (rechts + links) // 2\n",
    "        print(\"Durchgang\", durchgang, \"links\", links, \"rechts\", rechts, \"mitte\", mitte)\n",
    "\n",
    "        # Da die Liste geordnet ist, können Sie den Wert in der Mitte des neuen \n",
    "        # Teilbereichs mit dem gesuchten Wert vergleichen.\n",
    "\n",
    "        # Sind die beiden Werte gleich, haben Sie das Element gefunden und sind fertig\n",
    "        if liste[mitte] == gesuchter_wert:\n",
    "            print(\"Mitte im Durchgang\", durchgang)\n",
    "            index = mitte\n",
    "            return index #break\n",
    "        # Ist der Wert in der Mitte kleiner als das gesuchte Element, \n",
    "        # suchen Sie rechts davon (die Mitte wird zum linken Rand des neuen Suchbereichs)\n",
    "        elif liste[mitte] < gesuchter_wert:\n",
    "            links = mitte\n",
    "        # Ansonsten suchen Sie links von der Mitte (die Mitte wird zum rechten Rand des \n",
    "        # neuen Suchbereichs)\n",
    "        else:\n",
    "            rechts = mitte\n",
    "        # Da Sie in einer while-Schleife sind, müssen Sie die Laufvariable i noch anpassen\n",
    "        durchgang += 1\n",
    "\n",
    "index = binaere_suche(meine_liste, gesuchter_wert)\n",
    "if index >= 0:\n",
    "    print(\"Wert\", gesuchter_wert, \"ist an der Stelle\", index)\n",
    "else:\n",
    "    print(\"Der Wert\", gesuchter_wert, \"ist nicht in der Liste enthalten\")\n"
   ]
  },
  {
   "cell_type": "code",
   "execution_count": null,
   "metadata": {},
   "outputs": [],
   "source": []
  }
 ],
 "metadata": {
  "kernelspec": {
   "display_name": "Python 3",
   "language": "python",
   "name": "python3"
  },
  "language_info": {
   "codemirror_mode": {
    "name": "ipython",
    "version": 3
   },
   "file_extension": ".py",
   "mimetype": "text/x-python",
   "name": "python",
   "nbconvert_exporter": "python",
   "pygments_lexer": "ipython3",
   "version": "3.8.8"
  }
 },
 "nbformat": 4,
 "nbformat_minor": 4
}
