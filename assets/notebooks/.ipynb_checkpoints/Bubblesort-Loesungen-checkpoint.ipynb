{
 "cells": [
  {
   "cell_type": "markdown",
   "metadata": {},
   "source": [
    "# Bubblesort"
   ]
  },
  {
   "cell_type": "markdown",
   "metadata": {},
   "source": [
    "Bubblesort ist ein sehr berühmter Sortieralgorithmus. Das Prinzip ist recht einfach: Hohe Werte steigen schneller auf als weniger hohe Werte, analog der Luftblasen (&laquo;bubbles&raquo;) in einem Glas Mineralwasser, wo grössere Luftblasen ebenfalls schneller aufsteigen.\n",
    "\n",
    "In diesem Notebook sind die Aufgaben etwas offener formuliert, nachdem die wichtigsten Konzepte noch einmal geübt werden. Die Aufgaben sind anstelle von Schritten mit einer Liste von Hinweisen versehen.\n",
    "\n",
    "---\n",
    "**Ziele**\n",
    "\n",
    "Sie können\n",
    "* den Bubblesort-Algorithmus in eigenen Worten beschreiben.\n",
    "* den Bubblesort-Algorithmus implementieren (ohne oder mit Optimierungen).\n",
    "* Ihre Implementation und die allfällige Optimierung erklären.\n",
    "* verstehen, wie der Bubblesort-Algorithmus optimiert werden kann.\n",
    "---\n",
    "\n",
    "## Algorithmus\n",
    "\n",
    "Schauen Sie sich die folgende Animation von [visualgo.net](https://visualgo.net/en/sorting?slide=7) an. \n",
    "\n",
    "*Um den Videoclip sehen zu können, müssen Sie allenfalls die folgende Zelle ausführen.*"
   ]
  },
  {
   "cell_type": "code",
   "execution_count": 1,
   "metadata": {},
   "outputs": [
    {
     "data": {
      "text/html": [
       "\n",
       "        <iframe\n",
       "            width=\"560\"\n",
       "            height=\"315\"\n",
       "            src=\"https://www.youtube.com/embed/mcFOilpoGDA?rel=0&amp;controls=0&amp;showinfo=0\"\n",
       "            frameborder=\"0\"\n",
       "            allowfullscreen\n",
       "        ></iframe>\n",
       "        "
      ],
      "text/plain": [
       "<IPython.lib.display.IFrame at 0x7fbe636a06a0>"
      ]
     },
     "execution_count": 1,
     "metadata": {},
     "output_type": "execute_result"
    }
   ],
   "source": [
    "# Führen Sie diese Zelle aus, um den Videoclip sehen zu können.\n",
    "\n",
    "import IPython\n",
    "\n",
    "IPython.display.IFrame(src=\"https://www.youtube.com/embed/mcFOilpoGDA?rel=0&amp;controls=0&amp;showinfo=0\", width=560, height=315)"
   ]
  },
  {
   "cell_type": "markdown",
   "metadata": {},
   "source": [
    "**Aufgabe 1 – Bubblesort beschreiben**\n",
    "\n",
    "Schreiben Sie den Bubblesort-Algorithmus in eigenen Worten auf. Eine gute Beschreibung in Worten, die auch jüngere Kolleginnen und Kollegen verstehen, die sich damit noch nicht auseinandergesetzt haben, hilft Ihnen später bei der Umsetzung."
   ]
  },
  {
   "cell_type": "code",
   "execution_count": null,
   "metadata": {},
   "outputs": [],
   "source": [
    "# Machen Sie aus dieser Zelle eine Markdownzelle und \n",
    "# beschreiben Sie den Bubblesort-Algorithmus in eigenen Worten."
   ]
  },
  {
   "cell_type": "markdown",
   "metadata": {},
   "source": [
    "## Vorbereitungen\n",
    "\n",
    "Um den Bubblesort-Algorithmus zu implementieren, werden Sie oft Listenelemente tauschen müssen und sie werden die Liste mehrmals durchgehen müssen. Dies werden Sie hier noch einmal wiederholen.\n",
    "\n",
    "### Platztausch in der Liste\n",
    "\n",
    "Der Platztausch wurde bereits bei Selection Sort thematisiert. \n",
    "\n",
    "<details>\n",
    "    <summary>\n",
    "Falls Sie die Theorie dazu benötigen, können Sie diese hier noch einmal aufklappen.\n",
    "    </summary>\n",
    "\n",
    "**Variabeltausch**  \n",
    "Stellen Sie sich vor, Sie haben zwei Variablen `a` und `b`:\n",
    "    \n",
    "```Python\n",
    "a = 3\n",
    "b = 5\n",
    "```\n",
    "\n",
    "Wenn Sie nun der Variable `a` den Wert der Variable `b` zuweisen, haben beide Variablen denselben Wert und Sie haben den ursprünglichen Wert der Variable `a` verloren.\n",
    "\n",
    "Sie müssen also eine Lösung finden, wie Sie den Wert der Variable `a` nicht verlieren, wenn Sie den Wert der Variable `b` in die Variable `a` schreiben.\n",
    "\n",
    "Sie haben jederzeit die Möglichkeit, neue Variablen zu erstellen und können den Wert der Variable `a` problemlos in einer neuen Variable zwischenspeichern. Diese neue Variable nennt man **Hilfsvariable**. Da sie nur vorübergehend, also *temporär* genutzt wird, nennt man sie in der Regel `temp`. Sie können Sie aber auch `c` nennen oder `luisa` oder `adrian`.\n",
    "\n",
    "Der Variabeltausch wird folgendermassen implementiert:\n",
    "\n",
    "```Python\n",
    "a = 3\n",
    "b = 5\n",
    "\n",
    "temp = a # Hilfsvariable\n",
    "# nun ist der Wert der Variable a nicht verloren (sondern in temp gespeichert) und Sie können a einen neuen Wert zuweisen:\n",
    "a = b\n",
    "b = a\n",
    "```\n",
    "\n",
    "**Platztausch in der Liste**  \n",
    "Wenn Sie in einer Liste zwei Plätze tauschen wollen, gehen sie genauso vor wie wenn Sie zwei Variabeln tauschen möchten – mit dem einzigen Unterschied, dass Sie nun keine Variablen haben, sondern Listenelemente, auf die Sie, über die Indizes zugreifen.\n",
    "</details>\n",
    "\n",
    "\n",
    "**Aufgabe 2 – Tausch zweier Listenelemente**\n",
    "\n",
    "Implementieren Sie einen \"Platztausch\", oft auch \"Swap\" genannt. \n",
    "\n",
    "Erstellen Sie dazu eine Funktion `swap(liste, index1, index2)`, die eine Liste und zwei Indizes entgegennimmt.\n",
    "Testen Sie Ihre Lösung mit einer kurzen Liste, bei der Sie das erste und letzte Element tauschen.\n",
    "\n",
    "Falls Sie Mühe haben, versuchen Sie zuerst zwei Variablen `a` und `b` zu tauschen und ersetzen Sie anschliessend Ihre Variablen durch Listenelemente."
   ]
  },
  {
   "cell_type": "code",
   "execution_count": null,
   "metadata": {},
   "outputs": [],
   "source": [
    "# Ihre Code..."
   ]
  },
  {
   "cell_type": "code",
   "execution_count": 2,
   "metadata": {},
   "outputs": [
    {
     "name": "stdout",
     "output_type": "stream",
     "text": [
      "[4, 2, 3, 1]\n",
      "4 2\n",
      "2 4\n",
      "1 2\n",
      "2 1\n",
      "[4, 2, 3, 1]\n",
      "[4, 3, 2, 1]\n"
     ]
    }
   ],
   "source": [
    "# Lösung:\n",
    "\n",
    "meine_liste = [1, 2, 3, 4]\n",
    "\n",
    "def swap(liste, index1, index2):\n",
    "    temp = liste[index1]\n",
    "    liste[index1] = liste[index2]\n",
    "    liste[index2] = temp\n",
    "\n",
    "swap(meine_liste, 0, len(meine_liste)-1)\n",
    "print(meine_liste)\n",
    "\n",
    "# Zusatz: Swap zweier Variablen:\n",
    "\n",
    "a = 4\n",
    "b = 2\n",
    "print(a,b)\n",
    "temp = a\n",
    "a = b\n",
    "b = temp\n",
    "print(a,b)\n",
    "\n",
    "\"\"\"\n",
    "Zusatzinformation für Interessierte und bereits etwas erfahrene Programmierer*innen:\n",
    "\n",
    "Ein Swap ist auch über Tupel möglich.\n",
    "\"\"\"\n",
    "\n",
    "# Variablentausch:\n",
    "x=1\n",
    "y=2\n",
    "print(x,y)\n",
    "(x,y) = (y,x)\n",
    "print(x,y)\n",
    "\n",
    "# Tausch zweier Listenelemente:\n",
    "print(meine_liste)\n",
    "(meine_liste[1], meine_liste[2]) = (meine_liste[2], meine_liste[1])\n",
    "print(meine_liste)"
   ]
  },
  {
   "cell_type": "markdown",
   "metadata": {},
   "source": [
    "### Eine Liste für jedes Element durchlaufen\n",
    "\n",
    "Wie schon bei den vorangehenden Algorithmen muss jedes Element einzeln einsortiert werden. Dazu werden verschachtelte Schleifen verwendet.\n",
    "\n",
    "Das folgende Programm erstellt eine Liste und gibt die Elemente nebeneinander aus. Dazu ist eine Schleife nötig. \n",
    "```Python\n",
    "liste = [x for x in range(10)]\n",
    "\n",
    "for i in range(len(liste)):\n",
    "    print(liste[i], end=\" \")\n",
    "```\n",
    "Ausgabe:\n",
    "\n",
    "`0 1 2 3 4 5 6 7 8 9`\n",
    "\n",
    "**Aufgabe 3 – Schleifen verschachteln**\n",
    "\n",
    "Anhand dieser Aufgabe machen Sie sich Gedanken dazu, wie Sie eine Schleife \n",
    "\n",
    "a) Ergänzen Sie das Programm, damit die folgende Ausgabe entsteht:\n",
    "\n",
    "> `0 1 2 3 4 5 6 7 8 9`  \n",
    "> `0 1 2 3 4 5 6 7 8 9`  \n",
    "> `0 1 2 3 4 5 6 7 8 9`  \n",
    "> `0 1 2 3 4 5 6 7 8 9`  \n",
    "> `0 1 2 3 4 5 6 7 8 9`  \n",
    "> `0 1 2 3 4 5 6 7 8 9`  \n",
    "> `0 1 2 3 4 5 6 7 8 9`  \n",
    "> `0 1 2 3 4 5 6 7 8 9`  \n",
    "> `0 1 2 3 4 5 6 7 8 9`  \n",
    "> `0 1 2 3 4 5 6 7 8 9`  "
   ]
  },
  {
   "cell_type": "code",
   "execution_count": null,
   "metadata": {},
   "outputs": [],
   "source": [
    "# Ihr Code:"
   ]
  },
  {
   "cell_type": "code",
   "execution_count": 3,
   "metadata": {},
   "outputs": [
    {
     "name": "stdout",
     "output_type": "stream",
     "text": [
      "0 1 2 3 4 5 6 7 8 9 \n",
      "0 1 2 3 4 5 6 7 8 9 \n",
      "0 1 2 3 4 5 6 7 8 9 \n",
      "0 1 2 3 4 5 6 7 8 9 \n",
      "0 1 2 3 4 5 6 7 8 9 \n",
      "0 1 2 3 4 5 6 7 8 9 \n",
      "0 1 2 3 4 5 6 7 8 9 \n",
      "0 1 2 3 4 5 6 7 8 9 \n",
      "0 1 2 3 4 5 6 7 8 9 \n",
      "0 1 2 3 4 5 6 7 8 9 \n"
     ]
    }
   ],
   "source": [
    "# Lösung:\n",
    "\n",
    "liste = [x for x in range(10)]\n",
    "\n",
    "for j in range(len(liste)): # Es braucht eine Schleife um die Schleife (mit einer anderen Laufvariable)\n",
    "    for i in range(len(liste)):\n",
    "        print(liste[i], end=\" \")\n",
    "    print() # Für den Zeilenumbruch"
   ]
  },
  {
   "cell_type": "markdown",
   "metadata": {},
   "source": [
    "b) Diese Teilaufgabe bereitet Sie auf die Optimierung von Bubblesort vor.\n",
    "\n",
    "Ändern Sie nun Ihr Programm so ab, dass Sie die folgende Ausgabe bekommen:\n",
    "\n",
    "> `0 1 2 3 4 5 6 7 8 9`  \n",
    "> `1 2 3 4 5 6 7 8 9`  \n",
    "> `2 3 4 5 6 7 8 9`  \n",
    "> `3 4 5 6 7 8 9`  \n",
    "> `4 5 6 7 8 9`  \n",
    "> `5 6 7 8 9`  \n",
    "> `6 7 8 9`  \n",
    "> `7 8 9`  \n",
    "> `8 9`  \n",
    "> `9`"
   ]
  },
  {
   "cell_type": "code",
   "execution_count": null,
   "metadata": {},
   "outputs": [],
   "source": [
    "# Ihr Code:"
   ]
  },
  {
   "cell_type": "code",
   "execution_count": 4,
   "metadata": {},
   "outputs": [
    {
     "name": "stdout",
     "output_type": "stream",
     "text": [
      "0 1 2 3 4 5 6 7 8 9 \n",
      "1 2 3 4 5 6 7 8 9 \n",
      "2 3 4 5 6 7 8 9 \n",
      "3 4 5 6 7 8 9 \n",
      "4 5 6 7 8 9 \n",
      "5 6 7 8 9 \n",
      "6 7 8 9 \n",
      "7 8 9 \n",
      "8 9 \n",
      "9 \n"
     ]
    }
   ],
   "source": [
    "# Lösung:\n",
    "\n",
    "liste = [x for x in range(10)]\n",
    "\n",
    "for j in range(len(liste)): # Es braucht eine Schleife um die Schleife (mit einer anderen Laufvariable)\n",
    "    for i in range(j, len(liste)):\n",
    "        print(liste[i], end=\" \")\n",
    "    print() # Für den Zeilenumbruch"
   ]
  },
  {
   "cell_type": "markdown",
   "metadata": {},
   "source": [
    "## Implementation von Bubblesort\n",
    "\n",
    "Nun sind Sie gerüstet und können den Bubblesort-Algorithmus implementieren, optimieren und Ihre Versionen vergleichen.\n",
    "\n",
    "**Wozu Optimierungen?**\n",
    "\n",
    "Eine Liste aus einer überschaubaren Anzahl von Elementen würde sich problemlos von Hand sortieren lassen und wenn nur wenige Elemente sortiert werden sollen, macht es noch keinen Unterschied, ob Vergleiche mehrfach ausgeführt oder eingespart werden, da Ihr Computer so schnell ist, dass Sie kaum einen Unterschied erkennen werden. Bei grösseren Listen kann es aber bereits einen Unterschied machen und gerade das Sortieren ist eine Aufgabe, die immer wieder zur Anwendung kommt. Da ist es unabdingbar, effiziente Algorithmen zur Hand zu haben.\n",
    "\n",
    "In der Regel werden Algorithmen aber nicht auf überschaubare Datenmengen angewandt, sondern auf Unmengen von Daten. Da ist durchaus ein Unterschied erkennbar. Die Investition in einen effizienten Algorithmus lohnt sich durchaus und ist überdies auch interessanter als das blosse Programmierhandwerk, denn damit können Sie einen wirklich wichtigen Unterschied machen.\n",
    "\n",
    "Sie werden nun am Beispiel des Bubblesort-Algorithmus sehen, wie sich auch ein nicht gerade für seine Effizienz bekannter Algorithmus noch optimieren lässt.\n",
    "\n",
    "### Brute Force\n",
    "\n",
    "Beim Entwickeln lohnt es sich jeweils, sich zu Beginn eine ganz einfache Lösung zu überlegen und diese zu implementieren. Dabei spricht man von \"Brute Force\", \"roher Gewalt\". Das ist nicht so böse, wie es scheinen mag, aber vielleicht ist es eine Anspielung darauf, dass diese ersten Lösungen etwas unschön und unnötig kostspielig sind: Ohne viel zu überlegen wird einfach mal drauf los gearbeitet. Eine Brute Force Lösung zeigt auf, dass das Problem in seinen Grundzügen verstanden ist und sich lösen lässt. Sie bildet eine Basis, auf der aufgebaut werden kann.\n",
    "\n",
    "Im Falle von Bubblesort besteht die Brute Force Lösung darin, für jedes Listenelement die ganze Liste durchzugehen.\n",
    "\n",
    "\n",
    "\n",
    "**Aufgabe 4 – Erste Implementation (Brute Force, ohne Optimierungen)**\n",
    "\n",
    "Es ist für den Vergleich der verschiedenen Optimierungsschritte wichtig, ganz einfach anzufangen.  \n",
    "\n",
    "a) Implementieren Sie den Bubblesort-Algorithmus.\n",
    "\n",
    "Hinweise\n",
    "\n",
    "* Fangen Sie mit einer kurzen Liste an, z. B. `unsortierte_liste = [8, 3, 5, 2]`.\n",
    "* Implementieren Sie den ersten Durchgang und überprüfen Sie Ihre Ausgabe.\n",
    "* Wenn der erste Durchgang klappt, erweitern Sie Ihr Programm, um die ganze Liste zu sortieren.\n",
    "* Stellen Sie sicher, dass sich Ihr Programm auch auf grössere Listen anwenden lässt.\n",
    "\n",
    "b) Zählen Sie in Ihrem Programm die Anzahl Vergleiche und geben Sie diese aus."
   ]
  },
  {
   "cell_type": "code",
   "execution_count": null,
   "metadata": {},
   "outputs": [],
   "source": [
    "# Ihr Code..."
   ]
  },
  {
   "cell_type": "code",
   "execution_count": 5,
   "metadata": {},
   "outputs": [
    {
     "name": "stdout",
     "output_type": "stream",
     "text": [
      "Liste unsortiert: [8, 3, 5, 2]\n",
      "Liste am Ende der Runde 0 : [3, 5, 2, 8]\n",
      "Liste am Ende der Runde 1 : [3, 2, 5, 8]\n",
      "Liste am Ende der Runde 2 : [2, 3, 5, 8]\n",
      "Anzahl Vergleiche: 9\n"
     ]
    },
    {
     "data": {
      "text/plain": [
       "9"
      ]
     },
     "execution_count": 5,
     "metadata": {},
     "output_type": "execute_result"
    }
   ],
   "source": [
    "# Lösung:\n",
    "\n",
    "# Bubblesort\n",
    "def bubblesort0(liste):\n",
    "    vergleiche = 0\n",
    "    # Die äussere Schleife sorgt dafür, dass alle Elemente an ihren Platz gelangen.\n",
    "    for j in range(0,len(liste)-1):\n",
    "        # In der inneren Schleife wird ein Element einsortiert (ein Durchgang)\n",
    "        for i in range(1,len(liste)):\n",
    "            vergleiche +=1 # Vor dem if die Anzahl Vergleiche erhöhen\n",
    "            if liste[i] < liste[i-1]:\n",
    "                # Stellentausch\n",
    "                temp = liste[i-1]\n",
    "                liste[i-1] = liste[i]\n",
    "                liste[i] = temp\n",
    "        # Am Ende der inneren Schleife ist ein Element einsortiert.\n",
    "        # Zur Kontrolle können Sie die Liste ausgeben:\n",
    "        print(\"Liste am Ende der Runde\", j, \":\", liste)\n",
    "    print(\"Anzahl Vergleiche:\", vergleiche)\n",
    "    # Hier ist die ganze Liste sortiert.\n",
    "    # Zur Kontrolle können Sie die Liste ausgeben:\n",
    "    #print(\"Sortierte Liste:\", liste)\n",
    "\n",
    "    return vergleiche\n",
    "\n",
    "unsortierte_liste = [8, 3, 5, 2]\n",
    "print(\"Liste unsortiert:\", unsortierte_liste)\n",
    "bubblesort0(unsortierte_liste)"
   ]
  },
  {
   "cell_type": "markdown",
   "metadata": {},
   "source": [
    "### Erste Optimierung\n",
    "\n",
    "Nun werden Sie die erste (und wichtigste) Optimierung in Angriff nehmen.\n",
    "\n",
    "**Aufgabe 5 – Erste Optimierung**\n",
    "\n",
    "a) Überlegen Sie sich, ob es Vergleiche gibt, die Sie einsparen können.\n",
    "\n",
    "<details>\n",
    "    <summary>\n",
    "Hinweis für den Fall, dass Sie nicht weiterkommen\n",
    "    </summary>\n",
    "\n",
    "Der Name &laquo;Bubblesort&raquo; kommt daher, dass grössere Luftblasen im Wasser schneller aufsteigen als kleine.\n",
    "\n",
    "Eine Eigenschaft des Bubblesort-Algorithmus ist, dass bei jedem Durchgang das grösste Element am Ende des noch unsortierten Teils zu liegen kommt und damit seinen Platz in der geordneten Liste einnimmt. Nach dem ersten Durchgang ist das erste Element somit einsortiert. Es muss beim zweiten Durchgang nicht mehr angeschaut werden. Nach dem zweiten Durchgang das Element am zweitletzten Listenplatz einsortiert. \n",
    "\n",
    "</details>\n",
    "\n",
    "b) Optimieren Sie Ihre Umsetzung in einer neuen Funktion `bubblesort1()`. Zählen Sie wiederum die Anzahl Vergleiche, die ausgeführt werden."
   ]
  },
  {
   "cell_type": "code",
   "execution_count": null,
   "metadata": {},
   "outputs": [],
   "source": [
    "# Ihr Code..."
   ]
  },
  {
   "cell_type": "code",
   "execution_count": 6,
   "metadata": {},
   "outputs": [
    {
     "name": "stdout",
     "output_type": "stream",
     "text": [
      "Liste unsortiert: [9, 8, 7, 6, 5, 4, 3, 2, 1, 0]\n",
      "Anzahl Vergleiche: 45\n",
      "Liste unsortiert: [0, 1, 2, 3, 4, 5, 6, 7, 8, 9]\n",
      "Anzahl Vergleiche: 45\n"
     ]
    },
    {
     "data": {
      "text/plain": [
       "45"
      ]
     },
     "execution_count": 6,
     "metadata": {},
     "output_type": "execute_result"
    }
   ],
   "source": [
    "# Lösung:\n",
    "\n",
    "# beim Durchgang j sind die j Elemente am Ende an der richtigen Stelle \n",
    "# einsortiert und müssen nicht mehr berücksichtigt werden.\n",
    "\n",
    "# Bubblesort\n",
    "def bubblesort1(liste):\n",
    "    vergleiche = 0\n",
    "    for j in range(0,len(liste)-1):\n",
    "        # print(\"Runde\", j)\n",
    "        for i in range(1,len(liste)-j): # <-- Hier wird optimiert\n",
    "            vergleiche +=1\n",
    "            if liste[i] < liste[i-1]:\n",
    "                temp = liste[i-1]\n",
    "                liste[i-1] = liste[i]\n",
    "                liste[i] = temp\n",
    "        # Am Ende der inneren Schleife ist ein Element einsortiert.\n",
    "        # Zur Kontrolle können Sie die Liste ausgeben:\n",
    "        # print(\"Liste am Ende der Runde\", j, \":\", liste)\n",
    "    print(\"Anzahl Vergleiche:\", vergleiche)\n",
    "    # Hier ist die ganze Liste sortiert.\n",
    "    # Zur Kontrolle können Sie die Liste ausgeben:\n",
    "    #print(\"Sortierte Liste:\", liste)\n",
    "    return vergleiche\n",
    "    #print(liste)\n",
    "\n",
    "# Testen mit einer verkehrt herum und einer korrekt sortierten Liste\n",
    "\n",
    "unsortierte_liste = [9-x for x in range(10)]\n",
    "print(\"Liste unsortiert:\", unsortierte_liste)\n",
    "bubblesort1(unsortierte_liste)\n",
    "\n",
    "sortierte_liste = [x for x in range(10)]\n",
    "print(\"Liste unsortiert:\", sortierte_liste)\n",
    "bubblesort1(sortierte_liste)"
   ]
  },
  {
   "cell_type": "markdown",
   "metadata": {},
   "source": [
    "### Zweite Optimierung\n",
    "\n",
    "Gibt es noch weitere Vergleiche, die allenfalls eingespart werden können?\n",
    "\n",
    "Es ist tatsächlich noch eine weitere Optimierung möglich, denn aufgrund des häufigen Vertauschens zweier benachbarter Elemente kann es durchaus vorkommen, dass die Liste bereits vor dem letzten Durchgang sortiert ist. Vor allem wenn eine Liste bereits sortierte oder fast sortierte Bereiche aufweist.\n",
    "\n",
    "**Aufgabe 6 – zweite Optimierung**  \n",
    "\n",
    "Überlegen Sie sich, wie Sie dies überprüfen könnten und setzten Sie diese Optimierung in einer neuen Funktion namens `bubblesort2()` um, welche die Anzahl Vergleiche zurückgibt, die ausgeführt werden."
   ]
  },
  {
   "cell_type": "code",
   "execution_count": null,
   "metadata": {},
   "outputs": [],
   "source": [
    "# Ihr Code..."
   ]
  },
  {
   "cell_type": "code",
   "execution_count": 7,
   "metadata": {},
   "outputs": [
    {
     "name": "stdout",
     "output_type": "stream",
     "text": [
      "Liste unsortiert: [9, 8, 7, 6, 5, 4, 3, 2, 1, 0]\n",
      "Anzahl Vergleiche: 45\n",
      "Liste unsortiert: [2, 3, 7, 1, 6, 8, 4, 0, 5, 9]\n",
      "--> Fertig nach Runde 7\n",
      "Anzahl Vergleiche: 44\n"
     ]
    },
    {
     "data": {
      "text/plain": [
       "44"
      ]
     },
     "execution_count": 7,
     "metadata": {},
     "output_type": "execute_result"
    }
   ],
   "source": [
    "# Lösung:\n",
    "\n",
    "# Am einfachsten ist es, die Anzahl Tauschoperationen in einem Durchgang zu zählen. \n",
    "# Sobald die Liste sortiert ist, müssen nämlich keine Elemente mehr getauscht werden.\n",
    "import random\n",
    "\n",
    "# Bubblesort\n",
    "def bubblesort2(liste):\n",
    "    vergleiche = 0\n",
    "    for j in range(0,len(liste)-1):\n",
    "        swaps = 0 # Vor der Runde die Anzahl swaps (Tauschoperationen) auf Null setzen\n",
    "        for i in range(1,len(liste)-j):\n",
    "            vergleiche += 1\n",
    "            if liste[i] < liste[i-1]:\n",
    "                # Hier wird getauscht, also swap erhöhen\n",
    "                swaps +=1\n",
    "                temp = liste[i-1]\n",
    "                liste[i-1] = liste[i]\n",
    "                liste[i] = temp\n",
    "        # Am Ende der inneren Schleife ist ein Element einsortiert.\n",
    "        # Zur Kontrolle können Sie die Liste ausgeben:\n",
    "        # print(\"Liste am Ende der Runde\", j, \":\", liste)\n",
    "                \n",
    "        # Wenn in einem Durchgang keine Elemente getauscht werden mussten, \n",
    "        # ist die Liste sortiert und swaps hat den Wert 0.\n",
    "        if swaps == 0:\n",
    "            print(\"--> Fertig nach Runde\", j)\n",
    "            break # Schleife verlassen\n",
    "\n",
    "    print(\"Anzahl Vergleiche:\", vergleiche)\n",
    "    # Hier ist die ganze Liste sortiert.\n",
    "    # Zur Kontrolle können Sie die Liste ausgeben:\n",
    "    #print(\"Sortierte Liste:\", liste)\n",
    "\n",
    "    return vergleiche\n",
    "\n",
    "# Testen mit einer verkehrt herum und einer korrekt sortierten Liste\n",
    "\n",
    "unsortierte_liste = [9-x for x in range(10)]\n",
    "print(\"Liste unsortiert:\", unsortierte_liste)\n",
    "bubblesort2(unsortierte_liste)\n",
    "\n",
    "sortierte_liste = [2, 3, 7, 1, 6, 8, 4, 0, 5, 9]#[x for x in range(10)]\n",
    "print(\"Liste unsortiert:\", sortierte_liste)\n",
    "bubblesort2(sortierte_liste)"
   ]
  },
  {
   "cell_type": "markdown",
   "metadata": {},
   "source": [
    "## Vergleiche\n",
    "\n",
    "Wenn Algorithmen bezüglich Effizienz untersucht werden, wird verglichen, wie sie mit verschiedenen Eingabekonstellationen zurechtkommen. Dazu dienen in der Regel extreme und \"normale\" Ausgangslagen.\n",
    "\n",
    "Als Extreme werden für Sortieralgorithmen sortierte und umgekehrt sortierte Listen (beste und schlechteste Ausgangslage) verwendet, sowie eine zufällige Liste als normale Ausgangslage.\n",
    "\n",
    "**Aufgabe 7 – Vergleichen**\n",
    "\n",
    "Erstellen Sie drei Funktionen `sortierte_liste`, `umgekehrt_sortierte_liste`, `zufaellige_liste`, die jeweils die Anzahl Elemente entgegennehmen und die entsprechende Liste aus aufeinanderfolgenden Ganzzahlen ab Null enthalten.\n",
    "\n",
    "Vergleichen Sie anschliessend die erste Implementation und die Optimierungen.\n",
    "\n",
    "Erstellen Sie dazu grössere Listen (mit 10, 100, 1000 Elementen) in verschiedenen Anfangskonstellationen. \n",
    "\n",
    "Das Ziel ist eine Tabelle:\n",
    "\n",
    "Liste | sortiert | zufällig | umgekehrt sortiert\n",
    ":-------- | :-------- | :-------- | :--------\n",
    "Ohne Optimierung | ________________________ | ________________________ | ________________________\n",
    "unsortierter Teil wird kleiner | ________________________ |  ________________________ |  ________________________ \n",
    "Abbruch, wenn sortiert | ________________________ |  ________________________ |  ________________________ "
   ]
  },
  {
   "cell_type": "code",
   "execution_count": null,
   "metadata": {},
   "outputs": [],
   "source": [
    "# Ihr Code..."
   ]
  },
  {
   "cell_type": "code",
   "execution_count": 8,
   "metadata": {},
   "outputs": [
    {
     "name": "stdout",
     "output_type": "stream",
     "text": [
      "20\n",
      "Liste am Ende der Runde 0 : [0, 1, 2, 3, 4, 5, 6, 7, 8, 9, 10, 11, 12, 13, 14, 15, 16, 17, 18, 19]\n",
      "Liste am Ende der Runde 1 : [0, 1, 2, 3, 4, 5, 6, 7, 8, 9, 10, 11, 12, 13, 14, 15, 16, 17, 18, 19]\n",
      "Liste am Ende der Runde 2 : [0, 1, 2, 3, 4, 5, 6, 7, 8, 9, 10, 11, 12, 13, 14, 15, 16, 17, 18, 19]\n",
      "Liste am Ende der Runde 3 : [0, 1, 2, 3, 4, 5, 6, 7, 8, 9, 10, 11, 12, 13, 14, 15, 16, 17, 18, 19]\n",
      "Liste am Ende der Runde 4 : [0, 1, 2, 3, 4, 5, 6, 7, 8, 9, 10, 11, 12, 13, 14, 15, 16, 17, 18, 19]\n",
      "Liste am Ende der Runde 5 : [0, 1, 2, 3, 4, 5, 6, 7, 8, 9, 10, 11, 12, 13, 14, 15, 16, 17, 18, 19]\n",
      "Liste am Ende der Runde 6 : [0, 1, 2, 3, 4, 5, 6, 7, 8, 9, 10, 11, 12, 13, 14, 15, 16, 17, 18, 19]\n",
      "Liste am Ende der Runde 7 : [0, 1, 2, 3, 4, 5, 6, 7, 8, 9, 10, 11, 12, 13, 14, 15, 16, 17, 18, 19]\n",
      "Liste am Ende der Runde 8 : [0, 1, 2, 3, 4, 5, 6, 7, 8, 9, 10, 11, 12, 13, 14, 15, 16, 17, 18, 19]\n",
      "Liste am Ende der Runde 9 : [0, 1, 2, 3, 4, 5, 6, 7, 8, 9, 10, 11, 12, 13, 14, 15, 16, 17, 18, 19]\n",
      "Liste am Ende der Runde 10 : [0, 1, 2, 3, 4, 5, 6, 7, 8, 9, 10, 11, 12, 13, 14, 15, 16, 17, 18, 19]\n",
      "Liste am Ende der Runde 11 : [0, 1, 2, 3, 4, 5, 6, 7, 8, 9, 10, 11, 12, 13, 14, 15, 16, 17, 18, 19]\n",
      "Liste am Ende der Runde 12 : [0, 1, 2, 3, 4, 5, 6, 7, 8, 9, 10, 11, 12, 13, 14, 15, 16, 17, 18, 19]\n",
      "Liste am Ende der Runde 13 : [0, 1, 2, 3, 4, 5, 6, 7, 8, 9, 10, 11, 12, 13, 14, 15, 16, 17, 18, 19]\n",
      "Liste am Ende der Runde 14 : [0, 1, 2, 3, 4, 5, 6, 7, 8, 9, 10, 11, 12, 13, 14, 15, 16, 17, 18, 19]\n",
      "Liste am Ende der Runde 15 : [0, 1, 2, 3, 4, 5, 6, 7, 8, 9, 10, 11, 12, 13, 14, 15, 16, 17, 18, 19]\n",
      "Liste am Ende der Runde 16 : [0, 1, 2, 3, 4, 5, 6, 7, 8, 9, 10, 11, 12, 13, 14, 15, 16, 17, 18, 19]\n",
      "Liste am Ende der Runde 17 : [0, 1, 2, 3, 4, 5, 6, 7, 8, 9, 10, 11, 12, 13, 14, 15, 16, 17, 18, 19]\n",
      "Liste am Ende der Runde 18 : [0, 1, 2, 3, 4, 5, 6, 7, 8, 9, 10, 11, 12, 13, 14, 15, 16, 17, 18, 19]\n",
      "Anzahl Vergleiche: 361\n",
      "Liste am Ende der Runde 0 : [8, 4, 7, 9, 12, 13, 14, 5, 0, 18, 6, 17, 1, 15, 10, 3, 11, 2, 16, 19]\n",
      "Liste am Ende der Runde 1 : [4, 7, 8, 9, 12, 13, 5, 0, 14, 6, 17, 1, 15, 10, 3, 11, 2, 16, 18, 19]\n",
      "Liste am Ende der Runde 2 : [4, 7, 8, 9, 12, 5, 0, 13, 6, 14, 1, 15, 10, 3, 11, 2, 16, 17, 18, 19]\n",
      "Liste am Ende der Runde 3 : [4, 7, 8, 9, 5, 0, 12, 6, 13, 1, 14, 10, 3, 11, 2, 15, 16, 17, 18, 19]\n",
      "Liste am Ende der Runde 4 : [4, 7, 8, 5, 0, 9, 6, 12, 1, 13, 10, 3, 11, 2, 14, 15, 16, 17, 18, 19]\n",
      "Liste am Ende der Runde 5 : [4, 7, 5, 0, 8, 6, 9, 1, 12, 10, 3, 11, 2, 13, 14, 15, 16, 17, 18, 19]\n",
      "Liste am Ende der Runde 6 : [4, 5, 0, 7, 6, 8, 1, 9, 10, 3, 11, 2, 12, 13, 14, 15, 16, 17, 18, 19]\n",
      "Liste am Ende der Runde 7 : [4, 0, 5, 6, 7, 1, 8, 9, 3, 10, 2, 11, 12, 13, 14, 15, 16, 17, 18, 19]\n",
      "Liste am Ende der Runde 8 : [0, 4, 5, 6, 1, 7, 8, 3, 9, 2, 10, 11, 12, 13, 14, 15, 16, 17, 18, 19]\n",
      "Liste am Ende der Runde 9 : [0, 4, 5, 1, 6, 7, 3, 8, 2, 9, 10, 11, 12, 13, 14, 15, 16, 17, 18, 19]\n",
      "Liste am Ende der Runde 10 : [0, 4, 1, 5, 6, 3, 7, 2, 8, 9, 10, 11, 12, 13, 14, 15, 16, 17, 18, 19]\n",
      "Liste am Ende der Runde 11 : [0, 1, 4, 5, 3, 6, 2, 7, 8, 9, 10, 11, 12, 13, 14, 15, 16, 17, 18, 19]\n",
      "Liste am Ende der Runde 12 : [0, 1, 4, 3, 5, 2, 6, 7, 8, 9, 10, 11, 12, 13, 14, 15, 16, 17, 18, 19]\n",
      "Liste am Ende der Runde 13 : [0, 1, 3, 4, 2, 5, 6, 7, 8, 9, 10, 11, 12, 13, 14, 15, 16, 17, 18, 19]\n",
      "Liste am Ende der Runde 14 : [0, 1, 3, 2, 4, 5, 6, 7, 8, 9, 10, 11, 12, 13, 14, 15, 16, 17, 18, 19]\n",
      "Liste am Ende der Runde 15 : [0, 1, 2, 3, 4, 5, 6, 7, 8, 9, 10, 11, 12, 13, 14, 15, 16, 17, 18, 19]\n",
      "Liste am Ende der Runde 16 : [0, 1, 2, 3, 4, 5, 6, 7, 8, 9, 10, 11, 12, 13, 14, 15, 16, 17, 18, 19]\n",
      "Liste am Ende der Runde 17 : [0, 1, 2, 3, 4, 5, 6, 7, 8, 9, 10, 11, 12, 13, 14, 15, 16, 17, 18, 19]\n",
      "Liste am Ende der Runde 18 : [0, 1, 2, 3, 4, 5, 6, 7, 8, 9, 10, 11, 12, 13, 14, 15, 16, 17, 18, 19]\n",
      "Anzahl Vergleiche: 361\n",
      "Liste am Ende der Runde 0 : [19, 18, 17, 16, 15, 14, 13, 12, 11, 10, 9, 8, 7, 6, 5, 4, 3, 2, 1, 20]\n",
      "Liste am Ende der Runde 1 : [18, 17, 16, 15, 14, 13, 12, 11, 10, 9, 8, 7, 6, 5, 4, 3, 2, 1, 19, 20]\n",
      "Liste am Ende der Runde 2 : [17, 16, 15, 14, 13, 12, 11, 10, 9, 8, 7, 6, 5, 4, 3, 2, 1, 18, 19, 20]\n",
      "Liste am Ende der Runde 3 : [16, 15, 14, 13, 12, 11, 10, 9, 8, 7, 6, 5, 4, 3, 2, 1, 17, 18, 19, 20]\n",
      "Liste am Ende der Runde 4 : [15, 14, 13, 12, 11, 10, 9, 8, 7, 6, 5, 4, 3, 2, 1, 16, 17, 18, 19, 20]\n",
      "Liste am Ende der Runde 5 : [14, 13, 12, 11, 10, 9, 8, 7, 6, 5, 4, 3, 2, 1, 15, 16, 17, 18, 19, 20]\n",
      "Liste am Ende der Runde 6 : [13, 12, 11, 10, 9, 8, 7, 6, 5, 4, 3, 2, 1, 14, 15, 16, 17, 18, 19, 20]\n",
      "Liste am Ende der Runde 7 : [12, 11, 10, 9, 8, 7, 6, 5, 4, 3, 2, 1, 13, 14, 15, 16, 17, 18, 19, 20]\n",
      "Liste am Ende der Runde 8 : [11, 10, 9, 8, 7, 6, 5, 4, 3, 2, 1, 12, 13, 14, 15, 16, 17, 18, 19, 20]\n",
      "Liste am Ende der Runde 9 : [10, 9, 8, 7, 6, 5, 4, 3, 2, 1, 11, 12, 13, 14, 15, 16, 17, 18, 19, 20]\n",
      "Liste am Ende der Runde 10 : [9, 8, 7, 6, 5, 4, 3, 2, 1, 10, 11, 12, 13, 14, 15, 16, 17, 18, 19, 20]\n",
      "Liste am Ende der Runde 11 : [8, 7, 6, 5, 4, 3, 2, 1, 9, 10, 11, 12, 13, 14, 15, 16, 17, 18, 19, 20]\n",
      "Liste am Ende der Runde 12 : [7, 6, 5, 4, 3, 2, 1, 8, 9, 10, 11, 12, 13, 14, 15, 16, 17, 18, 19, 20]\n",
      "Liste am Ende der Runde 13 : [6, 5, 4, 3, 2, 1, 7, 8, 9, 10, 11, 12, 13, 14, 15, 16, 17, 18, 19, 20]\n",
      "Liste am Ende der Runde 14 : [5, 4, 3, 2, 1, 6, 7, 8, 9, 10, 11, 12, 13, 14, 15, 16, 17, 18, 19, 20]\n",
      "Liste am Ende der Runde 15 : [4, 3, 2, 1, 5, 6, 7, 8, 9, 10, 11, 12, 13, 14, 15, 16, 17, 18, 19, 20]\n",
      "Liste am Ende der Runde 16 : [3, 2, 1, 4, 5, 6, 7, 8, 9, 10, 11, 12, 13, 14, 15, 16, 17, 18, 19, 20]\n",
      "Liste am Ende der Runde 17 : [2, 1, 3, 4, 5, 6, 7, 8, 9, 10, 11, 12, 13, 14, 15, 16, 17, 18, 19, 20]\n",
      "Liste am Ende der Runde 18 : [1, 2, 3, 4, 5, 6, 7, 8, 9, 10, 11, 12, 13, 14, 15, 16, 17, 18, 19, 20]\n",
      "Anzahl Vergleiche: 361\n",
      "Anzahl Vergleiche: 190\n",
      "Anzahl Vergleiche: 190\n",
      "Anzahl Vergleiche: 190\n",
      "--> Fertig nach Runde 0\n",
      "Anzahl Vergleiche: 19\n",
      "--> Fertig nach Runde 11\n",
      "Anzahl Vergleiche: 162\n",
      "Anzahl Vergleiche: 190\n",
      "\n",
      "VERGLEICH\n",
      "['Funktion', 'sortiert', 'zufaellig', 'umgekehrt sortiert']\n",
      "['bubblesort0', 361, 361, 361]\n",
      "['bubblesort1', 190, 190, 190]\n",
      "['bubblesort2', 19, 162, 190]\n"
     ]
    },
    {
     "data": {
      "text/plain": [
       "\"\\n10 Elemente:\\n['Funktion', 'sortiert', 'zufaellig', 'umgekehrt sortiert']\\n['bubblesort0', 81, 81, 81]\\n['bubblesort1', 45, 45, 45]\\n['bubblesort2', 9, 39, 45]\\n\\n100 Elemente:\\n['bubblesort0', 9801, 9801, 9801]\\n['bubblesort1', 4950, 4950, 4950]\\n['bubblesort2', 99, 4944, 4950]\\n\\n1000 Elemente:\\n['bubblesort0', 998001, 998001, 998001]\\n['bubblesort1', 499500, 499500, 499500]\\n['bubblesort2', 999, 499395, 499500]\\n\\n10000 Elemente (nicht zu empfehlen, dauert seeeeeeehr lange):\\n['bubblesort0', 99980001, 99980001, 99980001]\\n['bubblesort1', 49995000, 49995000, 49995000]\\n['bubblesort2', 9999, 49988445, 49995000]\\n\\n\""
      ]
     },
     "execution_count": 8,
     "metadata": {},
     "output_type": "execute_result"
    }
   ],
   "source": [
    "# mögliche Lösung:\n",
    "import random\n",
    "\n",
    "anzahl_elemente = 20\n",
    "\n",
    "print(anzahl_elemente)\n",
    "\n",
    "def sortierte_liste(laenge):\n",
    "    return [x for x in range(laenge)]\n",
    "\n",
    "def umgekehrt_sortierte_liste(laenge):\n",
    "    return [laenge - x for x in range(laenge)]\n",
    "\n",
    "def normale_liste(laenge):\n",
    "    liste = [x for x in range(laenge)]\n",
    "    random.shuffle(liste) \n",
    "    return liste\n",
    "\n",
    "ausgabe = [[\"Funktion\", \"sortiert\", \"zufaellig\", \"umgekehrt sortiert\"],\n",
    "           [\"bubblesort0\", bubblesort0(sortierte_liste(anzahl_elemente)), bubblesort0(normale_liste(anzahl_elemente)), bubblesort0(umgekehrt_sortierte_liste(anzahl_elemente))],\n",
    "           [\"bubblesort1\", bubblesort1(sortierte_liste(anzahl_elemente)), bubblesort1(normale_liste(anzahl_elemente)), bubblesort1(umgekehrt_sortierte_liste(anzahl_elemente))],\n",
    "           [\"bubblesort2\", bubblesort2(sortierte_liste(anzahl_elemente)), bubblesort2(normale_liste(anzahl_elemente)), bubblesort2(umgekehrt_sortierte_liste(anzahl_elemente))],\n",
    "          ]\n",
    "\n",
    "print() # Zeilenumbruch, für den Fall dass die anderen Funktionen immer noch Ausgaben printen\n",
    "print(\"VERGLEICH\")\n",
    "\n",
    "for i in range(len(ausgabe)):\n",
    "    print(ausgabe[i])\n",
    "    \n",
    "    \n",
    "# Ausgaben:\n",
    "\"\"\"\n",
    "10 Elemente:\n",
    "['Funktion', 'sortiert', 'zufaellig', 'umgekehrt sortiert']\n",
    "['bubblesort0', 81, 81, 81]\n",
    "['bubblesort1', 45, 45, 45]\n",
    "['bubblesort2', 9, 39, 45]\n",
    "\n",
    "100 Elemente:\n",
    "['bubblesort0', 9801, 9801, 9801]\n",
    "['bubblesort1', 4950, 4950, 4950]\n",
    "['bubblesort2', 99, 4944, 4950]\n",
    "\n",
    "1000 Elemente:\n",
    "['bubblesort0', 998001, 998001, 998001]\n",
    "['bubblesort1', 499500, 499500, 499500]\n",
    "['bubblesort2', 999, 499395, 499500]\n",
    "\n",
    "10000 Elemente (nicht zu empfehlen, dauert seeeeeeehr lange):\n",
    "['bubblesort0', 99980001, 99980001, 99980001]\n",
    "['bubblesort1', 49995000, 49995000, 49995000]\n",
    "['bubblesort2', 9999, 49988445, 49995000]\n",
    "\n",
    "\"\"\"\n"
   ]
  },
  {
   "cell_type": "markdown",
   "metadata": {},
   "source": [
    "# Hat es sich gelohnt?\n",
    "\n",
    "Schauen Sie sich den folgenden Clip an.  "
   ]
  },
  {
   "cell_type": "code",
   "execution_count": 9,
   "metadata": {},
   "outputs": [
    {
     "data": {
      "text/html": [
       "\n",
       "        <iframe\n",
       "            width=\"560\"\n",
       "            height=\"315\"\n",
       "            src=\"https://www.youtube.com/embed/koMpGeZpu4Q\"\n",
       "            frameborder=\"0\"\n",
       "            allowfullscreen\n",
       "        ></iframe>\n",
       "        "
      ],
      "text/plain": [
       "<IPython.lib.display.IFrame at 0x7fbe636b3df0>"
      ]
     },
     "execution_count": 9,
     "metadata": {},
     "output_type": "execute_result"
    }
   ],
   "source": [
    "# Führen Sie diese Zelle aus, um den Videoclip sehen zu können.\n",
    "\n",
    "import IPython\n",
    "\n",
    "IPython.display.IFrame(src=\"https://www.youtube.com/embed/koMpGeZpu4Q\", width=560, height=315)"
   ]
  },
  {
   "cell_type": "markdown",
   "metadata": {},
   "source": [
    "Wie Sie sehen, haben Sie mit diesen Optimierungen die Hälfte der Vergleiche herausgeholt und sparen in guten Fällen sogar noch etwas mehr ein. Bei beinahe sortierten Listen gewinnen Sie am meisten. In diesem Fall kann es Ihr Bubblesort durchaus mit anderen Sortieralgorithmen aufnehmen, aber in den meisten Fällen ist er nicht der Algorithmus der Wahl, denn es gibt es noch einige effizientere Sortieralgorithmen. Positiv am Bubblesort-Algorithmus ist, dass praktisch kein zusätzlicher Speicherbedarf anfällt. Es gibt andere Sortieralgorithmen, die zwar sehr schnell sind, aber viel Speicher brauchen.\n",
    "\n",
    "Bei Interesse können Sie [hier](https://www.toptal.com/developers/sorting-algorithms) einen Vergleich finden."
   ]
  },
  {
   "cell_type": "markdown",
   "metadata": {},
   "source": [
    "# Grafische Darstellung\n",
    "\n",
    "Es ist möglich, Ihre Liste in einem Säulendiagramm grafisch darzustellen. Um hier abzukürzen ist die entsprechende Funktion `show_diagram()` gegeben. Sie nimmt folgende Parameter entgegen:\n",
    "\n",
    "* `list`: Liste, die dargestellt werden soll\n",
    "* `title`: Diagrammtitel (optional; Defaultwert: \"Säulendiagramm\")\n",
    "* `sleep`: Wartezeit in Sekunden (optional, Defaultwert: 0.2)\n",
    "\n",
    "Für den Fall, dass Sie sie nachvollziehen möchten, ist sie mit Kommentaren versehen. Dies ist aber optional.\n",
    "\n",
    "Führen Sie die folgenden beiden Zellen aus, um die Funktion verwenden zu können.\n",
    "Die erste Zelle kümmert sich um die Imports. Falls die Bibliotheken nicht installiert sind, steht im Kommentar, wie Sie sie installieren können."
   ]
  },
  {
   "cell_type": "code",
   "execution_count": 10,
   "metadata": {},
   "outputs": [],
   "source": [
    "import matplotlib.pyplot as plt # PyPlot: Bibliothek für Visualisierungen (Plots)\n",
    "import numpy as np # NumPy: Bibliothek für numerische Berechnungen\n",
    "from IPython import display # <--- Jupyter-Notebook-spezifische Bibliothek (ausserhalb von Jupyter: löschen)\n",
    "\n",
    "# In der Anacondadistribution ist matplotlib bereits vorinstalliert. \n",
    "# Falls Ihnen matplotlib oder numpy fehlen, können Sie diese wie folgt installieren, \n",
    "# kommentieren Sie die folgende Zeile ein (numpy wird mit matplotlib mitinstalliert):\n",
    "# pip install matplotlib\n",
    "\n",
    "def show_diagram(list, title = \"Säulendiagramm\", sleep = 0.2):\n",
    "\n",
    "    # Den Output der aktuellen Zelle (des Jupyter Notebooks) löschen\n",
    "    # parameter wait=True: warten, bis der neue Output bereitsteht\n",
    "    display.clear_output(wait=True)\n",
    "        \n",
    "    # Balkenindex (x-Koordinaten der Balken)\n",
    "    anzahl_elemente=len(list)\n",
    "    bar_index = np.arange(anzahl_elemente)\n",
    "    # Balkenbreite (1 bedeutet bis zum nächsten Balken)\n",
    "    bar_width = 0.5\n",
    "\n",
    "    # Titel\n",
    "    plt.title(title)\n",
    "\n",
    "    # Keine besondere Beschriftung der x- und y-Achsen:\n",
    "    # plt.xticks und plt.yticks nicht definieren\n",
    "\n",
    "    # Balkendiagramm\n",
    "    plt.bar(bar_index, height=list, width=bar_width, color='blue')\n",
    "\n",
    "    # Plot anzeigen \n",
    "    plt.show()\n",
    "    \n",
    "    # kurz warten, weil sonst nichts sichtbar\n",
    "    plt.pause(sleep)\n",
    "\n"
   ]
  },
  {
   "cell_type": "markdown",
   "metadata": {},
   "source": [
    "**Aufgabe 8 – Visualisierung**\n",
    "\n",
    "Nun möchten Sie ihre Liste jedesmal visualisieren, wenn zwei Elemente getauscht wurden.\n",
    "\n",
    "Kopieren Sie dazu Ihre Implementation des Bubblesort-Algorithmus in die untenstehende Zelle und rufen Sie die Funktion `show_diagram()` so auf, dass jweils die neue Liste dargestellt wird, sobald zwei Elemente getauscht wurden.\n",
    "\n",
    "Erstellen Sie noch einmal die drei Listen `aufsteigend`, `absteigend` und `zufaellig` und wenden Sie Ihre `bubblesort()`-Funktion auf diese drei Listen an."
   ]
  },
  {
   "cell_type": "code",
   "execution_count": null,
   "metadata": {},
   "outputs": [],
   "source": [
    "# Ihr Code..."
   ]
  },
  {
   "cell_type": "code",
   "execution_count": 11,
   "metadata": {},
   "outputs": [
    {
     "data": {
      "image/png": "[encoded data removed]",
      "text/plain": [
       "<Figure size 432x288 with 1 Axes>"
      ]
     },
     "metadata": {
      "needs_background": "light"
     },
     "output_type": "display_data"
    },
    {
     "name": "stdout",
     "output_type": "stream",
     "text": [
      "--> Fertig nach Runde 0\n",
      "19 \n",
      "\n"
     ]
    }
   ],
   "source": [
    "# mögliche Lösung ausgehend von der zweiten Optimierung \n",
    "# (bei den anderen Implementationen sieht man nicht mehr, \n",
    "# weil die Elemente, die nicht mehr verglichen werden \n",
    "# geordnet sind und nicht mehr vertauscht werden.)\n",
    "\n",
    "\n",
    "def bubblesort(liste, visualisierung=False):\n",
    "    vergleiche = 0\n",
    "    for j in range(0,len(liste)-1):\n",
    "        swaps = 0 # Vor der Runde die Anzahl swaps (Tauschoperationen) auf Null setzen\n",
    "        show_diagram(liste, title = \"Insertion Sort (Durchgang \" + str(j) + \", Total Vergleiche \" + str(vergleiche) + \")\", sleep = 0.2)\n",
    "        for i in range(1,len(liste)-j):\n",
    "            vergleiche += 1\n",
    "            if liste[i] < liste[i-1]:\n",
    "                # Hier wird getauscht, also swap erhöhen\n",
    "                swaps +=1\n",
    "                temp = liste[i-1]\n",
    "                liste[i-1] = liste[i]\n",
    "                liste[i] = temp\n",
    "                if visualisierung:\n",
    "                    show_diagram(liste, title = \"Insertion Sort (Durchgang \" + str(j) + \", Total Vergleiche \" + str(vergleiche) + \")\", sleep = 0.2)\n",
    "        # Wenn in einem Durchgang keine Elemente getauscht werden mussten, \n",
    "        # ist die Liste sortiert und swaps hat den Wert 0.\n",
    "        if swaps == 0:\n",
    "            print(\"--> Fertig nach Runde\", j)\n",
    "            break # Schleife verlassen\n",
    "    return vergleiche\n",
    "\n",
    "# aufsteigende Liste erstellen\n",
    "\n",
    "aufsteigend = sortierte_liste(20)\n",
    "print(aufsteigend)\n",
    "print(bubblesort(aufsteigend, True), \"\\n\")\n"
   ]
  },
  {
   "cell_type": "code",
   "execution_count": 12,
   "metadata": {},
   "outputs": [
    {
     "data": {
      "image/png": "[encoded data removed]",
      "text/plain": [
       "<Figure size 432x288 with 1 Axes>"
      ]
     },
     "metadata": {
      "needs_background": "light"
     },
     "output_type": "display_data"
    },
    {
     "name": "stdout",
     "output_type": "stream",
     "text": [
      "190 \n",
      "\n"
     ]
    }
   ],
   "source": [
    "# absteigende Liste erstellen\n",
    "\n",
    "absteigend = umgekehrt_sortierte_liste(20)\n",
    "print(absteigend)\n",
    "\n",
    "print(bubblesort(absteigend, True), \"\\n\")"
   ]
  },
  {
   "cell_type": "code",
   "execution_count": 13,
   "metadata": {},
   "outputs": [
    {
     "data": {
      "image/png": "[encoded data removed]",
      "text/plain": [
       "<Figure size 432x288 with 1 Axes>"
      ]
     },
     "metadata": {
      "needs_background": "light"
     },
     "output_type": "display_data"
    },
    {
     "name": "stdout",
     "output_type": "stream",
     "text": [
      "--> Fertig nach Runde 10\n",
      "154 \n",
      "\n"
     ]
    }
   ],
   "source": [
    "# zufällige Liste erstellen\n",
    "\n",
    "zufaellig = normale_liste(20)\n",
    "print(zufaellig)\n",
    "\n",
    "print(bubblesort(zufaellig, True), \"\\n\")"
   ]
  },
  {
   "cell_type": "markdown",
   "metadata": {},
   "source": [
    "## Quiz\n",
    "\n",
    "Alles klar?\n",
    "\n",
    "Sie Insertion Sort nun in eigenen Worten beschreiben und Ihre Implementation erklären können.\n",
    "\n",
    "Testen Sie Ihr Verständnis anhand der Fragen, die erstellt werden, wenn Sie die folgenden Zellen gemäss Ihrer Umgebung ausführen.\n",
    "\n",
    "### NUR FALLS SIE AUF GOOGLE COLAB ARBEITEN\n",
    "\n",
    "Führen Sie bitte die **beiden** folgenden Zellen aus, um die Bibliothek für das Quiz zu laden."
   ]
  },
  {
   "cell_type": "code",
   "execution_count": null,
   "metadata": {},
   "outputs": [],
   "source": [
    "# NUR falls Sie AUF GOOGLE COLAB arbeiten:\n",
    "# Führen Sie diese Zelle aus, um das Quiz zu sehen.\n",
    "\n",
    "%%writefile quizclone.py\n",
    "import os\n",
    "from subprocess import getoutput\n",
    "getoutput(\"git clone -l -s https://github.com/donze-informatikunterricht/quiz.git cloned-repo\")\n",
    "os.chdir('cloned-repo')\n",
    "print('repo cloned successfully')"
   ]
  },
  {
   "cell_type": "code",
   "execution_count": null,
   "metadata": {},
   "outputs": [],
   "source": [
    "# NUR falls Sie AUF GOOGLE COLAB arbeiten:\n",
    "# Führen Sie diese Zelle aus, um das Quiz zu sehen.\n",
    "\n",
    "import quizclone"
   ]
  },
  {
   "cell_type": "markdown",
   "metadata": {},
   "source": [
    "##### Quiz erstellen (unabhängig von Ihrer Arbeitsumgebung)\n",
    "\n",
    "Nun können Sie das Quiz erstellen. Führen Sie dazu bitte die folgende Zelle aus.\n",
    "\n",
    "Fragen 3 und 4 des Quiz basieren auf der folgenden Liste:\n",
    "\n",
    "```python\n",
    "a = [2, 3, 7, 1, 6, 8, 4, 0, 5, 9]\n",
    "```\n",
    "\n",
    "Bitte führen Sie die folgende Zelle aus, um das Quiz zu erstellen."
   ]
  },
  {
   "cell_type": "code",
   "execution_count": null,
   "metadata": {},
   "outputs": [],
   "source": [
    "from IPython.display import display\n",
    "import quiz\n",
    "\n",
    "display(quiz.Q1_bubble)\n",
    "display(quiz.Q2_bubble)\n",
    "display(quiz.Q3_bubble)\n",
    "display(quiz.Q4_bubble)\n",
    "display(quiz.Q5_bubble)"
   ]
  },
  {
   "cell_type": "markdown",
   "metadata": {},
   "source": [
    "## Abschluss: Suchtänze\n",
    "\n",
    "Nun haben Sie sich mit der linearen Suche und der Binären Suche auseinandergesetzt. \n",
    "\n",
    "Sehr empfehlenswert für Such- und Sortieralgomen ist der [YouTube-Kanal AlgoRythmics](https://www.youtube.com/channel/UCIqiLefbVHsOAXDAxQJH7Xw), der Algorithmen in Form von Tänzen präsentiert.\n",
    "\n",
    "Führen Sie die folgende Zelle aus, um den Tanz zu Bubblesort sehen zu können."
   ]
  },
  {
   "cell_type": "code",
   "execution_count": null,
   "metadata": {},
   "outputs": [],
   "source": [
    "# Führen Sie diese Zelle aus, um den Videoclip sehen zu können.\n",
    "\n",
    "import IPython\n",
    "\n",
    "IPython.display.IFrame(src=\"https://www.youtube.com/embed/lyZQPjUT5B4\", width=560, height=315)"
   ]
  },
  {
   "cell_type": "code",
   "execution_count": null,
   "metadata": {},
   "outputs": [],
   "source": []
  }
 ],
 "metadata": {
  "kernelspec": {
   "display_name": "Python 3",
   "language": "python",
   "name": "python3"
  },
  "language_info": {
   "codemirror_mode": {
    "name": "ipython",
    "version": 3
   },
   "file_extension": ".py",
   "mimetype": "text/x-python",
   "name": "python",
   "nbconvert_exporter": "python",
   "pygments_lexer": "ipython3",
   "version": "3.8.8"
  }
 },
 "nbformat": 4,
 "nbformat_minor": 4
}
