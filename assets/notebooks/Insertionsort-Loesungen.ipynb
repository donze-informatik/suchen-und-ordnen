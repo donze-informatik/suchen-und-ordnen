{
 "cells": [
  {
   "cell_type": "markdown",
   "metadata": {},
   "source": [
    "# Insertion Sort – der Intuitive\n",
    "\n",
    "**Sortieren durch Einfügen** ist der intuitive Sortieralgorithmus, den sehr viele Menschen anwenden, wenn sie Spielkarten in die Hand aufnehmen."
   ]
  },
  {
   "cell_type": "markdown",
   "metadata": {},
   "source": [
    "**Aufgabe 1 – Einstieg**\n",
    "\n",
    "Sie spielen Karten und möchten die Karten nach dem Aufnehmen in aufsteigender Reihenfolge (von ♠️6 bis ♠️Ass) in der Hand haben. Überlegen Sie sich, wie Sie beim Aufnehmen vorgehen.\n",
    "\n",
    "* Reihenfolge, in der Sie die Karten bekommen:  \n",
    "  \\[♠️Ass\\] \\[♠️9\\] \\[♠️Dame\\] \\[♠️6\\] \\[♠️8\\]\n",
    "* Ziel:  \n",
    "  \\[♠️6\\] \\[♠️8\\] \\[♠️9\\] \\[♠️Dame\\] \\[♠️Ass\\]\n",
    "  \n",
    "Es geht in dieser Aufgabe darum, nach Werten zu sortieren. Deshalb sind alle Karten von der gleichen Farbe (♠️)."
   ]
  },
  {
   "cell_type": "code",
   "execution_count": null,
   "metadata": {},
   "outputs": [],
   "source": [
    "# Hier haben Sie Platz für Ihre Notizen."
   ]
  },
  {
   "cell_type": "markdown",
   "metadata": {},
   "source": [
    "In der Praxis wird Insertion Sort zum Sortieren ganzer Arrays angewandt. Dennoch ist der Algorithmus sehr ähnlich wie der, den Sie wahrscheinlich anwenden, wenn Sie Ihre Karten beim Aufnehmen in die Hand einsortieren.\n",
    "\n",
    "Schauen Sie sich die folgende Animation von [visualgo.net](https://visualgo.net/en/sorting?slide=9) an. Haben Sie es so gemacht?\n",
    "\n",
    "*Um den Videoclip sehen zu können, müssen Sie allenfalls die folgende Zelle ausführen.*"
   ]
  },
  {
   "cell_type": "code",
   "execution_count": 2,
   "metadata": {},
   "outputs": [
    {
     "data": {
      "text/html": [
       "\n",
       "        <iframe\n",
       "            width=\"560\"\n",
       "            height=\"315\"\n",
       "            src=\"https://www.youtube.com/embed/3wdko9svsAM?rel=0&amp;controls=0&amp;showinfo=0\"\n",
       "            frameborder=\"0\"\n",
       "            allowfullscreen\n",
       "        ></iframe>\n",
       "        "
      ],
      "text/plain": [
       "<IPython.lib.display.IFrame at 0x7fd8e5e94d60>"
      ]
     },
     "execution_count": 2,
     "metadata": {},
     "output_type": "execute_result"
    }
   ],
   "source": [
    "# Führen Sie diese Zelle aus, um den Videoclip sehen zu können.\n",
    "\n",
    "import IPython\n",
    "\n",
    "IPython.display.IFrame(src=\"https://www.youtube.com/embed/3wdko9svsAM?rel=0&amp;controls=0&amp;showinfo=0\", width=560, height=315)"
   ]
  },
  {
   "cell_type": "code",
   "execution_count": null,
   "metadata": {},
   "outputs": [],
   "source": [
    "# Machen Sie aus dieser Zelle eine Markdownzelle und \n",
    "# beschreiben Sie den Insertion-Sort-Algorithmus in eigenen Worten."
   ]
  },
  {
   "cell_type": "markdown",
   "metadata": {},
   "source": [
    "Lösung:  \n",
    "Beim Insertion Sort wird der zu sortierende Array in zwei Bereiche aufgeteilt, von denen der vordere Teil sortiert ist. Aus dem unsortierten Bereich werden die Elemente von vorne nach hinten Schritt für Schritt an der richtigen Stelle in den sortierten Bereich eingefügt. Dabei geht pro Durchgang ein Element (das vorderste) aus dem unsortierten Bereich in den sortierten Bereich, wobei der sortierte Bereich um ein Element grösser und der unsortierte um ein Element kleiner wird."
   ]
  },
  {
   "cell_type": "markdown",
   "metadata": {},
   "source": [
    "## Implementation\n",
    "\n",
    "Nun möchten Sie Insertion Sort implementieren. Da Sie noch dabei sind, den Umgang mit Listen zu üben, werden Sie die Elemente nicht per Platztausch an den richtigen Ort bringen, sondern jeweils den neuen Platz eines einzusortierenden Elements suchen, es am gewünschten Index einfügen und das Element aus der Liste löschen.\n",
    "\n",
    "### Einfügen von Elementen in eine Liste\n",
    "\n",
    "In Python haben Sie die Möglichkeit, Elemente direkt an der gewünschten Stelle in eine Liste einzufügen. Dies ist nicht in allen Sprachen möglich, und Sie müssten die Elemente verschieben, wie Sie dies weiter oben in der Animation von [visualgo.net](https://visualgo.net/en/sorting?slide=9) gesehen haben. \n",
    "\n",
    "Um Insertion Sort in Python zu implementieren, müssen Sie nun wissen, wie ein Element in eine Liste eingefügt werden kann. Dazu können Sie die Funktion `insert(index, element)` verwenden, wobei `index` der Stelle in der Liste entspricht und `element` dem Element, das eingefügt werden soll.\n",
    "\n",
    "**Aufgabe 2 – Element in Liste einfügen**\n",
    "\n",
    "Gegeben ist eine Liste `wochentage`, in die sich ein Fehler eingeschlichen hat. Fügen Sie den fehlenden Wochentag mit Hilfe der Funktion `insert()` in die Liste `wochentage` ein.\n",
    "\n",
    "Geben Sie am Ende die Liste aus und kontrollieren Sie, ob die Wochentage nun korrekt in der Liste `wochentage` abgebildet werden.\n",
    "\n",
    "<details>\n",
    "    <summary>\n",
    "        Hinweis 1\n",
    "    </summary>\n",
    "\n",
    "Schauen Sie sich die Liste an. Welcher Tag fehlt?    \n",
    "</details>\n",
    "\n",
    "<details>\n",
    "    <summary>\n",
    "        Hinweis 2\n",
    "    </summary>\n",
    "\n",
    "Falls Sie Mühe haben, den Index zu finden, bedenken Sie, dass das erste Element der Liste am Index **0** ist.\n",
    "</details>"
   ]
  },
  {
   "cell_type": "code",
   "execution_count": 12,
   "metadata": {},
   "outputs": [],
   "source": [
    "wochentage = [\"Montag\", \"Dienstag\", \"Mittwoch\", \"Freitag\", \"Samstag\", \"Sonntag\"]\n",
    "\n",
    "# Ihr Code..."
   ]
  },
  {
   "cell_type": "code",
   "execution_count": 1,
   "metadata": {},
   "outputs": [
    {
     "name": "stdout",
     "output_type": "stream",
     "text": [
      "['Montag', 'Dienstag', 'Mittwoch', 'Donnerstag', 'Freitag', 'Samstag', 'Sonntag']\n"
     ]
    }
   ],
   "source": [
    "# Lösung:\n",
    "\n",
    "wochentage = [\"Montag\", \"Dienstag\", \"Mittwoch\", \"Freitag\", \"Samstag\", \"Sonntag\"]\n",
    "\n",
    "wochentage.insert(3, \"Donnerstag\")\n",
    "\n",
    "print(wochentage)"
   ]
  },
  {
   "cell_type": "markdown",
   "metadata": {},
   "source": [
    "### Löschen von Elementen aus einer Liste\n",
    "\n",
    "Nachdem Sie das Element im sortierten Bereich an der korrekten Stelle eingefügt haben, haben Sie denselben Wert immer noch an der alten Stelle, die aber um einen Platz nach hinten gerutscht ist. Dieses Element müssen Sie nun noch löschen. \n",
    "\n",
    "Um das Element am Index `index` aus der Liste zu löschen, benötigen Sie die Funktion `pop(index)`.\n",
    "\n",
    "**Aufgabe 3 – Element am Index i aus der Liste löschen**\n",
    "\n",
    "Gegeben ist eine Liste `wochentage`, in die sich ein Fehler eingeschlichen hat. Sehen Sie sich die Liste an, finden Sie den eingeschobenen Tag und löschen Sie ihn mit Hilfe der Funktion `pop()`.\n",
    "\n",
    "Geben Sie am Ende die Liste aus und kontrollieren Sie, ob die Wochentage nun korrekt in der Liste `wochentage` abgebildet werden.\n",
    "\n",
    "<details>\n",
    "    <summary>\n",
    "        Hinweis 1\n",
    "    </summary>\n",
    "\n",
    "Schauen Sie sich die Liste an. Welcher Tag fehlt?    \n",
    "</details>\n",
    "\n",
    "<details>\n",
    "    <summary>\n",
    "        Hinweis 2\n",
    "    </summary>\n",
    "\n",
    "Falls Sie Mühe haben, den Index zu finden, bedenken Sie, dass das erste Element der Liste am Index **0** ist.\n",
    "</details>\n"
   ]
  },
  {
   "cell_type": "code",
   "execution_count": 14,
   "metadata": {},
   "outputs": [],
   "source": [
    "wochentage = [\"Montag\", \"Bonustag\", \"Dienstag\", \"Mittwoch\", \"Donnerstag\", \"Freitag\", \"Samstag\", \"Sonntag\"]\n",
    "\n",
    "# Ihr Code..."
   ]
  },
  {
   "cell_type": "code",
   "execution_count": 2,
   "metadata": {},
   "outputs": [
    {
     "name": "stdout",
     "output_type": "stream",
     "text": [
      "['Montag', 'Dienstag', 'Mittwoch', 'Donnerstag', 'Freitag', 'Samstag', 'Sonntag']\n"
     ]
    }
   ],
   "source": [
    "# Lösung:\n",
    "\n",
    "wochentage = [\"Montag\", \"Bonustag\", \"Dienstag\", \"Mittwoch\", \"Donnerstag\", \"Freitag\", \"Samstag\", \"Sonntag\"]\n",
    "\n",
    "wochentage.pop(1)\n",
    "\n",
    "print(wochentage)"
   ]
  },
  {
   "cell_type": "markdown",
   "metadata": {},
   "source": [
    "Sie haben soeben die wichtigsten Listenoperationen kennengelernt, die Sie für die Implementation von Insertion Sort benötigen.\n",
    "\n",
    "Nun müssen Sie sich noch einmal genau überlegen, wie der Insertion-Sort-Algorithmus genau funktioniert. Schreiben Sie ihn in Pseudocode.\n",
    "\n",
    "<details>\n",
    "    <summary>\n",
    "        Hinweis 1\n",
    "    </summary>\n",
    "\n",
    "Überlegen Sie sich, welche Elemente verglichen werden müssen, damit die Stelle (der Index) gefunden wird, an der ein Element eingefügt werden muss.\n",
    "</details>\n",
    "\n",
    "<details>\n",
    "    <summary>\n",
    "        Hinweis 2\n",
    "    </summary>\n",
    "\n",
    "Da Sie von einer Liste ausgehen und die sortierten Elemente in derselben Liste haben möchten, müssen Sie sich überlegen, welcher Bereich der Liste bereits sortiert ist.\n",
    "</details>"
   ]
  },
  {
   "cell_type": "code",
   "execution_count": 16,
   "metadata": {},
   "outputs": [],
   "source": [
    "# Machen Sie aus dieser Zelle eine Markdownzelle und \n",
    "# beschreiben Sie den Insertion-Sort-Algorithmus in Pseudocode."
   ]
  },
  {
   "cell_type": "markdown",
   "metadata": {},
   "source": [
    "Lösung:\n",
    "\n",
    "```\n",
    "1. Gegeben ist die zu sortierende Liste `liste`\n",
    "2. `sortiert_bis` markiert das letzte Element des sortierten Teils; initialisiere `sortiert_bis` mit `0`\n",
    "3. **Solange** `sortiert_bis` < Länge von `liste`**:**\n",
    "4.     `einsortieren` = `Liste[sortiert_bis +1]`\n",
    "5.     Den sortierten Bereich mit der Laufvariable i von hinten her durchgehen:\n",
    "6.         **Falls** `einsortieren` > `liste[i]`**:**\n",
    "               `liste[i+1]` = `einsortieren`\n",
    "        \n",
    "        3.1.1. `vergleichen_mit` = `sortiert_bis`\n",
    "        3.1.2. **solange** `liste[vergleichen_mit]` > `einsortieren` **und** :\n",
    "            3.1.2.1. `vergleichen_mit` um 1 verringern \n",
    "```        "
   ]
  },
  {
   "cell_type": "markdown",
   "metadata": {},
   "source": [
    "**Aufgabe 4 – Implementation**\n",
    "\n",
    "Schreiben Sie nun eine Funktion `insertionsort`, die eine Liste entgegennimmt, sie nach dem Insertion-Sort-Algorithmus sortiert und anschliessend wieder ausgibt.\n",
    "\n",
    "Versuchen Sie die Anzahl Vergleiche zu zählen und diese am Ende auszugeben.\n",
    "\n",
    "<details>\n",
    "    <summary>\n",
    "        Hinweis 1\n",
    "    </summary>\n",
    "\n",
    "Fangen Sie mit einer kurzen Liste an, bei der bis auf das letzte Element alle Elemente sortiert sind und suchen Sie den Platz für das Element, z.B. [1,2,3,0]\n",
    "</details>\n",
    "\n",
    "<details>\n",
    "    <summary>\n",
    "        Hinweis 2\n",
    "    </summary>\n",
    "\n",
    "Überlegen Sie sich, bis wo Ihre Elemente sortiert sind und ob sich daraus den Index des als nächstes einzusortierenden Elements ableiten lässt.\n",
    "</details>\n",
    "\n",
    "<details>\n",
    "    <summary>\n",
    "        Hinweis 3\n",
    "    </summary>\n",
    "\n",
    "Damit am Ende alle Elemente in die Liste einsortiert werden, müssen Sie den Einfügevorgang für jedes Element des noch unsortierten Bereichs der Liste wiederholen.\n",
    "</details>\n",
    "\n",
    "<details>\n",
    "    <summary>\n",
    "        Hinweis 4\n",
    "    </summary>\n",
    "    \n",
    "Bei jedem Durchgang wird der sortierte Teil um ein Element grösser und der unsortierte um ein Element kleiner.\n",
    "</details>\n",
    "\n",
    "\n"
   ]
  },
  {
   "cell_type": "code",
   "execution_count": 67,
   "metadata": {},
   "outputs": [],
   "source": [
    "# Ihr Code..."
   ]
  },
  {
   "cell_type": "code",
   "execution_count": 30,
   "metadata": {},
   "outputs": [
    {
     "name": "stdout",
     "output_type": "stream",
     "text": [
      "Anzahl Vergleiche: 16\n",
      "[0, 1, 2, 3, 4, 5]\n"
     ]
    }
   ],
   "source": [
    "# Lösung mit while-Schleifen\n",
    "\n",
    "liste = [5, 4, 3, 2, 1, 0]\n",
    "\n",
    "def insertionsort(liste):\n",
    "    sortiert_bis = 0 # Letzter Index des sortierten Bereichs\n",
    "    anzahl_vergleiche = 0 # Zähler für die Anzahl Vergleiche\n",
    "\n",
    "    # Einsortiert werden soll jeweils das erste Element nach dem sortierten Bereich:\n",
    "    anzahl_vergleiche += 1 # Um in die Schleife zu kommen, wird einmal verglichen:\n",
    "    while sortiert_bis < len(liste) -1:\n",
    "        einsortieren = sortiert_bis + 1\n",
    "        neuer_index = sortiert_bis\n",
    "        while neuer_index >=0 and liste[neuer_index]>liste[einsortieren]:\n",
    "            anzahl_vergleiche +=1 # Vergleich zählen\n",
    "            neuer_index -=1\n",
    "        element = liste[einsortieren]\n",
    "        liste.pop(einsortieren)\n",
    "        liste.insert(neuer_index+1, element)\n",
    "        # Der sortierte Bereich wächst um 1\n",
    "        sortiert_bis +=1\n",
    "    print(\"Anzahl Vergleiche:\", anzahl_vergleiche)\n",
    "    return liste\n",
    "    \n",
    "insertionsort(liste)\n",
    "print(liste)\n"
   ]
  },
  {
   "cell_type": "code",
   "execution_count": 31,
   "metadata": {},
   "outputs": [
    {
     "name": "stdout",
     "output_type": "stream",
     "text": [
      "Anzahl Vergleiche: 5\n",
      "[0, 1, 2, 3, 4, 5]\n"
     ]
    }
   ],
   "source": [
    "# Lösung mit for- und while-Schleifen (für die die innere Schleife bietet sich eine while-Schleife an)\n",
    "\n",
    "liste = [x for x in range(6)]\n",
    "\n",
    "def insertionsort(liste):\n",
    "    \n",
    "    anzahl_vergleiche = 0 # Zähler für die Anzahl Vergleiche\n",
    "    \n",
    "    for sortiert_bis in range(0, len(liste)-1):\n",
    "\n",
    "        einsortieren = sortiert_bis + 1\n",
    "        neue_position = sortiert_bis \n",
    "        # Falls die Schleife nicht betreten wird, muss der Vergleich trotzdem gezählt werden:\n",
    "        if liste[neue_position]<=liste[einsortieren]:\n",
    "            anzahl_vergleiche += 1 # Um in die Schleife zu kommen, wird einmal verglichen:\n",
    "        while neue_position >=0 and liste[neue_position]>liste[einsortieren]:\n",
    "            anzahl_vergleiche += 1 # Hier werden nur Vergleiche gezählt, die positiv ausfielen\n",
    "            neue_position -=1\n",
    "        element = liste[einsortieren]\n",
    "        liste.pop(einsortieren)\n",
    "        liste.insert(neue_position+1, element)\n",
    "    \n",
    "    print(\"Anzahl Vergleiche:\", anzahl_vergleiche)\n",
    "        \n",
    "    return liste\n",
    "\n",
    "insertionsort(liste)\n",
    "print(liste)\n",
    "\n"
   ]
  },
  {
   "cell_type": "markdown",
   "metadata": {},
   "source": [
    "**Aufgabe 5 – Anwendung auf verschiedene Ausgangslagen**\n",
    "\n",
    "Erstellen Sie nun drei Listen `aufsteigend`, `absteigend` und `zufaellig` der Länge 10, 100 oder 1000 und wenden Sie Ihre Funktion insertionsort() darauf an.\n",
    "\n",
    "* Sind Sie von der Anzahl Vergleiche überrascht? \n",
    "* Wie können Sie die Anzahl Vergleiche in Abhängigkeit von der Länge der Liste $n$ formal beschreiben?"
   ]
  },
  {
   "cell_type": "code",
   "execution_count": 100,
   "metadata": {},
   "outputs": [],
   "source": [
    "# Ihr Code"
   ]
  },
  {
   "cell_type": "code",
   "execution_count": 36,
   "metadata": {},
   "outputs": [
    {
     "name": "stdout",
     "output_type": "stream",
     "text": [
      "Aufsteigende Liste von Länge 10 [0, 1, 2, 3, 4, 5, 6, 7, 8, 9]\n",
      "Anzahl Vergleiche: 9\n",
      "[0, 1, 2, 3, 4, 5, 6, 7, 8, 9] \n",
      "\n",
      "Absteigende Liste von Länge 10 [9, 8, 7, 6, 5, 4, 3, 2, 1, 0]\n",
      "Anzahl Vergleiche: 45\n",
      "[0, 1, 2, 3, 4, 5, 6, 7, 8, 9] \n",
      "\n",
      "Zufällige Liste von Länge 10 [88, 6, 84, 45, 47, 76, 63, 55, 6, 18]\n",
      "Anzahl Vergleiche: 29\n",
      "[6, 6, 18, 45, 47, 55, 63, 76, 84, 88]\n"
     ]
    }
   ],
   "source": [
    "import random\n",
    "\n",
    "laenge = 10\n",
    "aufsteigend = [x for x in range(laenge)]\n",
    "absteigend  = [laenge-1-x for x in range(laenge)]\n",
    "zufaellig = [random.randint(1, 100) for x in range(laenge)]\n",
    "\n",
    "print(\"Aufsteigende Liste von Länge\", laenge, aufsteigend)\n",
    "insertionsort(aufsteigend)\n",
    "print(aufsteigend, \"\\n\")\n",
    "\n",
    "print(\"Absteigende Liste von Länge\", laenge, absteigend)\n",
    "insertionsort(absteigend)\n",
    "print(absteigend, \"\\n\")\n",
    "\n",
    "print(\"Zufällige Liste von Länge\", laenge, zufaellig)\n",
    "insertionsort(zufaellig)\n",
    "print(zufaellig)"
   ]
  },
  {
   "cell_type": "markdown",
   "metadata": {},
   "source": [
    "# Grafische Darstellung\n",
    "\n",
    "Es ist möglich, Ihre Liste in einem Säulendiagramm grafisch darzustellen. Um hier abzukürzen ist die entsprechende Funktion `show_diagram()` gegeben. Sie nimmt folgende Parameter:\n",
    "* `list`: Liste, die dargestellt werden soll\n",
    "* `title`: Diagrammtitel (optional; Defaultwert: \"Säulendiagramm\")\n",
    "* `sleep`: Wartezeit in Sekunden (optional, Defaultwert: 0.2)\n",
    "\n",
    "\n",
    "Sie ist mit Kommentaren versehen, falls Sie sie verstehen möchten.\n",
    "\n",
    "Führen Sie die folgenden beiden Zellen aus, um die Funktion verwenden zu können.\n",
    "Die erste Zelle kümmert sich um die Imports. Falls die Bibliotheken nicht installiert sind, steht im Kommentar, wie Sie sie installieren können."
   ]
  },
  {
   "cell_type": "code",
   "execution_count": 6,
   "metadata": {},
   "outputs": [],
   "source": [
    "import matplotlib.pyplot as plt # PyPlot: Bibliothek für Visualisierungen (Plots)\n",
    "import numpy as np # NumPy: Bibliothek für numerische Berechnungen\n",
    "from IPython import display # <--- Jupyter-Notebook-spezifische Bibliothek (ausserhalb von Jupyter: löschen)\n",
    "\n",
    "# In der Anacondadistribution ist matplotlib bereits vorinstalliert. \n",
    "# Falls Ihnen matplotlib oder numpy fehlen, können Sie diese wie folgt installieren, \n",
    "# kommentieren Sie die folgende Zeile ein (numpy wird mit matplotlib mitinstalliert):\n",
    "# pip install matplotlib"
   ]
  },
  {
   "cell_type": "code",
   "execution_count": 7,
   "metadata": {},
   "outputs": [],
   "source": [
    "#liste = [10-x for x in range(10)]\n",
    "\n",
    "def show_diagram(list, title = \"Säulendiagramm\", sleep = 0.2):\n",
    "\n",
    "    # Den Output der aktuellen Zelle (des Jupyter Notebooks) löschen\n",
    "    # parameter wait=True: warten, bis der neue Output bereitsteht\n",
    "    display.clear_output(wait=True)\n",
    "        \n",
    "    # Balkenindex (x-Koordinaten der Balken)\n",
    "    anzahl_elemente=len(list)\n",
    "    bar_index = np.arange(anzahl_elemente)\n",
    "    # Balkenbreite (1 bedeutet bis zum nächsten Balken)\n",
    "    bar_width = 0.5\n",
    "\n",
    "    # Titel\n",
    "    plt.title(title)\n",
    "\n",
    "    # Keine besondere Beschriftung der x- und y-Achsen:\n",
    "    # plt.xticks und plt.yticks nicht definieren\n",
    "\n",
    "    # Balkendiagramm\n",
    "    plt.bar(bar_index, height=list, width=bar_width, color='blue')\n",
    "\n",
    "    # Plot anzeigen \n",
    "    plt.show()\n",
    "    \n",
    "    # kurz warten, weil sonst nichts sichtbar\n",
    "    plt.pause(sleep)\n"
   ]
  },
  {
   "cell_type": "markdown",
   "metadata": {},
   "source": [
    "**Aufgabe 6 – Visualisierung**\n",
    "\n",
    "Nun möchten Sie ihre Liste jedesmal visualisieren, wenn ein Element neu einsortiert wurde.\n",
    "\n",
    "Kopieren Sie dazu Ihre Implementation des Insertion-Sort-Algorithmus in die untenstehende Zelle und rufen Sie die Funktion `show_diagram()` so auf, dass jweils die neue Liste dargestellt wird, sobald ein Element einsortiert wurde.\n",
    "\n",
    "Erstellen Sie noch einmal die drei Listen `aufsteigend`, `absteigend` und `zufaellig` und wenden Sie Ihre `insertionsort()`-Funktion auf diese drei Listen an.\n",
    "\n",
    "<details>\n",
    "    <summary>\n",
    "        Hinweis\n",
    "    </summary>\n",
    "\n",
    "Die äussere Schleife kümmert sich darum, dass jedes Element einsortiert wird, während die innere Schleife den sortierten Bereich durchläuft, um den neuen Platz zu finden, an dem das Element eingefügt werden soll.\n",
    "    \n",
    "Wenn Sie nicht sicher sind, wo Sie `show_diagram()` aufrufen müssen, sollten Sie sich überlegen, wann das Element einsortiert wird. Sobald das Element einsortiert ist, können Sie den neuen Zustand der Liste darstellen.\n",
    "</details>"
   ]
  },
  {
   "cell_type": "code",
   "execution_count": 41,
   "metadata": {},
   "outputs": [],
   "source": [
    "# Lösung mit for- und while-Schleifen (für die die innere Schleife bietet sich eine while-Schleife an)\n",
    "\n",
    "def insertionsort(liste):\n",
    "    print(liste)\n",
    "    \n",
    "    anzahl_vergleiche = 0 # Zähler für die Anzahl Vergleiche\n",
    "    \n",
    "    # Ausgangszustand der Liste im Diagramm anzeigen\n",
    "    show_diagram(liste, \"Insertionsort\", 0.5)\n",
    "    \n",
    "    for sortiert_bis in range(0, len(liste)-1):\n",
    "\n",
    "        einsortieren = sortiert_bis + 1\n",
    "        neue_position = sortiert_bis \n",
    "        # Falls die Schleife nicht betreten wird, muss der Vergleich trotzdem gezählt werden:\n",
    "        if liste[neue_position]<=liste[einsortieren]:\n",
    "            anzahl_vergleiche += 1 # Um in die Schleife zu kommen, wird einmal verglichen:\n",
    "        while neue_position >=0 and liste[neue_position]>liste[einsortieren]:\n",
    "            anzahl_vergleiche += 1 # Hier werden nur Vergleiche gezählt, die positiv ausfielen\n",
    "            neue_position -=1\n",
    "        element = liste[einsortieren]\n",
    "        liste.pop(einsortieren)\n",
    "        liste.insert(neue_position+1, element)\n",
    "        # Wenn das Element eingefügt ist, die Liste anzeigen\n",
    "        show_diagram(liste, \"Insertionsort\", 0)\n",
    "    \n",
    "    print(\"Anzahl Vergleiche:\", anzahl_vergleiche)\n",
    "        \n",
    "    return liste"
   ]
  },
  {
   "cell_type": "code",
   "execution_count": 42,
   "metadata": {},
   "outputs": [
    {
     "data": {
      "image/png": "[encoded data removed]",
      "text/plain": [
       "<Figure size 432x288 with 1 Axes>"
      ]
     },
     "metadata": {
      "needs_background": "light"
     },
     "output_type": "display_data"
    },
    {
     "name": "stdout",
     "output_type": "stream",
     "text": [
      "Anzahl Vergleiche: 99\n",
      "[0, 1, 2, 3, 4, 5, 6, 7, 8, 9, 10, 11, 12, 13, 14, 15, 16, 17, 18, 19, 20, 21, 22, 23, 24, 25, 26, 27, 28, 29, 30, 31, 32, 33, 34, 35, 36, 37, 38, 39, 40, 41, 42, 43, 44, 45, 46, 47, 48, 49, 50, 51, 52, 53, 54, 55, 56, 57, 58, 59, 60, 61, 62, 63, 64, 65, 66, 67, 68, 69, 70, 71, 72, 73, 74, 75, 76, 77, 78, 79, 80, 81, 82, 83, 84, 85, 86, 87, 88, 89, 90, 91, 92, 93, 94, 95, 96, 97, 98, 99]\n"
     ]
    }
   ],
   "source": [
    "laenge = 100\n",
    "\n",
    "aufsteigend = [x for x in range(laenge)]\n",
    "\n",
    "print(\"Aufsteigende Liste von Länge\", laenge, aufsteigend)\n",
    "plt.pause(2) # kurz warten, weil sonst nichts sichtbar\n",
    "\n",
    "insertionsort(aufsteigend)\n",
    "print(aufsteigend)"
   ]
  },
  {
   "cell_type": "code",
   "execution_count": 43,
   "metadata": {},
   "outputs": [
    {
     "data": {
      "image/png": "[encoded data removed]",
      "text/plain": [
       "<Figure size 432x288 with 1 Axes>"
      ]
     },
     "metadata": {
      "needs_background": "light"
     },
     "output_type": "display_data"
    },
    {
     "name": "stdout",
     "output_type": "stream",
     "text": [
      "Anzahl Vergleiche: 4950\n",
      "[0, 1, 2, 3, 4, 5, 6, 7, 8, 9, 10, 11, 12, 13, 14, 15, 16, 17, 18, 19, 20, 21, 22, 23, 24, 25, 26, 27, 28, 29, 30, 31, 32, 33, 34, 35, 36, 37, 38, 39, 40, 41, 42, 43, 44, 45, 46, 47, 48, 49, 50, 51, 52, 53, 54, 55, 56, 57, 58, 59, 60, 61, 62, 63, 64, 65, 66, 67, 68, 69, 70, 71, 72, 73, 74, 75, 76, 77, 78, 79, 80, 81, 82, 83, 84, 85, 86, 87, 88, 89, 90, 91, 92, 93, 94, 95, 96, 97, 98, 99]\n"
     ]
    }
   ],
   "source": [
    "absteigend  = [laenge-1-x for x in range(laenge)]\n",
    "\n",
    "print(\"Absteigende Liste von Länge\", laenge, absteigend)\n",
    "plt.pause(2) # kurz warten, weil sonst nichts sichtbar\n",
    "insertionsort(absteigend)\n",
    "print(absteigend)\n",
    "\n"
   ]
  },
  {
   "cell_type": "code",
   "execution_count": 44,
   "metadata": {},
   "outputs": [
    {
     "data": {
      "image/png": "[encoded data removed]",
      "text/plain": [
       "<Figure size 432x288 with 1 Axes>"
      ]
     },
     "metadata": {
      "needs_background": "light"
     },
     "output_type": "display_data"
    },
    {
     "name": "stdout",
     "output_type": "stream",
     "text": [
      "Anzahl Vergleiche: 2463\n",
      "[2, 2, 2, 3, 3, 4, 5, 6, 9, 10, 11, 12, 13, 14, 15, 15, 17, 18, 19, 19, 20, 20, 22, 23, 23, 23, 23, 23, 23, 23, 24, 25, 26, 27, 27, 27, 28, 31, 31, 35, 36, 38, 38, 39, 41, 42, 43, 43, 43, 46, 47, 47, 49, 51, 52, 53, 55, 56, 59, 60, 62, 68, 69, 71, 71, 72, 72, 74, 74, 75, 76, 77, 78, 79, 83, 85, 85, 85, 85, 86, 88, 88, 88, 89, 89, 90, 91, 92, 94, 94, 94, 95, 96, 96, 98, 98, 98, 99, 100, 100]\n"
     ]
    }
   ],
   "source": [
    "zufaellig = [random.randint(1, 100) for x in range(laenge)]\n",
    "\n",
    "print(\"Zufällige Liste von Länge\", laenge, zufaellig)\n",
    "plt.pause(2) # kurz warten, weil sonst nichts sichtbar\n",
    "insertionsort(zufaellig)\n",
    "print(zufaellig)"
   ]
  },
  {
   "cell_type": "code",
   "execution_count": null,
   "metadata": {},
   "outputs": [],
   "source": []
  }
 ],
 "metadata": {
  "kernelspec": {
   "display_name": "Python 3",
   "language": "python",
   "name": "python3"
  },
  "language_info": {
   "codemirror_mode": {
    "name": "ipython",
    "version": 3
   },
   "file_extension": ".py",
   "mimetype": "text/x-python",
   "name": "python",
   "nbconvert_exporter": "python",
   "pygments_lexer": "ipython3",
   "version": "3.8.8"
  }
 },
 "nbformat": 4,
 "nbformat_minor": 4
}
