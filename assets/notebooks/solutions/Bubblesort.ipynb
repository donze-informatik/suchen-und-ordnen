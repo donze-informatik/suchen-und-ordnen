{
 "cells": [
  {
   "cell_type": "markdown",
   "metadata": {},
   "source": [
    "# Bubblesort"
   ]
  },
  {
   "cell_type": "markdown",
   "metadata": {},
   "source": [
    "Bubblesort ist ein sehr berühmter Sortieralgorithmus. Das Prinzip ist recht einfach: Hohe Werte steigen schneller auf als weniger hohe Werte, analog der Luftblasen (\"bubbles\") in einem Glas Mineralwasser, wo grössere Luftblasen ebenfalls schneller aufsteigen.\n",
    "\n",
    "## Algorithmus\n",
    "\n",
    "Schauen Sie sich die folgende Animation von [visualgo.net](https://visualgo.net/en/sorting) an. \n",
    "\n",
    "<video src=\"src/animation_visualgo.mov\" style=\"width:50%\"></video>\n",
    "\n",
    "\n",
    "**Aufgabe**\n",
    "\n",
    "Schreiben Sie den Bubblesort-Algorithmus in eigenen Worten auf."
   ]
  },
  {
   "cell_type": "code",
   "execution_count": null,
   "metadata": {},
   "outputs": [],
   "source": [
    "# Machen Sie aus dieser Zelle eine Markdownzelle und \n",
    "# beschreiben Sie den Bubblesort-Algorithmus in eigenen Worten."
   ]
  },
  {
   "cell_type": "markdown",
   "metadata": {},
   "source": [
    "### Implementation\n",
    "\n",
    "Nun möchten Sie Bubblesort implementieren.\n",
    "\n",
    "#### Stellentausch\n",
    "\n",
    "Da bei Bubblesort sehr oft Elemente einer Liste getauscht werden, müssen Sie sich vorher Gedanken dazu machen, wie Sie die Plätze tauschen können.\n",
    "\n",
    "**Aufgabe**\n",
    "\n",
    "Implementieren Sie einen \"Platztausch\", oft auch \"Swap\" genannt.\n",
    "\n",
    "<details>\n",
    "    <summary>\n",
    "        Hinweis 1\n",
    "    </summary>\n",
    "\n",
    "Überlegen Sie sich, wie Sie zwei Variablen vertauschen können, implementieren Sie den Variabeltausch und machen Sie anschliessend dasselbe für Listenelemente anstelle von Variablen.\n",
    "    \n",
    "</details>\n",
    "\n",
    "<details>\n",
    "    <summary>\n",
    "        Hinweis 2 (nur lesen, falls Sie wirklich nicht weiterkommen)\n",
    "    </summary>\n",
    "\n",
    "Sie haben jederzeit die Möglichkeit, neue Variablen zu erstellen.\n",
    "    \n",
    "Zum Tauschen benötigen Sie eine Hilfsvariable.\n",
    "    \n",
    "</details>"
   ]
  },
  {
   "cell_type": "markdown",
   "metadata": {},
   "source": [
    "## Optimierung \n",
    "Eine Liste aus einer überschaubaren Anzahl von Elementen würde sich problemlos von Hand sortieren lassen und wenn nur wenige Elemente sortiert werden sollen, macht es noch keinen Unterschied, ob Vergleiche mehrfach ausgeführt oder eingespart werden, da Ihr Computer so schnell ist, dass Sie kaum einen Unterschied erkennen werden. Bei grösseren Listen kann es aber bereits einen Unterschied machen und gerade das Sortieren ist eine Aufgabe, die immer wieder zur Anwendung kommt. Da ist es unabdingbar, effiziente Algorithmen zur Hand zu haben.\n",
    "\n",
    "In der Regel werden Algorithmen aber nicht auf überschaubare Datenmengen angewandt, sondern auf Unmengen von Daten. Da ist durchaus ein Unterschied erkennbar. Die Investition in einen effizienten Algorithmus lohnt sich durchaus und ist überdies auch interessanter als das blosse Programmierhandwerk, denn damit können Sie einen wirklich wichtigen Unterschied machen.\n",
    "\n",
    "Sie werden nun am Beispiel des Bubblesort-Algorithmus sehen, wie sich auch ein nicht gerade für seine Effizienz bekannter Algorithmus noch optimieren lässt."
   ]
  },
  {
   "cell_type": "markdown",
   "metadata": {},
   "source": [
    "### Brute Force\n",
    "\n",
    "Beim Entwickeln lohnt es sich jeweils, sich zu Beginn eine ganz einfache Lösung zu überlegen und diese zu implementieren. Dabei spricht man von \"Brute Force\", \"roher Gewalt\". Das ist nicht so böse, wie es scheinen mag, aber vielleicht ist es eine Anspielung darauf, dass diese ersten Lösungen etwas unschön und unnötig kostspielig sind: Ohne viel zu überlegen wird einfach mal drauf los gearbeitet. Eine Brute Force Lösung zeigt auf, dass das Problem in seinen Grundzügen verstanden ist und sich lösen lässt. Sie bildet eine Basis, auf der aufgebaut werden kann.\n",
    "\n",
    "Im Falle von Bubblesort besteht die Brute Force Lösung darin, für jedes Listenelement die ganze Liste durchzugehen.\n",
    "\n",
    "**Aufgabe**\n",
    "\n",
    "Implementieren Sie Bubblesort in einer Funktion `bubblesort0()`. Sie soll die Anzahl Vergleiche zurückgeben, die ausgeführt werden."
   ]
  },
  {
   "cell_type": "code",
   "execution_count": 1,
   "metadata": {},
   "outputs": [],
   "source": [
    "# Ihr Code..."
   ]
  },
  {
   "cell_type": "code",
   "execution_count": 22,
   "metadata": {},
   "outputs": [
    {
     "name": "stdout",
     "output_type": "stream",
     "text": [
      "[10, 9, 8, 7, 6, 5, 4, 3, 2, 1]\n",
      "0 [9, 8, 7, 6, 5, 4, 3, 2, 1, 10]\n",
      "1 [8, 7, 6, 5, 4, 3, 2, 1, 9, 10]\n",
      "2 [7, 6, 5, 4, 3, 2, 1, 8, 9, 10]\n",
      "3 [6, 5, 4, 3, 2, 1, 7, 8, 9, 10]\n",
      "4 [5, 4, 3, 2, 1, 6, 7, 8, 9, 10]\n",
      "5 [4, 3, 2, 1, 5, 6, 7, 8, 9, 10]\n",
      "6 [3, 2, 1, 4, 5, 6, 7, 8, 9, 10]\n",
      "7 [2, 1, 3, 4, 5, 6, 7, 8, 9, 10]\n",
      "8 [1, 2, 3, 4, 5, 6, 7, 8, 9, 10]\n",
      "Anzahl Vergleiche: 81\n",
      "[1, 2, 3, 4, 5, 6, 7, 8, 9, 10]\n"
     ]
    },
    {
     "data": {
      "text/plain": [
       "81"
      ]
     },
     "execution_count": 22,
     "metadata": {},
     "output_type": "execute_result"
    }
   ],
   "source": [
    "# Lösung:\n",
    "import random\n",
    "\n",
    "liste = [x for x in range(1000)]\n",
    "random.shuffle(liste)\n",
    "print(liste)\n",
    "\n",
    "# Bubblesort\n",
    "def bubblesort0(liste):\n",
    "    vergleiche = 0\n",
    "    for j in range(0,len(liste)-1):\n",
    "        for i in range(1,len(liste)):\n",
    "            vergleiche +=1\n",
    "            if liste[i] < liste[i-1]:\n",
    "                temp = liste[i-1]\n",
    "                liste[i-1] = liste[i]\n",
    "                liste[i] = temp\n",
    "            \n",
    "    print(\"Anzahl Vergleiche:\", vergleiche)\n",
    "    print(liste)\n",
    "    return vergleiche\n",
    "\n",
    "\n",
    "bubblesort0(liste)"
   ]
  },
  {
   "cell_type": "markdown",
   "metadata": {},
   "source": [
    "### Erste Optimierung\n",
    "\n",
    "Der Name *Bubblesort* kommt daher, dass grössere Luftblasen im Wasser schneller aufsteigen als kleine.\n",
    "\n",
    "Eine Eigenschaft des Bubblesort-Algorithmus ist, dass bei jedem Durchgang das grösste Element am Ende des noch unsortierten Teils zu liegen kommt. Das grösste Element des vorherigen Durchgangs hat seinen Platz jeweils gefunden.\n",
    "\n",
    "Nach dem 1. Durchgang ist das erste Element somit einsortiert und muss beim zweiten Durchgang nicht mehr angeschaut werden.\n",
    "\n",
    "Optimieren Sie Ihre Lösung entsprechend in einer neuen Funktion `bubblesort1()`. Sie soll wiederum die Anzahl Vergleiche zurückgeben, die ausgeführt werden."
   ]
  },
  {
   "cell_type": "code",
   "execution_count": 3,
   "metadata": {},
   "outputs": [],
   "source": [
    "# Ihr Code..."
   ]
  },
  {
   "cell_type": "code",
   "execution_count": 4,
   "metadata": {},
   "outputs": [
    {
     "name": "stdout",
     "output_type": "stream",
     "text": [
      "Anzahl Vergleiche: 499500\n"
     ]
    },
    {
     "data": {
      "text/plain": [
       "499500"
      ]
     },
     "execution_count": 4,
     "metadata": {},
     "output_type": "execute_result"
    }
   ],
   "source": [
    "# Lösung:\n",
    "import random\n",
    "\n",
    "liste = [x for x in range(1000)]\n",
    "random.shuffle(liste)\n",
    "#print(liste)\n",
    "\n",
    "# Bubblesort\n",
    "def bubblesort1(liste):\n",
    "    vergleiche = 0\n",
    "    for j in range(0,len(liste)-1):\n",
    "        # print(\"Runde\", j)\n",
    "        for i in range(1,len(liste)-j):\n",
    "            vergleiche +=1\n",
    "            if liste[i] < liste[i-1]:\n",
    "                temp = liste[i-1]\n",
    "                liste[i-1] = liste[i]\n",
    "                liste[i] = temp\n",
    "    print(\"Anzahl Vergleiche:\", vergleiche)\n",
    "    return vergleiche\n",
    "    #print(liste)\n",
    "    \n",
    "bubblesort1(liste)"
   ]
  },
  {
   "cell_type": "markdown",
   "metadata": {},
   "source": [
    "### Zweite Optimierung\n",
    "\n",
    "Es ist noch eine weitere Optimierung möglich, denn aufgrund des häufigen Vertauschens zweier benachbarter Elemente kann es durchaus vorkommen, dass die Liste bereits vor dem letzten Durchgang sortiert ist. Vor allem wenn eine Liste fast sortiert ist\n",
    "\n",
    "Überlegen Sie sich, wie Sie dies überprüfen könnten und setzten Sie diese Optimierung in einer neuen Funktion namens `bubblesort2()` um, welche die Anzahl Vergleiche zurückgibt, die ausgeführt werden."
   ]
  },
  {
   "cell_type": "code",
   "execution_count": 5,
   "metadata": {},
   "outputs": [],
   "source": [
    "# Ihr Code..."
   ]
  },
  {
   "cell_type": "code",
   "execution_count": 6,
   "metadata": {},
   "outputs": [
    {
     "name": "stdout",
     "output_type": "stream",
     "text": [
      "--> Fertig nach Runde 927\n",
      "Anzahl Vergleiche: 496944\n"
     ]
    },
    {
     "data": {
      "text/plain": [
       "496944"
      ]
     },
     "execution_count": 6,
     "metadata": {},
     "output_type": "execute_result"
    }
   ],
   "source": [
    "# Lösung:\n",
    "import random\n",
    "\n",
    "liste = [x for x in range(1000)]\n",
    "random.shuffle(liste)\n",
    "#print(liste)\n",
    "\n",
    "# Bubblesort\n",
    "def bubblesort2(liste):\n",
    "    vergleiche = 0\n",
    "    for j in range(0,len(liste)-1):\n",
    "        # print(\"Runde\", j)\n",
    "        swaps = 0\n",
    "        for i in range(1,len(liste)-j):\n",
    "            vergleiche += 1\n",
    "            if liste[i] < liste[i-1]:\n",
    "                swaps +=1\n",
    "                temp = liste[i-1]\n",
    "                liste[i-1] = liste[i]\n",
    "                liste[i] = temp\n",
    "        if swaps == 0:\n",
    "            print(\"--> Fertig nach Runde\", j)\n",
    "            break\n",
    "    #print(liste)\n",
    "\n",
    "    print(\"Anzahl Vergleiche:\", vergleiche)\n",
    "    return vergleiche\n",
    "    #print(liste)\n",
    "\n",
    "bubblesort2(liste)"
   ]
  },
  {
   "cell_type": "markdown",
   "metadata": {},
   "source": [
    "## Vergleiche\n",
    "\n",
    "Wenn Algorithmen bezüglich Effizienz untersucht werden, wird verglichen, wie sie mit verschiedenen Eingabekonstellationen zurechtkommen. Dazu dienen in der Regel extreme und \"normale\" Ausgangslagen.\n",
    "\n",
    "Als Extreme werden für Sortieralgorithmen sortierte und umgekehrt sortierte Listen (beste und schlechteste Ausgangslage) verwendet, sowie eine zufällige Liste als normale Ausgangslage.\n",
    "\n",
    "**Aufgabe**\n",
    "\n",
    "Erstellen Sie drei Funktionen `sortierte_liste`, `umgekehrt_sortierte_liste`, `zufaellige_liste`, die jeweils die Anzahl Elemente entgegennehmen und die entsprechende Liste aus aufeinanderfolgenden Ganzzahlen ab Null enthalten.\n",
    "\n",
    "<details>\n",
    "    <summary>\n",
    "        Hinweis\n",
    "    </summary>\n",
    "\n",
    "Mit der Funktion `random.shuffle()` lassen sich Elemente einer Liste mischen.\n",
    "    \n",
    "</details>"
   ]
  },
  {
   "cell_type": "code",
   "execution_count": 7,
   "metadata": {},
   "outputs": [],
   "source": [
    "# Ihr Code..."
   ]
  },
  {
   "cell_type": "code",
   "execution_count": 8,
   "metadata": {},
   "outputs": [
    {
     "name": "stdout",
     "output_type": "stream",
     "text": [
      "Sortierte Liste: [0, 1, 2, 3, 4, 5, 6, 7, 8, 9]\n",
      "Umgekehrt sortierte Liste: [10, 9, 8, 7, 6, 5, 4, 3, 2, 1]\n",
      "Normale Liste: [9, 7, 1, 6, 4, 0, 3, 8, 5, 2]\n"
     ]
    }
   ],
   "source": [
    "# Lösung:\n",
    "import random\n",
    "\n",
    "def sortierte_liste(anzahl_elemente):\n",
    "    return [x for x in range(anzahl_elemente)]\n",
    "\n",
    "def umgekehrt_sortierte_liste(anzahl_elemente):\n",
    "    return [anzahl_elemente - x for x in range(anzahl_elemente)]\n",
    "\n",
    "def normale_liste(anzahl_elemente):\n",
    "    liste = [x for x in range(anzahl_elemente)]\n",
    "    random.shuffle(liste) \n",
    "    return liste\n",
    "\n",
    "print(\"Sortierte Liste:\", sortierte_liste(10))\n",
    "print(\"Umgekehrt sortierte Liste:\", umgekehrt_sortierte_liste(10))\n",
    "print(\"Normale Liste:\", normale_liste(10))"
   ]
  },
  {
   "cell_type": "markdown",
   "metadata": {},
   "source": [
    "Nun können Sie Ihre Implementationen vergleichen.\n",
    "\n",
    "**Aufgabe**\n",
    "\n",
    "Wenden Sie Ihre drei Algorithmen jeweils auf die drei Ausgangslagen an und erstellen Sie eine Tabelle, die den Vergleich sichtbar macht."
   ]
  },
  {
   "cell_type": "code",
   "execution_count": 9,
   "metadata": {},
   "outputs": [],
   "source": [
    "# Ihr Code..."
   ]
  },
  {
   "cell_type": "code",
   "execution_count": 10,
   "metadata": {},
   "outputs": [
    {
     "name": "stdout",
     "output_type": "stream",
     "text": [
      "Anzahl Vergleiche: 999000\n",
      "Anzahl Vergleiche: 999000\n",
      "Anzahl Vergleiche: 999000\n",
      "Anzahl Vergleiche: 499500\n",
      "Anzahl Vergleiche: 499500\n",
      "Anzahl Vergleiche: 499500\n",
      "--> Fertig nach Runde 0\n",
      "Anzahl Vergleiche: 999\n",
      "--> Fertig nach Runde 959\n",
      "Anzahl Vergleiche: 498720\n",
      "Anzahl Vergleiche: 499500\n",
      "VERGLEICH\n",
      "['Funktion', 'sortiert', 'zufaellig', 'umgekehrt sortiert']\n",
      "['bubblesort0', 999000, 999000, 999000]\n",
      "['bubblesort1', 499500, 499500, 499500]\n",
      "['bubblesort2', 999, 498720, 499500]\n"
     ]
    }
   ],
   "source": [
    "# Lösung:\n",
    "anzahl_elemente = 1000\n",
    "\n",
    "ausgabe = [[\"Funktion\", \"sortiert\", \"zufaellig\", \"umgekehrt sortiert\"],\n",
    "           [\"bubblesort0\", bubblesort0(sortierte_liste(anzahl_elemente)), bubblesort0(normale_liste(anzahl_elemente)), bubblesort0(umgekehrt_sortierte_liste(anzahl_elemente))],\n",
    "           [\"bubblesort1\", bubblesort1(sortierte_liste(anzahl_elemente)), bubblesort1(normale_liste(anzahl_elemente)), bubblesort1(umgekehrt_sortierte_liste(anzahl_elemente))],\n",
    "           [\"bubblesort2\", bubblesort2(sortierte_liste(anzahl_elemente)), bubblesort2(normale_liste(anzahl_elemente)), bubblesort2(umgekehrt_sortierte_liste(anzahl_elemente))],\n",
    "          ]\n",
    "\n",
    "print(\"VERGLEICH\")\n",
    "for i in range(len(ausgabe)):\n",
    "    print(ausgabe[i])"
   ]
  },
  {
   "cell_type": "markdown",
   "metadata": {},
   "source": [
    "# Hat es sich gelohnt?\n",
    "\n",
    "Schauen Sie sich [diesen Clip](https://www.youtube.com/watch?v=koMpGeZpu4Q) an.  \n",
    "\n",
    "Wie Sie sehen, haben Sie mit diesen Optimierungen die Hälfte der Vergleiche herausgeholt und sparen in guten Fällen sogar noch etwas mehr ein. Bei beinahe sortierten Listen gewinnen Sie am meisten. In diesem Fall kann es Ihr Bubblesort durchaus mit anderen Sortieralgorithmen aufnehmen, aber in den meisten Fällen ist er nicht der Algorithmus der Wahl, denn es gibt es noch einige effizientere Sortieralgorithmen. Positiv am Bubblesort-Algorithmus ist, dass praktisch kein zusätzlicher Speicherbedarf anfällt. Es gibt andere Sortieralgorithmen, die zwar sehr schnell sind, aber viel Speicher brauchen.\n",
    "\n",
    "Bei Interesse können Sie [hier](https://www.toptal.com/developers/sorting-algorithms) einen Vergleich finden."
   ]
  },
  {
   "cell_type": "code",
   "execution_count": null,
   "metadata": {},
   "outputs": [],
   "source": []
  }
 ],
 "metadata": {
  "kernelspec": {
   "display_name": "Python 3",
   "language": "python",
   "name": "python3"
  },
  "language_info": {
   "codemirror_mode": {
    "name": "ipython",
    "version": 3
   },
   "file_extension": ".py",
   "mimetype": "text/x-python",
   "name": "python",
   "nbconvert_exporter": "python",
   "pygments_lexer": "ipython3",
   "version": "3.8.5"
  }
 },
 "nbformat": 4,
 "nbformat_minor": 4
}
