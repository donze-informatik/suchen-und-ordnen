{
 "cells": [
  {
   "cell_type": "markdown",
   "metadata": {},
   "source": [
    "# Arrays\n",
    "\n",
    "Arrays sind eine Datenstruktur, die es erlaubt, mehrere Elemente unter demselben Bezeichner abzulegen. Im Gegensatz dazu kann eine Variable genau einen Wert enthalten.\n",
    "\n",
    "Sie können sich Arrays vorstellen wie eine Schublade mit mehreren Fächern. Auf diese Fächer können Sie zugreifen und deren Inhalte auslesen oder verändern. Der Zugriff auf die einzelnen Elemente des Arrays erfolgt über Indizes, wobei das erste Element in den meisten Sprachen den Index 0 hat.\n",
    "\n",
    "Ein Array wird in eckigen Klammern geschrieben.\n",
    "\n",
    "## Arrays in Python: Listen\n",
    "\n",
    "Die Sprache Python bietet anstelle der üblichen Arrays **Listen** an. \n",
    "\n",
    "*In diesem Kurs wird von **Listen** gesprochen, wenn es darum geht, etwas konkret in Python umzusetzen. Sobald generell (ohne konkrete Umsetzung in Python) über Anwendungen gesprochen wird, wird der Begriff **Array** verwendet*.\n",
    "\n",
    "Speziell daran ist, dass sie Elemente verschiedener Datentypen enthalten dürfen, was in den meisten Sprachen nicht erlaubt ist. Ausserdem kann mit Listen nicht gerechnet werden. Es gibt aber Bibliotheken, die Arrays zur Verfügung stellen, mit denen gerechnet werden kann. Diese werden hier noch nicht verwendet.\n",
    "\n",
    "Merken Sie sich einfach folgendes:\n",
    "\n",
    "**In Python werden Arrays Listen genannt. Sie enthalten eine Sammlung von Elementen, die verändert werden kann.\n",
    "Die Elemente einer Liste müssen nicht zwingend vom gleichen Datentyp sein.**\n",
    "\n",
    "### Beispiele\n",
    "\n",
    "* Alphabet:  \n",
    "  ```Python \n",
    "  alphabet = [\"a\", \"b\", \"c\", \"d\", \"e\", \"f\", \"g\", \"h\", \"i\", \"j\", \"k\", \"l\", \"m\", \"n\", \"o\", \"p\", \"q\", \"r\", \"s\", \"t\", \"u\", \"v\", \"w\", \"x\", \"y\", \"z\"]\n",
    "```\n",
    "* Fünferreihe:  \n",
    "```Python \n",
    "fuenferreihe = [5, 10, 15, 20, 25, 30, 35, 40, 45, 50]\n",
    "```\n",
    "* Brüche ($\\frac{1}{2}$ bis $\\frac{1}{10}$) als Fliesskommazahlen:\n",
    "```Python \n",
    "alphabet = [0.5, 0.333, 0.25, 0.2, 0.1667, 0.143, 0.125, 0.111, 0.1]\n",
    "```\n",
    "* Aber auch das ist erlaubt:\n",
    "```Python \n",
    "bill_gates_geburtstag = [28, \"Oktober\", 1955]\n",
    "alan_turings_geburtstag = [23, \"Juni\", 1912]\n",
    "```"
   ]
  },
  {
   "cell_type": "markdown",
   "metadata": {},
   "source": [
    "### Erstellen einer Liste\n",
    "\n",
    "Listen werden mit eckigen Klammern geschrieben, die Elemente werden durch Kommata separiert.\n",
    "\n",
    "Die Namen (Bezeichner) der Listen fangen mit Kleinbuchstaben an. Das ist zwar nicht zwingend, aber da Ihr Code lesbar sein soll, sollten Sie sich von Anfang daran halten.\n",
    "\n",
    "**Aufgabe**\n",
    "\n",
    "Erstellen Sie eine Liste namens `dreierreihe`, welche die ersten zehn Elemente der Dreierreihe enthält.\n",
    "\n",
    "<details>\n",
    "   <summary>Hinweis 1</summary>\n",
    "\n",
    "Listen sind zwar keine Variablen, werden aber ebenfalls durch einen Bezeichner benannt. Diesem sind anstelle eines einzelnen Werts eine Sammlung von Elementen zugeordnet. </details>\n",
    "\n",
    "<details>\n",
    "   <summary>Hinweis 2</summary>\n",
    "\n",
    "Eine Listen namens `erste_buchstaben`, welche die Elemente \"A\" und \"B\" enthält, würde wie folgt erstellt:\n",
    "    \n",
    "```Python\n",
    "    erste_buchstaben = [\"A\", \"B\"]\n",
    "```\n",
    "</details>"
   ]
  },
  {
   "cell_type": "code",
   "execution_count": 1,
   "metadata": {},
   "outputs": [],
   "source": [
    "# Ihr Code"
   ]
  },
  {
   "cell_type": "code",
   "execution_count": 2,
   "metadata": {},
   "outputs": [],
   "source": [
    "# Lösung\n",
    "dreierreihe = [3, 6, 9, 12, 15, 18, 21, 24, 27, 30]"
   ]
  },
  {
   "cell_type": "markdown",
   "metadata": {},
   "source": [
    "### Ausgabe einer Liste\n",
    "\n",
    "Listen können mit der Funktion `print()` ausgegeben werden.\n",
    "\n",
    "**Aufgabe**\n",
    "\n",
    "Geben Sie Ihre Liste `dreierreihe` aus."
   ]
  },
  {
   "cell_type": "code",
   "execution_count": 3,
   "metadata": {},
   "outputs": [],
   "source": [
    "print(dreierreihe)"
   ]
  },
  {
   "cell_type": "markdown",
   "metadata": {},
   "source": [
    "### Leere Liste\n",
    "\n",
    "Eine Liste muss nicht zwingend ein Element enthalten.\n",
    "\n",
    "*Eine Liste, die kein Element enthält ist per Definition leer.*\n",
    "\n",
    "**Aufgabe**\n",
    "\n",
    "Erstellen Sie eine leere Liste namens `leere_liste` und geben Sie sie aus."
   ]
  },
  {
   "cell_type": "code",
   "execution_count": 4,
   "metadata": {},
   "outputs": [],
   "source": [
    "# Ihr Code"
   ]
  },
  {
   "cell_type": "code",
   "execution_count": 5,
   "metadata": {},
   "outputs": [],
   "source": [
    "# Lösung\n",
    "leere_liste = []\n",
    "\n",
    "print(leere_liste)"
   ]
  },
  {
   "cell_type": "markdown",
   "metadata": {},
   "source": [
    "### Länge einer Liste\n",
    "\n",
    "Die Funktion `len()` gibt die Länge einer Liste zurück.\n",
    "\n",
    "Eine leere Liste hat die Länge 0.\n",
    "\n",
    "**Aufgabe**\n",
    "\n",
    "Überprüfen Sie die Längen der bisher erstellten Listen `dreierreihe` und `leere_liste`. Welche Ausgaben erwarten Sie? Schreiben Sie sie entweder als Kommentar neben den Code, machen Sie eine Zelle oder schreiben Sie ans Ende dieser Zelle.\n",
    "\n",
    "Nutzen Sie die Funktion `print()`, um die Längen auszugeben."
   ]
  },
  {
   "cell_type": "code",
   "execution_count": 6,
   "metadata": {},
   "outputs": [],
   "source": [
    "# Ihr Code"
   ]
  },
  {
   "cell_type": "code",
   "execution_count": 7,
   "metadata": {},
   "outputs": [],
   "source": [
    "# Lösung\n",
    "\n",
    "# Die leere Liste sollte eine Länge von 0 haben\n",
    "print(len(leere_liste))\n",
    "\n",
    "# Die Liste dreierreihe sollte eine Länge von 10 haben\n",
    "print(len(dreierreihe))"
   ]
  },
  {
   "cell_type": "markdown",
   "metadata": {},
   "source": [
    "### Aufgabe\n",
    "\n",
    "Erstellen Sie eine Liste `monate`, welche die Namen der Monate enthält und geben Sie sie aus.\n",
    "\n",
    "Die Ausgabe soll folgendermassen aussehen:\n",
    "\n",
    "\\['Januar', 'Februar', 'März', 'April', 'Mai', 'Juni', 'Juli', 'August', 'September', 'Oktober', 'November', 'Dezember'\\]\n",
    "\n",
    "\n",
    "<details>\n",
    "    <summary>Hinweis</summary>\n",
    "\n",
    "Überlegen Sie sich, welchen Datentyp Sie für die Monatsnamen verwenden müssen.\n",
    "</details>"
   ]
  },
  {
   "cell_type": "code",
   "execution_count": 8,
   "metadata": {},
   "outputs": [],
   "source": [
    "# Ihr Code"
   ]
  },
  {
   "cell_type": "code",
   "execution_count": 9,
   "metadata": {},
   "outputs": [],
   "source": [
    "# Lösung\n",
    "\n",
    "# Bedenken Sie, dass Sie \n",
    "monate = [\"Januar\", \"Februar\", \"März\", \"April\", \"Mai\", \"Juni\", \"Juli\", \"August\", \"September\", \"Oktober\", \"November\", \"Dezember\"]\n",
    "\n",
    "# Die Liste dreierreihe sollte eine Länge von 10 haben\n",
    "print(monate)"
   ]
  },
  {
   "cell_type": "markdown",
   "metadata": {},
   "source": [
    "### Indizes\n",
    "\n",
    "Der **Zugriff auf Elemente einer Liste** erfolgt über Indizes. \n",
    "\n",
    "Das erste Element einer Liste `liste` hat den Index 0, das letzte den Index `len(liste)-1`.\n",
    "\n",
    "**Aufgabe**\n",
    "\n",
    "Geben Sie den ersten und den letzten Monat aus, indem Sie den folgenden Code ergänzen:"
   ]
  },
  {
   "cell_type": "code",
   "execution_count": 10,
   "metadata": {},
   "outputs": [],
   "source": [
    "# Ergänzen Sie den folgenden Code:\n",
    "\n",
    "erster_monat = ''\n",
    "letzter_monat = ''\n",
    "\n",
    "print(\"Das Jahr geht von\", erster_monat, \"bis\", letzter_monat + \".\")\n"
   ]
  },
  {
   "cell_type": "code",
   "execution_count": 11,
   "metadata": {},
   "outputs": [],
   "source": [
    "# Lösung\n",
    "\n",
    "erster_monat = monate[0]\n",
    "letzter_monat = monate[len(monate)-1]\n",
    "\n",
    "print(\"Das Jahr geht von\", erster_monat, \"bis\", letzter_monat + \".\")\n"
   ]
  },
  {
   "cell_type": "markdown",
   "metadata": {},
   "source": [
    "### Zugriff vom Ende der Liste her\n",
    "\n",
    "Es ist auch möglich, mittels negativen Indizes von hinten her auf eine Liste zuzugreifen.\n",
    "\n",
    "Dabei entspricht das letzte Listenelement dem Index `-1`.\n",
    "\n",
    "```Python\n",
    "letzter_monat = monate[-1]\n",
    "print(letzter_monat)\n",
    "```\n",
    "Führt zur Ausgabe: `Dezember`."
   ]
  },
  {
   "cell_type": "code",
   "execution_count": 12,
   "metadata": {},
   "outputs": [],
   "source": [
    "# Probieren Sie es aus..."
   ]
  },
  {
   "cell_type": "markdown",
   "metadata": {},
   "source": [
    "### Zugriff auf Bereiche einer Liste mittels Teilbereichsoperator [start:stop:step]\n",
    "\n",
    "Es ist auch möglich, auf Bereiche einer Liste zuzugreifen. Listen lassen sich mit ':' aufteilen (splitten). Man spricht dabei auch von \"Slicing\".\n",
    "\n",
    "Der Teilbereichsoperator verwendet Defaultwerte (Standardwerte, die verwendet werden, wenn nichts anderes angegeben ist). Ist nichts angeben wird die ganze Liste mit einer Schrittlänge von `step=1` ausgegeben. `start` entspricht somit dem Index 0, `stop` der Länge. Somit entspricht `liste[:]`der ganzen Liste.\n",
    "\n",
    "\n",
    "\n",
    "Am Beispiel der Monate:\n",
    "\n",
    "* alle Monate:\n",
    "  ```Python \n",
    "  print(monate[:]) \n",
    "  ```  \n",
    "  Ausgabe: \\['Januar', 'Februar', 'März', 'April', 'Mai', 'Juni', 'Juli', 'August', 'September', 'Oktober', 'November', 'Dezember'\\]\n",
    "  \n",
    "* die zweite Jahreshälfte:  \n",
    "  ```Python \n",
    "  print(monate[len(monate)//2:]) \n",
    "  ```  \n",
    "  Ausgabe: \\['Juli', 'August', 'September', 'Oktober', 'November', 'Dezember'\\]\n",
    "\n",
    "**Aufgabe**\n",
    "\n",
    "Geben Sie die verlangten Teile Ihrer Liste `monate` mit der Funktion `print()` aus:\n",
    "\n",
    "a) Monate mit Jahreszeitwechsel:\n"
   ]
  },
  {
   "cell_type": "code",
   "execution_count": 13,
   "metadata": {},
   "outputs": [],
   "source": [
    "# Ihr Code"
   ]
  },
  {
   "cell_type": "code",
   "execution_count": 14,
   "metadata": {},
   "outputs": [
    {
     "data": {
      "text/plain": [
       "['März', 'Juni', 'September', 'Dezember']"
      ]
     },
     "execution_count": 14,
     "metadata": {},
     "output_type": "execute_result"
    }
   ],
   "source": [
    "# Lösung Angefangen beim 3. Monat gibt es alle 3 Monate einen Jahreszeitenwechsel:\n",
    "monate[2::3]"
   ]
  },
  {
   "cell_type": "markdown",
   "metadata": {},
   "source": [
    "b) Jeden zweiten Monat, aber die mit den ungeraden Indizes:"
   ]
  },
  {
   "cell_type": "code",
   "execution_count": 15,
   "metadata": {},
   "outputs": [],
   "source": [
    "# Ihr Code"
   ]
  },
  {
   "cell_type": "code",
   "execution_count": 16,
   "metadata": {},
   "outputs": [
    {
     "data": {
      "text/plain": [
       "['Januar', 'März', 'Mai', 'Juli', 'September', 'November']"
      ]
     },
     "execution_count": 16,
     "metadata": {},
     "output_type": "execute_result"
    }
   ],
   "source": [
    "# Lösung Angefangen beim 1. Monat gibt es alle 3 Monate einen Jahreszeitenwechsel:\n",
    "monate[::2]"
   ]
  },
  {
   "cell_type": "markdown",
   "metadata": {},
   "source": [
    "### Iteration (Listendurchlauf) \n",
    "\n",
    "Da die Listenelemente aufsteigend indiziert sind, bietet es sich an, Listen mit Schleifen zu durchlaufen, deren Laufvariablen den Indizes entsprechen. \n",
    "\n",
    "Nicht umsonst wird die Laufvariable oft mit `i` (für Index) bezeichnet...\n",
    "\n",
    "#### Repetition For-Schleife\n",
    "\n",
    "Erinnern Sie sich an die Syntax einer `for`-Schleife:\n",
    "```Python\n",
    "for laufvariable in range (erstes_element, letztes_element):\n",
    "    blabla\n",
    "```\n",
    "\n",
    "Beachten Sie:\n",
    "\n",
    "Die `laufvariable` durchläuft den Bereich `range` vom ersten *bis und ohne* das letzte Element, nimmt also die Werte `erstes_element` bis `letztes_element-1` an.\n",
    "\n",
    "\n",
    "\n",
    "**Aufgabe**\n",
    "\n",
    "Sie haben bereits die Liste `dreierreihe` erstellt. Durchlaufen Sie nun diese Liste (oft spricht man auch davon \"über eine Liste zu iterieren\") und geben Sie jedes Element aus."
   ]
  },
  {
   "cell_type": "code",
   "execution_count": 17,
   "metadata": {},
   "outputs": [],
   "source": [
    "# Ihr Code"
   ]
  },
  {
   "cell_type": "code",
   "execution_count": 18,
   "metadata": {},
   "outputs": [
    {
     "name": "stdout",
     "output_type": "stream",
     "text": [
      "3\n",
      "6\n",
      "9\n",
      "12\n",
      "15\n",
      "18\n",
      "21\n",
      "24\n",
      "27\n",
      "30\n"
     ]
    }
   ],
   "source": [
    "# Lösung\n",
    "\n",
    "for i in range(0, len(dreierreihe)):\n",
    "    print(dreierreihe[i])"
   ]
  },
  {
   "cell_type": "markdown",
   "metadata": {},
   "source": [
    "### Erstellen einer Liste mit Einheitswerten\n",
    "\n",
    "Oft ist es nützlich eine Liste mit einer vorgegeben Länge zu erstellen und diese mit Einheitswerten, beispielsweise Nullen, zu initialisieren.\n",
    "\n",
    "Dazu machen Sie sich den Listendurchlauf zunutze:\n",
    "\n",
    "```Python\n",
    "nullen = [0 for x in range(10)]\n",
    "print(zehn_nullen)\n",
    "```\n",
    "erstellt eine Liste mit zehn Nullen:\n",
    "\\[0, 0, 0, 0, 0, 0, 0, 0, 0, 0\\]\n",
    "\n",
    "erstellt eine Liste mit Namen `nullen`, die 10 Nullen enthält. (`for x in range(10)` bedeutet, dass die Laufvariable $x$ alle Werte von 0 bis und ohne 10 annimmt).\n",
    "\n",
    "Dieses Vorgehen wird Listenabstraktion (List Comprehension) genannt und eignet sich besonders zum Erstellen grosser Listen.\n",
    "\n",
    "**Aufgabe**\n",
    "\n",
    "Erstellen Sie eine Liste, die fünfmal Ihre Lieblingszahl enthält."
   ]
  },
  {
   "cell_type": "code",
   "execution_count": 19,
   "metadata": {},
   "outputs": [],
   "source": [
    "# Ihr Code"
   ]
  },
  {
   "cell_type": "code",
   "execution_count": 20,
   "metadata": {},
   "outputs": [
    {
     "name": "stdout",
     "output_type": "stream",
     "text": [
      "[42, 42, 42, 42, 42]\n"
     ]
    }
   ],
   "source": [
    "# Lösung\n",
    "\n",
    "lieblingszahl = [42 for x in range (5)]\n",
    "print(lieblingszahl)"
   ]
  },
  {
   "cell_type": "markdown",
   "metadata": {},
   "source": [
    "### Erstellen einer Liste mit Werten, die anhand einer Funktion ermittelt werden\n",
    "\n",
    "Listenabstraktionen sind vor allem auch hilfreich, wenn die Liste Elemente enthalten soll, welche mit einer Funktion erstellt werden können.\n",
    "\n",
    "Anstelle des Einheitswertes kann auch eine Funktion verwenden werden, mit der die Listenwerte erstellt werden.\n",
    "\n",
    "Eine aufsteigende Liste \n",
    "```Python\n",
    "aufsteigend = [x for x in range(10)]\n",
    "print(zehn_nullen)\n",
    "```\n",
    "erstellt eine Liste mit den Zahlen von 0 bis und ohne 10:\n",
    "\\[0, 1, 2, 3, 4, 5, 6, 7, 8, 9\\]\n",
    "\n",
    "**Aufgabe**\n",
    "\n",
    "Sortieralgorithmen möchte man oft auch an Arrays testen, die entweder dem Idealfall entsprechen (also sortiert sind) oder die schlimmstmögliche Ausgangslage darstellen (also umgekehrt sortiert sind: nicht zwei Elemente innerhalb des Arrays sind sortiert).\n",
    "\n",
    "Erstellen Sie eine absteigende Liste `absteigend`, die ebenfalls 10 Elemente enthält und geben Sie sie mit der `print()`-Funktion aus.\n",
    "\n",
    "<details>\n",
    "    <summary>Hinweis</summary>\n",
    "\n",
    "    Im Beispiel sehen Sie, wie eine aufsteigende Liste generiert wird: für jedes Element entspricht der Wert dem Index `x`.\n",
    "</details>"
   ]
  },
  {
   "cell_type": "code",
   "execution_count": 21,
   "metadata": {},
   "outputs": [],
   "source": [
    "# Ihr Code"
   ]
  },
  {
   "cell_type": "code",
   "execution_count": 22,
   "metadata": {},
   "outputs": [
    {
     "name": "stdout",
     "output_type": "stream",
     "text": [
      "[9, 8, 7, 6, 5, 4, 3, 2, 1, 0]\n"
     ]
    }
   ],
   "source": [
    "# Lösung\n",
    "\n",
    "absteigend = [9-x for x in range (10)]\n",
    "print(absteigend)"
   ]
  },
  {
   "cell_type": "markdown",
   "metadata": {},
   "source": [
    "### Strings\n",
    "\n",
    "Strings, also Zeichenketten, verhalten sich genauso wie Listen.\n",
    "\n",
    "Dies ist interessant, da es dadurch möglich ist, auf einzelne Buchstaben (Elemente) des Strings zuzugreifen. Der erste Buchstabe ist wie bei der Liste am Index 0.\n",
    "\n",
    "Das folgende Beispiel gibt eine Initiale aus.\n",
    "\n",
    "```Python\n",
    "mein_name = \"\"\n",
    "meine_initiale = mein_name[0]\n",
    "print(meine_initiale)\n",
    "```\n",
    "**Aufgabe**\n",
    "\n",
    "Fragen Sie die Benutzerin (den Benutzer) nach seinem (ihrem) Namen und geben Sie anschliessend die Initiale aus."
   ]
  },
  {
   "cell_type": "code",
   "execution_count": 23,
   "metadata": {},
   "outputs": [],
   "source": [
    "# Ihr Code"
   ]
  },
  {
   "cell_type": "code",
   "execution_count": 24,
   "metadata": {},
   "outputs": [
    {
     "name": "stdout",
     "output_type": "stream",
     "text": [
      "Dein Name: Alessandra\n",
      "Deine Initiale: A\n"
     ]
    }
   ],
   "source": [
    "name = input(\"Dein Name: \")\n",
    "initiale = name[0]\n",
    "print(\"Deine Initiale:\", initiale)"
   ]
  },
  {
   "cell_type": "markdown",
   "metadata": {},
   "source": [
    "Auch die Länge eines Wortes oder eines Satzes lässt sich wie im Falle der Liste mit der Funktion `len()` ermitteln."
   ]
  },
  {
   "cell_type": "markdown",
   "metadata": {},
   "source": [
    "**Zusatzinformation zu Strings**\n",
    "\n",
    "Mit den Funktionen `upper()` und `lower()` können Buchstaben in Gross- bzw. Kleinschreibung umgewandelt werden. Dies hat zwar nichts mit Listen zu tun, kann aber hilfreich sein, beispielsweise, wenn Sie sicherstellen möchten, dass jedes Wort grossgeschrieben ist.\n",
    "\n",
    "Die Funktionen `isupper()` und `islower()` liefern Booleans zurück, die sagen, ob es sich um einen Gross- bzw. Kleinbuchstaben handelt.\n",
    "\n",
    "```Python\n",
    "zeichen1 = \"a\"\n",
    "zeichen1.isupper()  # gibt False zurück\n",
    "zeichen1.islower()  # gibt True zurück\n",
    "zeichen1.upper()    # ändert den Inhalt der Variable zeichen1 auf `A`\n",
    "\n",
    "zeichen2 = \"B\"\n",
    "zeichen2.isupper()  # gibt True zurück\n",
    "zeichen2.islower()  # gibt False zurück\n",
    "zeichen2.lower()    # ändert den Inhalt der Variable zeichen2 auf `b`\n",
    "```"
   ]
  },
  {
   "cell_type": "code",
   "execution_count": 25,
   "metadata": {},
   "outputs": [],
   "source": [
    "liste = [1, 2, [], 5]"
   ]
  },
  {
   "cell_type": "markdown",
   "metadata": {},
   "source": [
    "## Weiterführende Informationen\n",
    "\n",
    "Zu Arrays und insbesondere auch zu Listen in Python gibt es noch viel zu sagen.\n",
    "\n",
    "### Einfügen und Löschen von Listenelementen\n",
    "\n",
    "Es ist möglich, Listenelemente einzufügen oder zu löschen.\n",
    "\n",
    "Hierzu können Sie die folgenden Funktionen verwenden:\n",
    "* `append()`: Fügt ein Element ans Ende der Liste an\n",
    "* `pop(index)`: \n",
    "* `insert(element, index)` Fügt ein Element an der Stelle index in die Liste ein"
   ]
  },
  {
   "cell_type": "code",
   "execution_count": 26,
   "metadata": {},
   "outputs": [
    {
     "name": "stdout",
     "output_type": "stream",
     "text": [
      "['Montag', 'Dienstag', 'Mittwoch', 'Donnerstag', 'Freitag', 'Samstag', 'Sonntag']\n"
     ]
    }
   ],
   "source": [
    "wochentage = [\"Montag\", \"Dienstag\", \"Mittwoch\", \"Donnerstag\", \"Freitag\", \"Samstag\", \"Sonntag\"]\n",
    "print(wochentage)"
   ]
  },
  {
   "cell_type": "markdown",
   "metadata": {},
   "source": [
    "Läuft Ihnen auch immer die Zeit davon? \n",
    "\n",
    "Sie möchten sich nun einen Gefallen machen und die Woche um einen Tag verlängern. Dazu fügen Sie am Ende der Liste einen Bonustag ein:"
   ]
  },
  {
   "cell_type": "code",
   "execution_count": 27,
   "metadata": {},
   "outputs": [
    {
     "name": "stdout",
     "output_type": "stream",
     "text": [
      "['Montag', 'Dienstag', 'Mittwoch', 'Donnerstag', 'Freitag', 'Samstag', 'Sonntag', 'Bonustag']\n"
     ]
    }
   ],
   "source": [
    "wochentage.append(\"Bonustag\")\n",
    "print(wochentage)"
   ]
  },
  {
   "cell_type": "markdown",
   "metadata": {},
   "source": [
    "Das Leben ist hart, der Bonustag muss wieder weg, weil er einfach keinen Platz hat in der Woche:"
   ]
  },
  {
   "cell_type": "code",
   "execution_count": 28,
   "metadata": {},
   "outputs": [
    {
     "name": "stdout",
     "output_type": "stream",
     "text": [
      "['Montag', 'Dienstag', 'Mittwoch', 'Donnerstag', 'Freitag', 'Samstag', 'Sonntag']\n"
     ]
    }
   ],
   "source": [
    "wochentage.pop(len(wochentage)-1)\n",
    "print(wochentage)"
   ]
  },
  {
   "cell_type": "markdown",
   "metadata": {},
   "source": [
    "Wie würden denn die Woche aussehen, wenn nach dem Dienstag ein Bonustag eingeschoben würde?"
   ]
  },
  {
   "cell_type": "code",
   "execution_count": 29,
   "metadata": {},
   "outputs": [
    {
     "name": "stdout",
     "output_type": "stream",
     "text": [
      "['Montag', 'Dienstag', 'Bonustag', 'Mittwoch', 'Donnerstag', 'Freitag', 'Samstag', 'Sonntag']\n"
     ]
    }
   ],
   "source": [
    "wochentage.insert(2, \"Bonustag\")\n",
    "print(wochentage)"
   ]
  },
  {
   "cell_type": "markdown",
   "metadata": {},
   "source": [
    "### Elemente von Listen\n",
    "\n",
    "Wie Sie bereits gesehen haben, müssen nicht alle Elemente einer Liste vom gleichen Datentyp sein. Es kommt aber noch dicker, denn es ist in Python auch möglich, dass einzelne (oder sämtliche) Elemente einer Liste selbst Listen beinhalten.\n",
    "\n",
    "Sehen Sie selbst:"
   ]
  },
  {
   "cell_type": "code",
   "execution_count": 30,
   "metadata": {},
   "outputs": [
    {
     "name": "stdout",
     "output_type": "stream",
     "text": [
      "[1, 2, 'a', ['ham', 'spam', 'pram', 42], 1.05, True, ['sowas aber auch!', [], True, 'Das ist tatsächlich erlaubt...']]\n"
     ]
    }
   ],
   "source": [
    "chruesimuesi_liste = [1, 2, \"a\", [\"ham\", \"spam\", \"pram\", 42], 1.05, True, [\"sowas aber auch!\", [], True, \"Das ist tatsächlich erlaubt...\"]]\n",
    "print(chruesimuesi_liste)"
   ]
  },
  {
   "cell_type": "markdown",
   "metadata": {},
   "source": [
    "### Dimensionalität\n",
    "\n",
    "Die Listen, die Sie bisher gesehen haben, waren bis auf das letzte Beispiel eindimensional. Listen können aber auch zwei- oder mehrdimensional sein. Sie werden dies in diesem Kurs nicht sehen, aber das Konzept ist nicht schwierig: In einer zweidimensionalen Liste besteht jedes Element aus einer Liste. Sie können damit eine Art Tabelle darstellen, die reihenweise aufgebaut wird.\n",
    "\n",
    "Da mehrdimensionale Listen hier nicht relevant sind, wird an dieser Stelle nicht weiter darauf eingegangen.\n",
    "\n",
    "\n",
    "### Tupel\n",
    "\n",
    "Wie Listen sind auch Tupel *sequenzielle Datenstrukturen*. \n",
    "\n",
    "Im Gegensatz zu Listen können Sie nicht verändert werden. Sie können sich Tupel wie etwas gedrucktes vorstellen, das nicht veränderbar ist, aber das Sie anschauen können.\n",
    "\n",
    "Die Elemente der Tupel sind wie die Elemente der Liste indiziert, Sie greifen also auf Elemente eines Tupels gleich zu wie auf Elemente einer Liste.\n",
    "\n",
    "Syntaktisch besteht der Unterschied in der Art der Klammern: Tupel werden mit runden Klammern geschrieben:\n",
    "\n",
    "```Python\n",
    "mein_tupel = (1,2,3,4)\n",
    "```\n",
    "\n",
    "`mein_tupel[0]` würde somit 1 ausgeben."
   ]
  },
  {
   "cell_type": "code",
   "execution_count": 31,
   "metadata": {},
   "outputs": [
    {
     "data": {
      "text/plain": [
       "1"
      ]
     },
     "execution_count": 31,
     "metadata": {},
     "output_type": "execute_result"
    }
   ],
   "source": [
    "mein_tupel = (1,2,3,4)\n",
    "mein_tupel[0]"
   ]
  },
  {
   "cell_type": "markdown",
   "metadata": {},
   "source": [
    "### Funktion Enumerate\n",
    "\n",
    "Sehr interessant ist auch die Funktion `enumerate(liste, startindex)`.\n",
    "\n",
    "```Python\n",
    "for index, wert in enumerate(liste, startwert):\n",
    "     print(index, wert)\n",
    "```\n",
    "\n",
    "Der `startindex` ist optional, sein Defaultwert (Standardwert) ist 0.\n",
    "\n",
    "Die Funktion nimmt alle Index-Wert-Paare einer Liste an, beginnend mit dem `startindex`. Probieren Sie es am Beispiel der Monate aus:"
   ]
  },
  {
   "cell_type": "code",
   "execution_count": 32,
   "metadata": {},
   "outputs": [
    {
     "name": "stdout",
     "output_type": "stream",
     "text": [
      "0 Januar\n",
      "1 Februar\n",
      "2 März\n",
      "3 April\n",
      "4 Mai\n",
      "5 Juni\n",
      "6 Juli\n",
      "7 August\n",
      "8 September\n",
      "9 Oktober\n",
      "10 November\n",
      "11 Dezember\n"
     ]
    }
   ],
   "source": [
    "# ohne Startwert werden alle Monate ausgegeben:\n",
    "\n",
    "for index, wert in enumerate(monate):\n",
    "     print(index, wert)"
   ]
  },
  {
   "cell_type": "markdown",
   "metadata": {},
   "source": [
    "Da wir nicht bei Null zu zählen beginnen, könnten Sie `enumerate()` nutzen, um die Indizes zu verschieben. Dazu müssten Sie `enumerate()` mit dem `startindex=1` aufrufen: "
   ]
  },
  {
   "cell_type": "code",
   "execution_count": 33,
   "metadata": {},
   "outputs": [
    {
     "name": "stdout",
     "output_type": "stream",
     "text": [
      "1 Januar\n",
      "2 Februar\n",
      "3 März\n",
      "4 April\n",
      "5 Mai\n",
      "6 Juni\n",
      "7 Juli\n",
      "8 August\n",
      "9 September\n",
      "10 Oktober\n",
      "11 November\n",
      "12 Dezember\n"
     ]
    }
   ],
   "source": [
    "for index, wert in enumerate(monate, 1):\n",
    "     print(index, wert)"
   ]
  },
  {
   "cell_type": "markdown",
   "metadata": {},
   "source": [
    "### Fragen und Ideen\n",
    "\n",
    "* Was passiert, wenn wir einen Wert des Arrays nicht definieren?\n",
    "\n",
    "* Kartenaufgabe (aus dem E.Tutorial, Modul3): ideal zum Vertiefen des Gelernten und Anknüpfen beim Sortierteil\n",
    "\n",
    "* Code und Aufgaben dazu stellen\n",
    "    --> Weg für Multiple Choice finden..."
   ]
  },
  {
   "cell_type": "code",
   "execution_count": null,
   "metadata": {},
   "outputs": [],
   "source": []
  }
 ],
 "metadata": {
  "kernelspec": {
   "display_name": "Python 3",
   "language": "python",
   "name": "python3"
  },
  "language_info": {
   "codemirror_mode": {
    "name": "ipython",
    "version": 3
   },
   "file_extension": ".py",
   "mimetype": "text/x-python",
   "name": "python",
   "nbconvert_exporter": "python",
   "pygments_lexer": "ipython3",
   "version": "3.8.5"
  }
 },
 "nbformat": 4,
 "nbformat_minor": 4
}
