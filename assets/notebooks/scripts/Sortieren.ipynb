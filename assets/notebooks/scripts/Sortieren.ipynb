{
 "cells": [
  {
   "cell_type": "markdown",
   "metadata": {},
   "source": [
    "# Sortieralgorithmen \n",
    "\n",
    "Es gibt zahlreiche Sortieralgorithmen, von denen Sie hier ein paar erkunden können.\n",
    "\n",
    "Schauen Sie sich zum Einstieg den folgenden Videoclip an. Es ist möglich, in den Einstellungen deutsche Untertitel zu aktivieren."
   ]
  },
  {
   "cell_type": "code",
   "execution_count": 2,
   "metadata": {
    "scrolled": true
   },
   "outputs": [
    {
     "data": {
      "text/html": [
       "\n",
       "        <iframe\n",
       "            width=\"560\"\n",
       "            height=\"315\"\n",
       "            src=\"https://www.youtube.com/embed/WaNLJf8xzC4\"\n",
       "            frameborder=\"0\"\n",
       "            allowfullscreen\n",
       "        ></iframe>\n",
       "        "
      ],
      "text/plain": [
       "<IPython.lib.display.IFrame at 0x7fe2eee89340>"
      ]
     },
     "execution_count": 2,
     "metadata": {},
     "output_type": "execute_result"
    }
   ],
   "source": [
    "# Führen Sie diese Zelle aus, um den Videoclip sehen zu können.\n",
    "\n",
    "import IPython\n",
    "\n",
    "IPython.display.IFrame(src=\"https://www.youtube.com/embed/WaNLJf8xzC4\", width=560, height=315)"
   ]
  },
  {
   "cell_type": "markdown",
   "metadata": {},
   "source": [
    "## Linksammlung\n",
    "\n",
    "* [Sortiertänze](https://www.youtube.com/user/AlgoRythmics/videos)\n",
    "* [Effizienz: Vergleich verschiedener Algorithmen](https://www.toptal.com/developers/sorting-algorithms)\n",
    "* [Animationen auf visualgo.net](https://visualgo.net/en/sorting?slide=1)"
   ]
  },
  {
   "cell_type": "markdown",
   "metadata": {},
   "source": [
    "## Bubblesort\n",
    "\n",
    "Bubblesort ist ein sehr berühmter Sortieralgorithmus. Das Prinzip ist recht einfach: Hohe Werte steigen schneller auf als weniger hohe Werte, analog der Luftblasen (\"bubbles\") in einem Glas Mineralwasser, wo grössere Luftblasen ebenfalls schneller aufsteigen.\n",
    "\n",
    "### Algorithmus\n",
    "\n",
    "Schauen Sie sich die folgende Animation von [visualgo.net](https://visualgo.net/en/sorting) an. \n",
    "\n",
    "<video src=\"src/animation_visualgo.mov\" style=\"width:50%\"></video>\n",
    "\n",
    "\n",
    "**Aufgabe**\n",
    "\n",
    "Schreiben Sie den Bubblesort-Algorithmus in eigenen Worten auf.\n",
    "\n",
    "### Implementation\n",
    "\n",
    "Nun möchten Sie ihn implementieren. Dazu benötigen Sie erst einmal eine Liste.\n",
    "\n",
    "**Schritt 1**\n",
    "\n",
    "Wenn Sie Bubblesort implementieren möchten, müssen Sie sich vorher Gedanken dazu machen, wie Sie die Plätze tauschen können.\n",
    "\n",
    "Implementieren Sie einen \"Platztausch\", oft auch \"Swap\" genannt.\n",
    "\n",
    "<details>\n",
    "    <summary>\n",
    "        Hinweis 1\n",
    "    </summary>\n",
    "\n",
    "Überlegen Sie sich, wie Sie zwei Variablen vertauschen können, implementieren Sie den Variabeltausch und machen Sie anschliessend dasselbe für Listenelemente anstelle von Variablen.\n",
    "    \n",
    "</details>\n",
    "\n",
    "<details>\n",
    "    <summary>\n",
    "        Hinweis 2 (nur lesen, falls Sie wirklich nicht weiterkommen)\n",
    "    </summary>\n",
    "\n",
    "Sie haben jederzeit die Möglichkeit, neue Variablen zu erstellen.\n",
    "    \n",
    "Zum Tauschen benötigen Sie eine Hilfsvariable.\n",
    "    \n",
    "</details>"
   ]
  },
  {
   "cell_type": "code",
   "execution_count": 1,
   "metadata": {},
   "outputs": [],
   "source": [
    "# Ihr Code"
   ]
  },
  {
   "cell_type": "code",
   "execution_count": 3,
   "metadata": {},
   "outputs": [
    {
     "name": "stdout",
     "output_type": "stream",
     "text": [
      "[4, 9, 2, 8, 5, 7, 0, 1, 6, 3]\n",
      "[4, 5, 2, 8, 9, 7, 0, 1, 6, 3]\n",
      "[4, 5, 2, 3, 9, 7, 0, 1, 6, 8]\n"
     ]
    }
   ],
   "source": [
    "# Lösung\n",
    "print(liste)\n",
    "index_a = 1\n",
    "index_b = 4\n",
    "# Input prüfen\n",
    "if index_a in range(0, len(liste)) and index_b in range (0, len(liste)):\n",
    "    temp = liste[index_a]\n",
    "    liste[index_a] = liste[index_b]\n",
    "    liste[index_b] = temp\n",
    "else: ## Index existiert nicht: User informieren\n",
    "    print(\"Fehler: Bereich beachten!\")\n",
    "print(liste)\n",
    "\n",
    "\n",
    "# Oder gleich als Funktion:\n",
    "def swap(liste, index_a, index_b):\n",
    "    # Input prüfen\n",
    "    if index_a > 0 and index_b > 0 and index_a < len(liste) and index_b < len(liste):\n",
    "        temp = liste[index_a]\n",
    "        liste[index_a] = liste[index_b]\n",
    "        liste[index_b] = temp\n",
    "        return liste\n",
    "    else: ## User informieren, wenn der Index nicht existiert\n",
    "        print(\"Fehler: Bereich beachten!\")\n",
    "        return\n",
    "liste = swap(liste, 3, 9)\n",
    "print(liste)"
   ]
  },
  {
   "cell_type": "markdown",
   "metadata": {},
   "source": [
    "**Schritt 2**\n",
    "\n",
    "\n",
    "Erstellen Sie eine Liste mit den Werten 0 bis 9 und mischen Sie die Werte mit der Funktion `random.shuffle()`."
   ]
  },
  {
   "cell_type": "code",
   "execution_count": 3,
   "metadata": {},
   "outputs": [],
   "source": [
    "# Ihr Code"
   ]
  },
  {
   "cell_type": "code",
   "execution_count": 2,
   "metadata": {},
   "outputs": [
    {
     "name": "stdout",
     "output_type": "stream",
     "text": [
      "[4, 9, 2, 8, 5, 7, 0, 1, 6, 3]\n"
     ]
    }
   ],
   "source": [
    "# Lösung\n",
    "import random\n",
    "\n",
    "liste = [x for x in range (10)]\n",
    "random.shuffle(liste)\n",
    "print(liste)\n",
    "\n"
   ]
  },
  {
   "cell_type": "markdown",
   "metadata": {},
   "source": [
    "**Schritt 3**\n",
    "\n",
    "Setzen Sie nun den Bubblesort-Algorithmus um, ohne sich Gedanken zur Optimierung zu machen."
   ]
  },
  {
   "cell_type": "code",
   "execution_count": 5,
   "metadata": {},
   "outputs": [],
   "source": [
    "# Bubblesort\n",
    "for i in range(0,len(liste)):\n",
    "    for j in range(1,len(liste)):\n",
    "        if liste[j] < liste[j-1]:\n",
    "            temp = liste[j-1]\n",
    "            liste[j-1] = liste[j]\n",
    "            liste[j] = temp\n",
    "\n",
    "print(liste)"
   ]
  },
  {
   "cell_type": "markdown",
   "metadata": {},
   "source": [
    "**Schritt 4**\n",
    "\n",
    "Gibt es bei Ihrer Lösung unnötige Vergleiche? Versuchen Sie Ihren Bubblesort-Algorithmus zu optimieren."
   ]
  },
  {
   "cell_type": "code",
   "execution_count": 6,
   "metadata": {},
   "outputs": [],
   "source": [
    "# Machen Sie aus dieser Zelle eine Markdownzelle und schreiben Sie Ihre Überlegungen auf."
   ]
  },
  {
   "cell_type": "code",
   "execution_count": 7,
   "metadata": {},
   "outputs": [],
   "source": [
    "# Möglicher erster Schritt:\n",
    "# Da beim Schritt i die hinstersten i Stellen sortiert sind, kann der innere Loop kürzer werden\n",
    "for i in range(0,len(liste)):\n",
    "    for j in range(1,len(liste)-i):\n",
    "        if liste[j] < liste[j-1]:\n",
    "            temp = liste[j-1]\n",
    "            liste[j-1] = liste[j]\n",
    "            liste[j] = temp\n",
    "\n",
    "print(liste)"
   ]
  },
  {
   "cell_type": "markdown",
   "metadata": {},
   "source": [
    "**Schritt 5**\n",
    "\n",
    "Sehen Sie noch einen weiteren Schritt zur Optimierung?\n",
    "\n",
    "Tipp "
   ]
  },
  {
   "cell_type": "code",
   "execution_count": 8,
   "metadata": {},
   "outputs": [],
   "source": [
    "# Mögliche Lösung:\n",
    "# Wenn der ungeordnete Teil nur noch ein Element lang ist, ist dieser ebenfalls geordnet."
   ]
  },
  {
   "cell_type": "code",
   "execution_count": 9,
   "metadata": {},
   "outputs": [],
   "source": [
    "# Bubblesort\n",
    "for i in range(0,len(liste)-1):\n",
    "    anzahl_austausche = 0\n",
    "    for j in range(1,len(liste)):\n",
    "        if liste[j] < liste[j-1]:\n",
    "            temp = liste[j-1]\n",
    "            liste[j-1] = liste[j]\n",
    "            liste[j] = temp\n",
    "            anzahl_austausche += 1\n",
    "    if anzahl_austausche == 0:\n",
    "        print(\"frühzeitig beendet im Durchgang\", i)\n",
    "        break\n",
    "\n",
    "print(liste)"
   ]
  },
  {
   "cell_type": "code",
   "execution_count": null,
   "metadata": {},
   "outputs": [],
   "source": []
  }
 ],
 "metadata": {
  "kernelspec": {
   "display_name": "Python 3",
   "language": "python",
   "name": "python3"
  },
  "language_info": {
   "codemirror_mode": {
    "name": "ipython",
    "version": 3
   },
   "file_extension": ".py",
   "mimetype": "text/x-python",
   "name": "python",
   "nbconvert_exporter": "python",
   "pygments_lexer": "ipython3",
   "version": "3.8.5"
  }
 },
 "nbformat": 4,
 "nbformat_minor": 4
}
